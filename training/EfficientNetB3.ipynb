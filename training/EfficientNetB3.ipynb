{
 "cells": [
  {
   "cell_type": "code",
   "execution_count": 7,
   "id": "4759bf69",
   "metadata": {},
   "outputs": [],
   "source": [
    "import tensorflow as tf\n",
    "from tensorflow.keras import layers, models\n",
    "from tensorflow.keras.applications import EfficientNetB3\n",
    "from tensorflow.keras.applications.efficientnet import preprocess_input"
   ]
  },
  {
   "cell_type": "code",
   "execution_count": 8,
   "id": "ec293afe",
   "metadata": {},
   "outputs": [],
   "source": [
    "dataset_dir = \"../data/new_data\"   \n",
    "IMG_SIZE = 224\n",
    "BATCH_SIZE = 32\n",
    "EPOCHS = 30"
   ]
  },
  {
   "cell_type": "code",
   "execution_count": 9,
   "id": "7a260428",
   "metadata": {},
   "outputs": [
    {
     "name": "stdout",
     "output_type": "stream",
     "text": [
      "Found 9332 files belonging to 34 classes.\n"
     ]
    }
   ],
   "source": [
    "dataset = tf.keras.utils.image_dataset_from_directory(\n",
    "    dataset_dir,\n",
    "    seed=42,\n",
    "    image_size=(IMG_SIZE, IMG_SIZE),\n",
    "    batch_size=BATCH_SIZE\n",
    ")"
   ]
  },
  {
   "cell_type": "code",
   "execution_count": 10,
   "id": "fe18b63c",
   "metadata": {},
   "outputs": [
    {
     "name": "stdout",
     "output_type": "stream",
     "text": [
      "Classes: ['African Violet (Saintpaulia ionantha)', 'Aloe Vera', 'Begonia (Begonia spp.)', 'Birds Nest Fern (Asplenium nidus)', 'Boston Fern (Nephrolepis exaltata)', 'Calathea', 'Cast Iron Plant (Aspidistra elatior)', 'Chinese Money Plant (Pilea peperomioides)', 'Christmas Cactus (Schlumbergera bridgesii)', 'Chrysanthemum', 'Ctenanthe', 'Dracaena', 'Elephant Ear (Alocasia spp.)', 'English Ivy (Hedera helix)', 'Hyacinth (Hyacinthus orientalis)', 'Iron Cross begonia (Begonia masoniana)', 'Jade plant (Crassula ovata)', 'Money Tree (Pachira aquatica)', 'Orchid', 'Parlor Palm (Chamaedorea elegans)', 'Peace lily', 'Poinsettia (Euphorbia pulcherrima)', 'Polka Dot Plant (Hypoestes phyllostachya)', 'Ponytail Palm (Beaucarnea recurvata)', 'Pothos (Ivy arum)', 'Prayer Plant (Maranta leuconeura)', 'Rattlesnake Plant (Calathea lancifolia)', 'Rubber Plant (Ficus elastica)', 'Sago Palm (Cycas revoluta)', 'Schefflera', 'Snake plant (Sanseviera)', 'Tradescantia', 'Tulip', 'Venus Flytrap']\n",
      "34\n"
     ]
    }
   ],
   "source": [
    "class_names = dataset.class_names\n",
    "print(\"Classes:\", class_names)\n",
    "num_classes = len(class_names)\n",
    "print(num_classes)"
   ]
  },
  {
   "cell_type": "code",
   "execution_count": 5,
   "id": "342c5447",
   "metadata": {},
   "outputs": [
    {
     "name": "stdout",
     "output_type": "stream",
     "text": [
      "{'Tulip': 299, 'Hyacinth (Hyacinthus orientalis)': 299, 'Rubber Plant (Ficus elastica)': 291, 'Begonia (Begonia spp.)': 234, 'Chinese Money Plant (Pilea peperomioides)': 299, 'Cast Iron Plant (Aspidistra elatior)': 266, 'Ponytail Palm (Beaucarnea recurvata)': 195, 'Dracaena': 260, 'Christmas Cactus (Schlumbergera bridgesii)': 299, 'Money Tree (Pachira aquatica)': 299, 'Polka Dot Plant (Hypoestes phyllostachya)': 299, 'Schefflera': 299, 'Sago Palm (Cycas revoluta)': 199, 'Chrysanthemum': 208, 'Jade plant (Crassula ovata)': 299, 'Birds Nest Fern (Asplenium nidus)': 290, 'Snake plant (Sanseviera)': 299, 'English Ivy (Hedera helix)': 240, 'Iron Cross begonia (Begonia masoniana)': 263, 'Rattlesnake Plant (Calathea lancifolia)': 299, 'Aloe Vera': 247, 'Peace lily': 299, 'Ctenanthe': 293, 'Boston Fern (Nephrolepis exaltata)': 296, 'Parlor Palm (Chamaedorea elegans)': 299, 'Venus Flytrap': 196, 'African Violet (Saintpaulia ionantha)': 298, 'Prayer Plant (Maranta leuconeura)': 299, 'Calathea': 299, 'Elephant Ear (Alocasia spp.)': 299, 'Poinsettia (Euphorbia pulcherrima)': 299, 'Pothos (Ivy arum)': 242, 'Orchid': 234, 'Tradescantia': 296}\n"
     ]
    }
   ],
   "source": [
    "import numpy as np\n",
    "class_counts = {}\n",
    "for images, labels in dataset:\n",
    "    for label in labels.numpy():\n",
    "        class_counts[label] = class_counts.get(label, 0) + 1\n",
    "print({class_names[k]: v for k,v in class_counts.items()})\n"
   ]
  },
  {
   "cell_type": "code",
   "execution_count": 11,
   "id": "88fca639",
   "metadata": {},
   "outputs": [],
   "source": [
    "def get_dataset_partitions_tf(ds, train_split=0.8, val_split=0.1, test_split=0.1, shuffle=True, shuffle_size=10000):\n",
    "    ds_size = len(ds)\n",
    "    if shuffle:\n",
    "        ds = ds.shuffle(shuffle_size, seed=42)\n",
    "    train_size = int(train_split * ds_size)\n",
    "    val_size = int(val_split * ds_size)\n",
    "    train_ds = ds.take(train_size)\n",
    "    val_ds = ds.skip(train_size).take(val_size)\n",
    "    test_ds = ds.skip(train_size).skip(val_size)\n",
    "    return train_ds, val_ds, test_ds\n",
    "\n",
    "train_ds, val_ds, test_ds = get_dataset_partitions_tf(dataset)"
   ]
  },
  {
   "cell_type": "code",
   "execution_count": 12,
   "id": "b26a8eaf",
   "metadata": {},
   "outputs": [],
   "source": [
    "AUTOTUNE = tf.data.AUTOTUNE\n",
    "train_ds = train_ds.prefetch(buffer_size=AUTOTUNE)\n",
    "val_ds = val_ds.prefetch(buffer_size=AUTOTUNE)\n",
    "test_ds = test_ds.prefetch(buffer_size=AUTOTUNE)\n"
   ]
  },
  {
   "cell_type": "code",
   "execution_count": 13,
   "id": "81eec4d0",
   "metadata": {},
   "outputs": [],
   "source": [
    "data_augmentation = tf.keras.Sequential([\n",
    "    layers.RandomFlip(\"horizontal\"),\n",
    "    layers.RandomRotation(0.1),\n",
    "    layers.RandomZoom(0.2),\n",
    "    layers.RandomContrast(0.1),\n",
    "])\n"
   ]
  },
  {
   "cell_type": "code",
   "execution_count": 14,
   "id": "9cfa0b3a",
   "metadata": {},
   "outputs": [
    {
     "name": "stdout",
     "output_type": "stream",
     "text": [
      "WARNING:tensorflow:Using a while_loop for converting RngReadAndSkip cause there is no registered converter for this op.\n",
      "WARNING:tensorflow:Using a while_loop for converting Bitcast cause there is no registered converter for this op.\n",
      "WARNING:tensorflow:Using a while_loop for converting Bitcast cause there is no registered converter for this op.\n",
      "WARNING:tensorflow:Using a while_loop for converting StatelessRandomUniformV2 cause there is no registered converter for this op.\n",
      "WARNING:tensorflow:Using a while_loop for converting ImageProjectiveTransformV3 cause there is no registered converter for this op.\n",
      "WARNING:tensorflow:Using a while_loop for converting RngReadAndSkip cause there is no registered converter for this op.\n",
      "WARNING:tensorflow:Using a while_loop for converting Bitcast cause there is no registered converter for this op.\n",
      "WARNING:tensorflow:Using a while_loop for converting Bitcast cause there is no registered converter for this op.\n",
      "WARNING:tensorflow:Using a while_loop for converting StatelessRandomUniformV2 cause there is no registered converter for this op.\n",
      "WARNING:tensorflow:Using a while_loop for converting ImageProjectiveTransformV3 cause there is no registered converter for this op.\n",
      "WARNING:tensorflow:Using a while_loop for converting RngReadAndSkip cause there is no registered converter for this op.\n",
      "WARNING:tensorflow:Using a while_loop for converting Bitcast cause there is no registered converter for this op.\n",
      "WARNING:tensorflow:Using a while_loop for converting Bitcast cause there is no registered converter for this op.\n",
      "WARNING:tensorflow:Using a while_loop for converting StatelessRandomUniformFullIntV2 cause there is no registered converter for this op.\n",
      "WARNING:tensorflow:Using a while_loop for converting StatelessRandomGetKeyCounter cause there is no registered converter for this op.\n",
      "WARNING:tensorflow:Using a while_loop for converting StatelessRandomUniformV2 cause there is no registered converter for this op.\n",
      "WARNING:tensorflow:Using a while_loop for converting AdjustContrastv2 cause Input \"contrast_factor\" of op 'AdjustContrastv2' expected to be loop invariant.\n",
      "WARNING:tensorflow:Using a while_loop for converting RngReadAndSkip cause there is no registered converter for this op.\n",
      "WARNING:tensorflow:Using a while_loop for converting Bitcast cause there is no registered converter for this op.\n",
      "WARNING:tensorflow:Using a while_loop for converting Bitcast cause there is no registered converter for this op.\n",
      "WARNING:tensorflow:Using a while_loop for converting StatelessRandomUniformV2 cause there is no registered converter for this op.\n",
      "WARNING:tensorflow:Using a while_loop for converting ImageProjectiveTransformV3 cause there is no registered converter for this op.\n",
      "WARNING:tensorflow:Using a while_loop for converting RngReadAndSkip cause there is no registered converter for this op.\n",
      "WARNING:tensorflow:Using a while_loop for converting Bitcast cause there is no registered converter for this op.\n",
      "WARNING:tensorflow:Using a while_loop for converting Bitcast cause there is no registered converter for this op.\n",
      "WARNING:tensorflow:Using a while_loop for converting StatelessRandomUniformV2 cause there is no registered converter for this op.\n",
      "WARNING:tensorflow:Using a while_loop for converting ImageProjectiveTransformV3 cause there is no registered converter for this op.\n",
      "WARNING:tensorflow:Using a while_loop for converting RngReadAndSkip cause there is no registered converter for this op.\n",
      "WARNING:tensorflow:Using a while_loop for converting Bitcast cause there is no registered converter for this op.\n",
      "WARNING:tensorflow:Using a while_loop for converting Bitcast cause there is no registered converter for this op.\n",
      "WARNING:tensorflow:Using a while_loop for converting StatelessRandomUniformFullIntV2 cause there is no registered converter for this op.\n",
      "WARNING:tensorflow:Using a while_loop for converting StatelessRandomGetKeyCounter cause there is no registered converter for this op.\n",
      "WARNING:tensorflow:Using a while_loop for converting StatelessRandomUniformV2 cause there is no registered converter for this op.\n",
      "WARNING:tensorflow:Using a while_loop for converting AdjustContrastv2 cause Input \"contrast_factor\" of op 'AdjustContrastv2' expected to be loop invariant.\n"
     ]
    }
   ],
   "source": [
    "inputs = layers.Input(shape=(224, 224, 3))\n",
    "x = data_augmentation(inputs)\n",
    "\n",
    "\n",
    "x = preprocess_input(x)\n",
    "\n",
    "# --- Pretrained EfficientNetB3 base ---\n",
    "base_model = EfficientNetB3(\n",
    "    weights=\"imagenet\",\n",
    "    include_top=False,\n",
    "    input_tensor=x\n",
    ")\n",
    "\n",
    "base_model.trainable = False \n"
   ]
  },
  {
   "cell_type": "code",
   "execution_count": 15,
   "id": "f3ec7969",
   "metadata": {},
   "outputs": [],
   "source": [
    "x = layers.GlobalAveragePooling2D()(base_model.output)\n",
    "x = layers.Dropout(0.4)(x)   # regularization\n",
    "outputs = layers.Dense(len(class_names), activation=\"softmax\")(x)\n",
    "\n",
    "model = models.Model(inputs, outputs)\n",
    "\n",
    "# --- Compile ---\n",
    "model.compile(\n",
    "    optimizer=tf.keras.optimizers.Adam(learning_rate=1e-4),  # ✅ lower LR\n",
    "    loss=\"sparse_categorical_crossentropy\",\n",
    "    metrics=[\"accuracy\"]\n",
    ")\n"
   ]
  },
  {
   "cell_type": "code",
   "execution_count": 16,
   "id": "8c8c0b40",
   "metadata": {},
   "outputs": [
    {
     "name": "stdout",
     "output_type": "stream",
     "text": [
      "Epoch 1/15\n",
      "WARNING:tensorflow:Using a while_loop for converting RngReadAndSkip cause there is no registered converter for this op.\n",
      "WARNING:tensorflow:Using a while_loop for converting Bitcast cause there is no registered converter for this op.\n",
      "WARNING:tensorflow:Using a while_loop for converting Bitcast cause there is no registered converter for this op.\n",
      "WARNING:tensorflow:Using a while_loop for converting StatelessRandomUniformV2 cause there is no registered converter for this op.\n",
      "WARNING:tensorflow:Using a while_loop for converting ImageProjectiveTransformV3 cause there is no registered converter for this op.\n",
      "WARNING:tensorflow:Using a while_loop for converting RngReadAndSkip cause there is no registered converter for this op.\n",
      "WARNING:tensorflow:Using a while_loop for converting Bitcast cause there is no registered converter for this op.\n",
      "WARNING:tensorflow:Using a while_loop for converting Bitcast cause there is no registered converter for this op.\n",
      "WARNING:tensorflow:Using a while_loop for converting StatelessRandomUniformV2 cause there is no registered converter for this op.\n",
      "WARNING:tensorflow:Using a while_loop for converting ImageProjectiveTransformV3 cause there is no registered converter for this op.\n",
      "WARNING:tensorflow:Using a while_loop for converting RngReadAndSkip cause there is no registered converter for this op.\n",
      "WARNING:tensorflow:Using a while_loop for converting Bitcast cause there is no registered converter for this op.\n",
      "WARNING:tensorflow:Using a while_loop for converting Bitcast cause there is no registered converter for this op.\n",
      "WARNING:tensorflow:Using a while_loop for converting StatelessRandomUniformFullIntV2 cause there is no registered converter for this op.\n",
      "WARNING:tensorflow:Using a while_loop for converting StatelessRandomGetKeyCounter cause there is no registered converter for this op.\n",
      "WARNING:tensorflow:Using a while_loop for converting StatelessRandomUniformV2 cause there is no registered converter for this op.\n",
      "WARNING:tensorflow:Using a while_loop for converting AdjustContrastv2 cause Input \"contrast_factor\" of op 'AdjustContrastv2' expected to be loop invariant.\n",
      "WARNING:tensorflow:Using a while_loop for converting RngReadAndSkip cause there is no registered converter for this op.\n",
      "WARNING:tensorflow:Using a while_loop for converting Bitcast cause there is no registered converter for this op.\n",
      "WARNING:tensorflow:Using a while_loop for converting Bitcast cause there is no registered converter for this op.\n",
      "WARNING:tensorflow:Using a while_loop for converting StatelessRandomUniformV2 cause there is no registered converter for this op.\n",
      "WARNING:tensorflow:Using a while_loop for converting ImageProjectiveTransformV3 cause there is no registered converter for this op.\n",
      "WARNING:tensorflow:Using a while_loop for converting RngReadAndSkip cause there is no registered converter for this op.\n",
      "WARNING:tensorflow:Using a while_loop for converting Bitcast cause there is no registered converter for this op.\n",
      "WARNING:tensorflow:Using a while_loop for converting Bitcast cause there is no registered converter for this op.\n",
      "WARNING:tensorflow:Using a while_loop for converting StatelessRandomUniformV2 cause there is no registered converter for this op.\n",
      "WARNING:tensorflow:Using a while_loop for converting ImageProjectiveTransformV3 cause there is no registered converter for this op.\n",
      "WARNING:tensorflow:Using a while_loop for converting RngReadAndSkip cause there is no registered converter for this op.\n",
      "WARNING:tensorflow:Using a while_loop for converting Bitcast cause there is no registered converter for this op.\n",
      "WARNING:tensorflow:Using a while_loop for converting Bitcast cause there is no registered converter for this op.\n",
      "WARNING:tensorflow:Using a while_loop for converting StatelessRandomUniformFullIntV2 cause there is no registered converter for this op.\n",
      "WARNING:tensorflow:Using a while_loop for converting StatelessRandomGetKeyCounter cause there is no registered converter for this op.\n",
      "WARNING:tensorflow:Using a while_loop for converting StatelessRandomUniformV2 cause there is no registered converter for this op.\n",
      "WARNING:tensorflow:Using a while_loop for converting AdjustContrastv2 cause Input \"contrast_factor\" of op 'AdjustContrastv2' expected to be loop invariant.\n",
      "233/233 [==============================] - 187s 608ms/step - loss: 3.3727 - accuracy: 0.0993 - val_loss: 3.0057 - val_accuracy: 0.2651\n",
      "Epoch 2/15\n",
      "233/233 [==============================] - 177s 616ms/step - loss: 2.9257 - accuracy: 0.2466 - val_loss: 2.6055 - val_accuracy: 0.4149\n",
      "Epoch 3/15\n",
      "233/233 [==============================] - 192s 661ms/step - loss: 2.5886 - accuracy: 0.3580 - val_loss: 2.3423 - val_accuracy: 0.4688\n",
      "Epoch 4/15\n",
      "233/233 [==============================] - 193s 657ms/step - loss: 2.3444 - accuracy: 0.4258 - val_loss: 2.0540 - val_accuracy: 0.5765\n",
      "Epoch 5/15\n",
      "233/233 [==============================] - 176s 585ms/step - loss: 2.1604 - accuracy: 0.4758 - val_loss: 1.8871 - val_accuracy: 0.6013\n",
      "Epoch 6/15\n",
      "233/233 [==============================] - 172s 596ms/step - loss: 2.0095 - accuracy: 0.5110 - val_loss: 1.7760 - val_accuracy: 0.6261\n",
      "Epoch 7/15\n",
      "233/233 [==============================] - 195s 655ms/step - loss: 1.8898 - accuracy: 0.5384 - val_loss: 1.7030 - val_accuracy: 0.6422\n",
      "Epoch 8/15\n",
      "233/233 [==============================] - 186s 634ms/step - loss: 1.7805 - accuracy: 0.5652 - val_loss: 1.5559 - val_accuracy: 0.6778\n",
      "Epoch 9/15\n",
      "233/233 [==============================] - 192s 659ms/step - loss: 1.7027 - accuracy: 0.5853 - val_loss: 1.5173 - val_accuracy: 0.6703\n",
      "Epoch 10/15\n",
      "233/233 [==============================] - 188s 642ms/step - loss: 1.6344 - accuracy: 0.5926 - val_loss: 1.4565 - val_accuracy: 0.6562\n",
      "Epoch 11/15\n",
      "233/233 [==============================] - 194s 662ms/step - loss: 1.5663 - accuracy: 0.6073 - val_loss: 1.3947 - val_accuracy: 0.6779\n",
      "Epoch 12/15\n",
      "233/233 [==============================] - 164s 565ms/step - loss: 1.4976 - accuracy: 0.6226 - val_loss: 1.3163 - val_accuracy: 0.7155\n",
      "Epoch 13/15\n",
      "233/233 [==============================] - 162s 553ms/step - loss: 1.4472 - accuracy: 0.6369 - val_loss: 1.2863 - val_accuracy: 0.7144\n",
      "Epoch 14/15\n",
      "233/233 [==============================] - 160s 543ms/step - loss: 1.4076 - accuracy: 0.6421 - val_loss: 1.2019 - val_accuracy: 0.7306\n",
      "Epoch 15/15\n",
      "233/233 [==============================] - 183s 641ms/step - loss: 1.3865 - accuracy: 0.6487 - val_loss: 1.2268 - val_accuracy: 0.7166\n"
     ]
    }
   ],
   "source": [
    "history = model.fit(\n",
    "    train_ds,\n",
    "    validation_data=val_ds,\n",
    "    epochs=15,   # longer warmup\n",
    "    verbose=1\n",
    ")\n"
   ]
  },
  {
   "cell_type": "code",
   "execution_count": null,
   "id": "3603020e",
   "metadata": {},
   "outputs": [],
   "source": []
  },
  {
   "cell_type": "code",
   "execution_count": 17,
   "id": "b2cd16c8",
   "metadata": {},
   "outputs": [],
   "source": [
    "base_model.trainable = True\n",
    "fine_tune_at = len(base_model.layers) - 30  # unfreeze last 30 layers\n",
    "for layer in base_model.layers[:fine_tune_at]:\n",
    "    layer.trainable = False\n",
    "\n",
    "model.compile(\n",
    "    optimizer=tf.keras.optimizers.Adam(learning_rate=1e-5),\n",
    "    loss=\"sparse_categorical_crossentropy\",\n",
    "    metrics=[\"accuracy\"]\n",
    ")"
   ]
  },
  {
   "cell_type": "code",
   "execution_count": 18,
   "id": "f19b7cf1",
   "metadata": {},
   "outputs": [
    {
     "name": "stdout",
     "output_type": "stream",
     "text": [
      "Epoch 1/30\n",
      "WARNING:tensorflow:Using a while_loop for converting RngReadAndSkip cause there is no registered converter for this op.\n",
      "WARNING:tensorflow:Using a while_loop for converting Bitcast cause there is no registered converter for this op.\n",
      "WARNING:tensorflow:Using a while_loop for converting Bitcast cause there is no registered converter for this op.\n",
      "WARNING:tensorflow:Using a while_loop for converting StatelessRandomUniformV2 cause there is no registered converter for this op.\n",
      "WARNING:tensorflow:Using a while_loop for converting ImageProjectiveTransformV3 cause there is no registered converter for this op.\n",
      "WARNING:tensorflow:Using a while_loop for converting RngReadAndSkip cause there is no registered converter for this op.\n",
      "WARNING:tensorflow:Using a while_loop for converting Bitcast cause there is no registered converter for this op.\n",
      "WARNING:tensorflow:Using a while_loop for converting Bitcast cause there is no registered converter for this op.\n",
      "WARNING:tensorflow:Using a while_loop for converting StatelessRandomUniformV2 cause there is no registered converter for this op.\n",
      "WARNING:tensorflow:Using a while_loop for converting ImageProjectiveTransformV3 cause there is no registered converter for this op.\n",
      "WARNING:tensorflow:Using a while_loop for converting RngReadAndSkip cause there is no registered converter for this op.\n",
      "WARNING:tensorflow:Using a while_loop for converting Bitcast cause there is no registered converter for this op.\n",
      "WARNING:tensorflow:Using a while_loop for converting Bitcast cause there is no registered converter for this op.\n",
      "WARNING:tensorflow:Using a while_loop for converting StatelessRandomUniformFullIntV2 cause there is no registered converter for this op.\n",
      "WARNING:tensorflow:Using a while_loop for converting StatelessRandomGetKeyCounter cause there is no registered converter for this op.\n",
      "WARNING:tensorflow:Using a while_loop for converting StatelessRandomUniformV2 cause there is no registered converter for this op.\n",
      "WARNING:tensorflow:Using a while_loop for converting AdjustContrastv2 cause Input \"contrast_factor\" of op 'AdjustContrastv2' expected to be loop invariant.\n",
      "WARNING:tensorflow:Using a while_loop for converting RngReadAndSkip cause there is no registered converter for this op.\n",
      "WARNING:tensorflow:Using a while_loop for converting Bitcast cause there is no registered converter for this op.\n",
      "WARNING:tensorflow:Using a while_loop for converting Bitcast cause there is no registered converter for this op.\n",
      "WARNING:tensorflow:Using a while_loop for converting StatelessRandomUniformV2 cause there is no registered converter for this op.\n",
      "WARNING:tensorflow:Using a while_loop for converting ImageProjectiveTransformV3 cause there is no registered converter for this op.\n",
      "WARNING:tensorflow:Using a while_loop for converting RngReadAndSkip cause there is no registered converter for this op.\n",
      "WARNING:tensorflow:Using a while_loop for converting Bitcast cause there is no registered converter for this op.\n",
      "WARNING:tensorflow:Using a while_loop for converting Bitcast cause there is no registered converter for this op.\n",
      "WARNING:tensorflow:Using a while_loop for converting StatelessRandomUniformV2 cause there is no registered converter for this op.\n",
      "WARNING:tensorflow:Using a while_loop for converting ImageProjectiveTransformV3 cause there is no registered converter for this op.\n",
      "WARNING:tensorflow:Using a while_loop for converting RngReadAndSkip cause there is no registered converter for this op.\n",
      "WARNING:tensorflow:Using a while_loop for converting Bitcast cause there is no registered converter for this op.\n",
      "WARNING:tensorflow:Using a while_loop for converting Bitcast cause there is no registered converter for this op.\n",
      "WARNING:tensorflow:Using a while_loop for converting StatelessRandomUniformFullIntV2 cause there is no registered converter for this op.\n",
      "WARNING:tensorflow:Using a while_loop for converting StatelessRandomGetKeyCounter cause there is no registered converter for this op.\n",
      "WARNING:tensorflow:Using a while_loop for converting StatelessRandomUniformV2 cause there is no registered converter for this op.\n",
      "WARNING:tensorflow:Using a while_loop for converting AdjustContrastv2 cause Input \"contrast_factor\" of op 'AdjustContrastv2' expected to be loop invariant.\n",
      "233/233 [==============================] - 202s 669ms/step - loss: 1.9011 - accuracy: 0.5349 - val_loss: 1.3322 - val_accuracy: 0.7037\n",
      "Epoch 2/30\n",
      "233/233 [==============================] - 175s 576ms/step - loss: 1.6895 - accuracy: 0.5963 - val_loss: 1.2764 - val_accuracy: 0.7155\n",
      "Epoch 3/30\n",
      "233/233 [==============================] - 165s 564ms/step - loss: 1.5232 - accuracy: 0.6333 - val_loss: 1.1342 - val_accuracy: 0.7522\n",
      "Epoch 4/30\n",
      "233/233 [==============================] - 165s 565ms/step - loss: 1.3942 - accuracy: 0.6656 - val_loss: 1.0200 - val_accuracy: 0.7620\n",
      "Epoch 5/30\n",
      "233/233 [==============================] - 164s 559ms/step - loss: 1.2911 - accuracy: 0.6832 - val_loss: 0.9381 - val_accuracy: 0.7812\n",
      "Epoch 6/30\n",
      "233/233 [==============================] - 166s 569ms/step - loss: 1.2006 - accuracy: 0.6965 - val_loss: 0.8523 - val_accuracy: 0.7899\n",
      "Epoch 7/30\n",
      "233/233 [==============================] - 167s 570ms/step - loss: 1.1267 - accuracy: 0.7196 - val_loss: 0.7888 - val_accuracy: 0.8050\n",
      "Epoch 8/30\n",
      "233/233 [==============================] - 186s 648ms/step - loss: 1.0607 - accuracy: 0.7347 - val_loss: 0.7285 - val_accuracy: 0.8222\n",
      "Epoch 9/30\n",
      "233/233 [==============================] - 189s 647ms/step - loss: 1.0061 - accuracy: 0.7374 - val_loss: 0.7341 - val_accuracy: 0.8071\n",
      "Epoch 10/30\n",
      "233/233 [==============================] - 189s 645ms/step - loss: 0.9559 - accuracy: 0.7500 - val_loss: 0.7007 - val_accuracy: 0.8244\n",
      "Epoch 11/30\n",
      "233/233 [==============================] - 188s 644ms/step - loss: 0.9193 - accuracy: 0.7583 - val_loss: 0.6262 - val_accuracy: 0.8362\n",
      "Epoch 12/30\n",
      "233/233 [==============================] - 187s 643ms/step - loss: 0.8889 - accuracy: 0.7667 - val_loss: 0.5977 - val_accuracy: 0.8470\n",
      "Epoch 13/30\n",
      "233/233 [==============================] - 186s 634ms/step - loss: 0.8294 - accuracy: 0.7805 - val_loss: 0.5431 - val_accuracy: 0.8502\n",
      "Epoch 14/30\n",
      "233/233 [==============================] - 190s 652ms/step - loss: 0.8104 - accuracy: 0.7894 - val_loss: 0.5703 - val_accuracy: 0.8578\n",
      "Epoch 15/30\n",
      "233/233 [==============================] - 186s 636ms/step - loss: 0.8039 - accuracy: 0.7830 - val_loss: 0.5534 - val_accuracy: 0.8578\n",
      "Epoch 16/30\n",
      "233/233 [==============================] - 164s 563ms/step - loss: 0.7570 - accuracy: 0.7937 - val_loss: 0.5412 - val_accuracy: 0.8524\n",
      "Epoch 17/30\n",
      "233/233 [==============================] - 182s 623ms/step - loss: 0.7418 - accuracy: 0.7975 - val_loss: 0.4936 - val_accuracy: 0.8739\n",
      "Epoch 18/30\n",
      "233/233 [==============================] - 176s 615ms/step - loss: 0.7192 - accuracy: 0.8034 - val_loss: 0.5005 - val_accuracy: 0.8624\n",
      "Epoch 19/30\n",
      "233/233 [==============================] - 187s 627ms/step - loss: 0.7034 - accuracy: 0.8053 - val_loss: 0.4604 - val_accuracy: 0.8901\n",
      "Epoch 20/30\n",
      "233/233 [==============================] - 165s 570ms/step - loss: 0.6704 - accuracy: 0.8156 - val_loss: 0.3911 - val_accuracy: 0.9095\n",
      "Epoch 21/30\n",
      "233/233 [==============================] - 164s 559ms/step - loss: 0.6551 - accuracy: 0.8260 - val_loss: 0.4028 - val_accuracy: 0.8912\n",
      "Epoch 22/30\n",
      "233/233 [==============================] - 167s 575ms/step - loss: 0.6458 - accuracy: 0.8182 - val_loss: 0.4127 - val_accuracy: 0.8793\n",
      "Epoch 23/30\n",
      "233/233 [==============================] - 159s 537ms/step - loss: 0.6331 - accuracy: 0.8271 - val_loss: 0.3953 - val_accuracy: 0.8901\n",
      "Epoch 24/30\n",
      "233/233 [==============================] - 168s 583ms/step - loss: 0.6152 - accuracy: 0.8290 - val_loss: 0.3969 - val_accuracy: 0.8944\n",
      "Epoch 25/30\n",
      "233/233 [==============================] - 185s 605ms/step - loss: 0.5976 - accuracy: 0.8361 - val_loss: 0.3886 - val_accuracy: 0.8847\n",
      "Epoch 26/30\n",
      "233/233 [==============================] - 184s 647ms/step - loss: 0.5771 - accuracy: 0.8383 - val_loss: 0.3659 - val_accuracy: 0.9041\n",
      "Epoch 27/30\n",
      "233/233 [==============================] - 191s 643ms/step - loss: 0.5632 - accuracy: 0.8438 - val_loss: 0.4153 - val_accuracy: 0.8793\n",
      "Epoch 28/30\n",
      "233/233 [==============================] - 187s 636ms/step - loss: 0.5710 - accuracy: 0.8434 - val_loss: 0.3741 - val_accuracy: 0.8912\n",
      "Epoch 29/30\n",
      "233/233 [==============================] - 188s 642ms/step - loss: 0.5417 - accuracy: 0.8481 - val_loss: 0.3497 - val_accuracy: 0.9106\n",
      "Epoch 30/30\n",
      "233/233 [==============================] - 186s 632ms/step - loss: 0.5357 - accuracy: 0.8487 - val_loss: 0.3362 - val_accuracy: 0.8996\n"
     ]
    }
   ],
   "source": [
    "history_fine = model.fit(\n",
    "    train_ds,\n",
    "    validation_data=val_ds,\n",
    "    epochs=EPOCHS,\n",
    "    verbose=1\n",
    "\n",
    ")"
   ]
  },
  {
   "cell_type": "code",
   "execution_count": 30,
   "id": "b21483c2",
   "metadata": {},
   "outputs": [
    {
     "data": {
      "text/plain": [
       "Text(0.5, 1.0, 'Training and Validation Accuracy')"
      ]
     },
     "execution_count": 30,
     "metadata": {},
     "output_type": "execute_result"
    },
    {
     "data": {
      "image/png": "[encoded data removed]",
      "text/plain": [
       "<Figure size 800x800 with 1 Axes>"
      ]
     },
     "metadata": {},
     "output_type": "display_data"
    }
   ],
   "source": [
    "import matplotlib.pyplot as plt\n",
    "acc = history_fine.history['accuracy']\n",
    "val_acc = history_fine.history['val_accuracy']\n",
    "\n",
    "loss = history_fine.history['loss']\n",
    "val_loss = history_fine.history['val_' \\\n",
    "'loss']\n",
    "plt.figure(figsize=(8, 8))\n",
    "plt.subplot(1, 2, 1)\n",
    "plt.plot(range(EPOCHS), acc, label='Training Accuracy')\n",
    "plt.plot(range(EPOCHS), val_acc, label='Validation Accuracy')\n",
    "plt.legend(loc='lower right')\n",
    "plt.title('Training and Validation Accuracy')"
   ]
  },
  {
   "cell_type": "code",
   "execution_count": 36,
   "id": "6c79d4ef",
   "metadata": {},
   "outputs": [],
   "source": [
    "# Save only weights\n",
    "model.save_weights(\"EfficientNet_weights.h5\")\n",
    "\n"
   ]
  },
  {
   "cell_type": "code",
   "execution_count": 37,
   "id": "38d28f28",
   "metadata": {},
   "outputs": [
    {
     "ename": "TypeError",
     "evalue": "Unable to serialize [2.0896919 2.1128857 2.1081853] to JSON. Unrecognized type <class 'tensorflow.python.framework.ops.EagerTensor'>.",
     "output_type": "error",
     "traceback": [
      "\u001b[1;31m---------------------------------------------------------------------------\u001b[0m",
      "\u001b[1;31mTypeError\u001b[0m                                 Traceback (most recent call last)",
      "Cell \u001b[1;32mIn[37], line 1\u001b[0m\n\u001b[1;32m----> 1\u001b[0m \u001b[43mmodel\u001b[49m\u001b[38;5;241;43m.\u001b[39;49m\u001b[43msave\u001b[49m\u001b[43m(\u001b[49m\u001b[38;5;124;43m\"\u001b[39;49m\u001b[38;5;124;43mEfficientNet_full_model.h5\u001b[39;49m\u001b[38;5;124;43m\"\u001b[39;49m\u001b[43m)\u001b[49m\n",
      "File \u001b[1;32md:\\anaconda\\ana\\envs\\tf\\lib\\site-packages\\keras\\utils\\traceback_utils.py:70\u001b[0m, in \u001b[0;36mfilter_traceback.<locals>.error_handler\u001b[1;34m(*args, **kwargs)\u001b[0m\n\u001b[0;32m     67\u001b[0m     filtered_tb \u001b[38;5;241m=\u001b[39m _process_traceback_frames(e\u001b[38;5;241m.\u001b[39m__traceback__)\n\u001b[0;32m     68\u001b[0m     \u001b[38;5;66;03m# To get the full stack trace, call:\u001b[39;00m\n\u001b[0;32m     69\u001b[0m     \u001b[38;5;66;03m# `tf.debugging.disable_traceback_filtering()`\u001b[39;00m\n\u001b[1;32m---> 70\u001b[0m     \u001b[38;5;28;01mraise\u001b[39;00m e\u001b[38;5;241m.\u001b[39mwith_traceback(filtered_tb) \u001b[38;5;28;01mfrom\u001b[39;00m\u001b[38;5;250m \u001b[39m\u001b[38;5;28;01mNone\u001b[39;00m\n\u001b[0;32m     71\u001b[0m \u001b[38;5;28;01mfinally\u001b[39;00m:\n\u001b[0;32m     72\u001b[0m     \u001b[38;5;28;01mdel\u001b[39;00m filtered_tb\n",
      "File \u001b[1;32md:\\anaconda\\ana\\envs\\tf\\lib\\json\\__init__.py:238\u001b[0m, in \u001b[0;36mdumps\u001b[1;34m(obj, skipkeys, ensure_ascii, check_circular, allow_nan, cls, indent, separators, default, sort_keys, **kw)\u001b[0m\n\u001b[0;32m    232\u001b[0m \u001b[38;5;28;01mif\u001b[39;00m \u001b[38;5;28mcls\u001b[39m \u001b[38;5;129;01mis\u001b[39;00m \u001b[38;5;28;01mNone\u001b[39;00m:\n\u001b[0;32m    233\u001b[0m     \u001b[38;5;28mcls\u001b[39m \u001b[38;5;241m=\u001b[39m JSONEncoder\n\u001b[0;32m    234\u001b[0m \u001b[38;5;28;01mreturn\u001b[39;00m \u001b[38;5;28;43mcls\u001b[39;49m\u001b[43m(\u001b[49m\n\u001b[0;32m    235\u001b[0m \u001b[43m    \u001b[49m\u001b[43mskipkeys\u001b[49m\u001b[38;5;241;43m=\u001b[39;49m\u001b[43mskipkeys\u001b[49m\u001b[43m,\u001b[49m\u001b[43m \u001b[49m\u001b[43mensure_ascii\u001b[49m\u001b[38;5;241;43m=\u001b[39;49m\u001b[43mensure_ascii\u001b[49m\u001b[43m,\u001b[49m\n\u001b[0;32m    236\u001b[0m \u001b[43m    \u001b[49m\u001b[43mcheck_circular\u001b[49m\u001b[38;5;241;43m=\u001b[39;49m\u001b[43mcheck_circular\u001b[49m\u001b[43m,\u001b[49m\u001b[43m \u001b[49m\u001b[43mallow_nan\u001b[49m\u001b[38;5;241;43m=\u001b[39;49m\u001b[43mallow_nan\u001b[49m\u001b[43m,\u001b[49m\u001b[43m \u001b[49m\u001b[43mindent\u001b[49m\u001b[38;5;241;43m=\u001b[39;49m\u001b[43mindent\u001b[49m\u001b[43m,\u001b[49m\n\u001b[0;32m    237\u001b[0m \u001b[43m    \u001b[49m\u001b[43mseparators\u001b[49m\u001b[38;5;241;43m=\u001b[39;49m\u001b[43mseparators\u001b[49m\u001b[43m,\u001b[49m\u001b[43m \u001b[49m\u001b[43mdefault\u001b[49m\u001b[38;5;241;43m=\u001b[39;49m\u001b[43mdefault\u001b[49m\u001b[43m,\u001b[49m\u001b[43m \u001b[49m\u001b[43msort_keys\u001b[49m\u001b[38;5;241;43m=\u001b[39;49m\u001b[43msort_keys\u001b[49m\u001b[43m,\u001b[49m\n\u001b[1;32m--> 238\u001b[0m \u001b[43m    \u001b[49m\u001b[38;5;241;43m*\u001b[39;49m\u001b[38;5;241;43m*\u001b[39;49m\u001b[43mkw\u001b[49m\u001b[43m)\u001b[49m\u001b[38;5;241;43m.\u001b[39;49m\u001b[43mencode\u001b[49m\u001b[43m(\u001b[49m\u001b[43mobj\u001b[49m\u001b[43m)\u001b[49m\n",
      "File \u001b[1;32md:\\anaconda\\ana\\envs\\tf\\lib\\json\\encoder.py:199\u001b[0m, in \u001b[0;36mJSONEncoder.encode\u001b[1;34m(self, o)\u001b[0m\n\u001b[0;32m    195\u001b[0m         \u001b[38;5;28;01mreturn\u001b[39;00m encode_basestring(o)\n\u001b[0;32m    196\u001b[0m \u001b[38;5;66;03m# This doesn't pass the iterator directly to ''.join() because the\u001b[39;00m\n\u001b[0;32m    197\u001b[0m \u001b[38;5;66;03m# exceptions aren't as detailed.  The list call should be roughly\u001b[39;00m\n\u001b[0;32m    198\u001b[0m \u001b[38;5;66;03m# equivalent to the PySequence_Fast that ''.join() would do.\u001b[39;00m\n\u001b[1;32m--> 199\u001b[0m chunks \u001b[38;5;241m=\u001b[39m \u001b[38;5;28;43mself\u001b[39;49m\u001b[38;5;241;43m.\u001b[39;49m\u001b[43miterencode\u001b[49m\u001b[43m(\u001b[49m\u001b[43mo\u001b[49m\u001b[43m,\u001b[49m\u001b[43m \u001b[49m\u001b[43m_one_shot\u001b[49m\u001b[38;5;241;43m=\u001b[39;49m\u001b[38;5;28;43;01mTrue\u001b[39;49;00m\u001b[43m)\u001b[49m\n\u001b[0;32m    200\u001b[0m \u001b[38;5;28;01mif\u001b[39;00m \u001b[38;5;129;01mnot\u001b[39;00m \u001b[38;5;28misinstance\u001b[39m(chunks, (\u001b[38;5;28mlist\u001b[39m, \u001b[38;5;28mtuple\u001b[39m)):\n\u001b[0;32m    201\u001b[0m     chunks \u001b[38;5;241m=\u001b[39m \u001b[38;5;28mlist\u001b[39m(chunks)\n",
      "File \u001b[1;32md:\\anaconda\\ana\\envs\\tf\\lib\\json\\encoder.py:257\u001b[0m, in \u001b[0;36mJSONEncoder.iterencode\u001b[1;34m(self, o, _one_shot)\u001b[0m\n\u001b[0;32m    252\u001b[0m \u001b[38;5;28;01melse\u001b[39;00m:\n\u001b[0;32m    253\u001b[0m     _iterencode \u001b[38;5;241m=\u001b[39m _make_iterencode(\n\u001b[0;32m    254\u001b[0m         markers, \u001b[38;5;28mself\u001b[39m\u001b[38;5;241m.\u001b[39mdefault, _encoder, \u001b[38;5;28mself\u001b[39m\u001b[38;5;241m.\u001b[39mindent, floatstr,\n\u001b[0;32m    255\u001b[0m         \u001b[38;5;28mself\u001b[39m\u001b[38;5;241m.\u001b[39mkey_separator, \u001b[38;5;28mself\u001b[39m\u001b[38;5;241m.\u001b[39mitem_separator, \u001b[38;5;28mself\u001b[39m\u001b[38;5;241m.\u001b[39msort_keys,\n\u001b[0;32m    256\u001b[0m         \u001b[38;5;28mself\u001b[39m\u001b[38;5;241m.\u001b[39mskipkeys, _one_shot)\n\u001b[1;32m--> 257\u001b[0m \u001b[38;5;28;01mreturn\u001b[39;00m \u001b[43m_iterencode\u001b[49m\u001b[43m(\u001b[49m\u001b[43mo\u001b[49m\u001b[43m,\u001b[49m\u001b[43m \u001b[49m\u001b[38;5;241;43m0\u001b[39;49m\u001b[43m)\u001b[49m\n",
      "\u001b[1;31mTypeError\u001b[0m: Unable to serialize [2.0896919 2.1128857 2.1081853] to JSON. Unrecognized type <class 'tensorflow.python.framework.ops.EagerTensor'>."
     ]
    }
   ],
   "source": [
    "\n",
    "model.save(\"EfficientNet_full_model.h5\")\n"
   ]
  },
  {
   "cell_type": "code",
   "execution_count": 40,
   "id": "66f224d2",
   "metadata": {},
   "outputs": [
    {
     "name": "stdout",
     "output_type": "stream",
     "text": [
      "WARNING:tensorflow:Skipping loading weights for layer #6 (named stem_conv) due to mismatch in shape for weight stem_conv/kernel:0. Weight expects shape (3, 3, 3, 32). Received saved weight with shape (40, 3, 3, 3)\n"
     ]
    },
    {
     "name": "stderr",
     "output_type": "stream",
     "text": [
      "WARNING:tensorflow:Skipping loading weights for layer #6 (named stem_conv) due to mismatch in shape for weight stem_conv/kernel:0. Weight expects shape (3, 3, 3, 32). Received saved weight with shape (40, 3, 3, 3)\n"
     ]
    },
    {
     "name": "stdout",
     "output_type": "stream",
     "text": [
      "WARNING:tensorflow:Skipping loading weights for layer #7 (named stem_bn) due to mismatch in shape for weight stem_bn/gamma:0. Weight expects shape (32,). Received saved weight with shape (40,)\n"
     ]
    },
    {
     "name": "stderr",
     "output_type": "stream",
     "text": [
      "WARNING:tensorflow:Skipping loading weights for layer #7 (named stem_bn) due to mismatch in shape for weight stem_bn/gamma:0. Weight expects shape (32,). Received saved weight with shape (40,)\n"
     ]
    },
    {
     "name": "stdout",
     "output_type": "stream",
     "text": [
      "WARNING:tensorflow:Skipping loading weights for layer #7 (named stem_bn) due to mismatch in shape for weight stem_bn/beta:0. Weight expects shape (32,). Received saved weight with shape (40,)\n"
     ]
    },
    {
     "name": "stderr",
     "output_type": "stream",
     "text": [
      "WARNING:tensorflow:Skipping loading weights for layer #7 (named stem_bn) due to mismatch in shape for weight stem_bn/beta:0. Weight expects shape (32,). Received saved weight with shape (40,)\n"
     ]
    },
    {
     "name": "stdout",
     "output_type": "stream",
     "text": [
      "WARNING:tensorflow:Skipping loading weights for layer #7 (named stem_bn) due to mismatch in shape for weight stem_bn/moving_mean:0. Weight expects shape (32,). Received saved weight with shape (40,)\n"
     ]
    },
    {
     "name": "stderr",
     "output_type": "stream",
     "text": [
      "WARNING:tensorflow:Skipping loading weights for layer #7 (named stem_bn) due to mismatch in shape for weight stem_bn/moving_mean:0. Weight expects shape (32,). Received saved weight with shape (40,)\n"
     ]
    },
    {
     "name": "stdout",
     "output_type": "stream",
     "text": [
      "WARNING:tensorflow:Skipping loading weights for layer #7 (named stem_bn) due to mismatch in shape for weight stem_bn/moving_variance:0. Weight expects shape (32,). Received saved weight with shape (40,)\n"
     ]
    },
    {
     "name": "stderr",
     "output_type": "stream",
     "text": [
      "WARNING:tensorflow:Skipping loading weights for layer #7 (named stem_bn) due to mismatch in shape for weight stem_bn/moving_variance:0. Weight expects shape (32,). Received saved weight with shape (40,)\n"
     ]
    },
    {
     "name": "stdout",
     "output_type": "stream",
     "text": [
      "WARNING:tensorflow:Skipping loading weights for layer #9 (named block1a_dwconv) due to mismatch in shape for weight block1a_dwconv/depthwise_kernel:0. Weight expects shape (3, 3, 32, 1). Received saved weight with shape (3, 3, 40, 1)\n"
     ]
    },
    {
     "name": "stderr",
     "output_type": "stream",
     "text": [
      "WARNING:tensorflow:Skipping loading weights for layer #9 (named block1a_dwconv) due to mismatch in shape for weight block1a_dwconv/depthwise_kernel:0. Weight expects shape (3, 3, 32, 1). Received saved weight with shape (3, 3, 40, 1)\n"
     ]
    },
    {
     "name": "stdout",
     "output_type": "stream",
     "text": [
      "WARNING:tensorflow:Skipping loading weights for layer #10 (named block1a_bn) due to mismatch in shape for weight block1a_bn/gamma:0. Weight expects shape (32,). Received saved weight with shape (40,)\n"
     ]
    },
    {
     "name": "stderr",
     "output_type": "stream",
     "text": [
      "WARNING:tensorflow:Skipping loading weights for layer #10 (named block1a_bn) due to mismatch in shape for weight block1a_bn/gamma:0. Weight expects shape (32,). Received saved weight with shape (40,)\n"
     ]
    },
    {
     "name": "stdout",
     "output_type": "stream",
     "text": [
      "WARNING:tensorflow:Skipping loading weights for layer #10 (named block1a_bn) due to mismatch in shape for weight block1a_bn/beta:0. Weight expects shape (32,). Received saved weight with shape (40,)\n"
     ]
    },
    {
     "name": "stderr",
     "output_type": "stream",
     "text": [
      "WARNING:tensorflow:Skipping loading weights for layer #10 (named block1a_bn) due to mismatch in shape for weight block1a_bn/beta:0. Weight expects shape (32,). Received saved weight with shape (40,)\n"
     ]
    },
    {
     "name": "stdout",
     "output_type": "stream",
     "text": [
      "WARNING:tensorflow:Skipping loading weights for layer #10 (named block1a_bn) due to mismatch in shape for weight block1a_bn/moving_mean:0. Weight expects shape (32,). Received saved weight with shape (40,)\n"
     ]
    },
    {
     "name": "stderr",
     "output_type": "stream",
     "text": [
      "WARNING:tensorflow:Skipping loading weights for layer #10 (named block1a_bn) due to mismatch in shape for weight block1a_bn/moving_mean:0. Weight expects shape (32,). Received saved weight with shape (40,)\n"
     ]
    },
    {
     "name": "stdout",
     "output_type": "stream",
     "text": [
      "WARNING:tensorflow:Skipping loading weights for layer #10 (named block1a_bn) due to mismatch in shape for weight block1a_bn/moving_variance:0. Weight expects shape (32,). Received saved weight with shape (40,)\n"
     ]
    },
    {
     "name": "stderr",
     "output_type": "stream",
     "text": [
      "WARNING:tensorflow:Skipping loading weights for layer #10 (named block1a_bn) due to mismatch in shape for weight block1a_bn/moving_variance:0. Weight expects shape (32,). Received saved weight with shape (40,)\n"
     ]
    },
    {
     "name": "stdout",
     "output_type": "stream",
     "text": [
      "WARNING:tensorflow:Skipping loading weights for layer #14 (named block1a_se_reduce) due to mismatch in shape for weight block1a_se_reduce/kernel:0. Weight expects shape (1, 1, 32, 8). Received saved weight with shape (10, 40, 1, 1)\n"
     ]
    },
    {
     "name": "stderr",
     "output_type": "stream",
     "text": [
      "WARNING:tensorflow:Skipping loading weights for layer #14 (named block1a_se_reduce) due to mismatch in shape for weight block1a_se_reduce/kernel:0. Weight expects shape (1, 1, 32, 8). Received saved weight with shape (10, 40, 1, 1)\n"
     ]
    },
    {
     "name": "stdout",
     "output_type": "stream",
     "text": [
      "WARNING:tensorflow:Skipping loading weights for layer #14 (named block1a_se_reduce) due to mismatch in shape for weight block1a_se_reduce/bias:0. Weight expects shape (8,). Received saved weight with shape (10,)\n"
     ]
    },
    {
     "name": "stderr",
     "output_type": "stream",
     "text": [
      "WARNING:tensorflow:Skipping loading weights for layer #14 (named block1a_se_reduce) due to mismatch in shape for weight block1a_se_reduce/bias:0. Weight expects shape (8,). Received saved weight with shape (10,)\n"
     ]
    },
    {
     "name": "stdout",
     "output_type": "stream",
     "text": [
      "WARNING:tensorflow:Skipping loading weights for layer #15 (named block1a_se_expand) due to mismatch in shape for weight block1a_se_expand/kernel:0. Weight expects shape (1, 1, 8, 32). Received saved weight with shape (40, 10, 1, 1)\n"
     ]
    },
    {
     "name": "stderr",
     "output_type": "stream",
     "text": [
      "WARNING:tensorflow:Skipping loading weights for layer #15 (named block1a_se_expand) due to mismatch in shape for weight block1a_se_expand/kernel:0. Weight expects shape (1, 1, 8, 32). Received saved weight with shape (40, 10, 1, 1)\n"
     ]
    },
    {
     "name": "stdout",
     "output_type": "stream",
     "text": [
      "WARNING:tensorflow:Skipping loading weights for layer #15 (named block1a_se_expand) due to mismatch in shape for weight block1a_se_expand/bias:0. Weight expects shape (32,). Received saved weight with shape (40,)\n"
     ]
    },
    {
     "name": "stderr",
     "output_type": "stream",
     "text": [
      "WARNING:tensorflow:Skipping loading weights for layer #15 (named block1a_se_expand) due to mismatch in shape for weight block1a_se_expand/bias:0. Weight expects shape (32,). Received saved weight with shape (40,)\n"
     ]
    },
    {
     "name": "stdout",
     "output_type": "stream",
     "text": [
      "WARNING:tensorflow:Skipping loading weights for layer #17 (named block1a_project_conv) due to mismatch in shape for weight block1a_project_conv/kernel:0. Weight expects shape (1, 1, 32, 16). Received saved weight with shape (24, 40, 1, 1)\n"
     ]
    },
    {
     "name": "stderr",
     "output_type": "stream",
     "text": [
      "WARNING:tensorflow:Skipping loading weights for layer #17 (named block1a_project_conv) due to mismatch in shape for weight block1a_project_conv/kernel:0. Weight expects shape (1, 1, 32, 16). Received saved weight with shape (24, 40, 1, 1)\n"
     ]
    },
    {
     "name": "stdout",
     "output_type": "stream",
     "text": [
      "WARNING:tensorflow:Skipping loading weights for layer #18 (named block1a_project_bn) due to mismatch in shape for weight block1a_project_bn/gamma:0. Weight expects shape (16,). Received saved weight with shape (24,)\n"
     ]
    },
    {
     "name": "stderr",
     "output_type": "stream",
     "text": [
      "WARNING:tensorflow:Skipping loading weights for layer #18 (named block1a_project_bn) due to mismatch in shape for weight block1a_project_bn/gamma:0. Weight expects shape (16,). Received saved weight with shape (24,)\n"
     ]
    },
    {
     "name": "stdout",
     "output_type": "stream",
     "text": [
      "WARNING:tensorflow:Skipping loading weights for layer #18 (named block1a_project_bn) due to mismatch in shape for weight block1a_project_bn/beta:0. Weight expects shape (16,). Received saved weight with shape (24,)\n"
     ]
    },
    {
     "name": "stderr",
     "output_type": "stream",
     "text": [
      "WARNING:tensorflow:Skipping loading weights for layer #18 (named block1a_project_bn) due to mismatch in shape for weight block1a_project_bn/beta:0. Weight expects shape (16,). Received saved weight with shape (24,)\n"
     ]
    },
    {
     "name": "stdout",
     "output_type": "stream",
     "text": [
      "WARNING:tensorflow:Skipping loading weights for layer #18 (named block1a_project_bn) due to mismatch in shape for weight block1a_project_bn/moving_mean:0. Weight expects shape (16,). Received saved weight with shape (24,)\n"
     ]
    },
    {
     "name": "stderr",
     "output_type": "stream",
     "text": [
      "WARNING:tensorflow:Skipping loading weights for layer #18 (named block1a_project_bn) due to mismatch in shape for weight block1a_project_bn/moving_mean:0. Weight expects shape (16,). Received saved weight with shape (24,)\n"
     ]
    },
    {
     "name": "stdout",
     "output_type": "stream",
     "text": [
      "WARNING:tensorflow:Skipping loading weights for layer #18 (named block1a_project_bn) due to mismatch in shape for weight block1a_project_bn/moving_variance:0. Weight expects shape (16,). Received saved weight with shape (24,)\n"
     ]
    },
    {
     "name": "stderr",
     "output_type": "stream",
     "text": [
      "WARNING:tensorflow:Skipping loading weights for layer #18 (named block1a_project_bn) due to mismatch in shape for weight block1a_project_bn/moving_variance:0. Weight expects shape (16,). Received saved weight with shape (24,)\n"
     ]
    },
    {
     "name": "stdout",
     "output_type": "stream",
     "text": [
      "WARNING:tensorflow:Skipping loading weights for layer #31 (named block2a_expand_conv) due to mismatch in shape for weight block2a_expand_conv/kernel:0. Weight expects shape (1, 1, 16, 96). Received saved weight with shape (144, 24, 1, 1)\n"
     ]
    },
    {
     "name": "stderr",
     "output_type": "stream",
     "text": [
      "WARNING:tensorflow:Skipping loading weights for layer #31 (named block2a_expand_conv) due to mismatch in shape for weight block2a_expand_conv/kernel:0. Weight expects shape (1, 1, 16, 96). Received saved weight with shape (144, 24, 1, 1)\n"
     ]
    },
    {
     "name": "stdout",
     "output_type": "stream",
     "text": [
      "WARNING:tensorflow:Skipping loading weights for layer #32 (named block2a_expand_bn) due to mismatch in shape for weight block2a_expand_bn/gamma:0. Weight expects shape (96,). Received saved weight with shape (144,)\n"
     ]
    },
    {
     "name": "stderr",
     "output_type": "stream",
     "text": [
      "WARNING:tensorflow:Skipping loading weights for layer #32 (named block2a_expand_bn) due to mismatch in shape for weight block2a_expand_bn/gamma:0. Weight expects shape (96,). Received saved weight with shape (144,)\n"
     ]
    },
    {
     "name": "stdout",
     "output_type": "stream",
     "text": [
      "WARNING:tensorflow:Skipping loading weights for layer #32 (named block2a_expand_bn) due to mismatch in shape for weight block2a_expand_bn/beta:0. Weight expects shape (96,). Received saved weight with shape (144,)\n"
     ]
    },
    {
     "name": "stderr",
     "output_type": "stream",
     "text": [
      "WARNING:tensorflow:Skipping loading weights for layer #32 (named block2a_expand_bn) due to mismatch in shape for weight block2a_expand_bn/beta:0. Weight expects shape (96,). Received saved weight with shape (144,)\n"
     ]
    },
    {
     "name": "stdout",
     "output_type": "stream",
     "text": [
      "WARNING:tensorflow:Skipping loading weights for layer #32 (named block2a_expand_bn) due to mismatch in shape for weight block2a_expand_bn/moving_mean:0. Weight expects shape (96,). Received saved weight with shape (144,)\n"
     ]
    },
    {
     "name": "stderr",
     "output_type": "stream",
     "text": [
      "WARNING:tensorflow:Skipping loading weights for layer #32 (named block2a_expand_bn) due to mismatch in shape for weight block2a_expand_bn/moving_mean:0. Weight expects shape (96,). Received saved weight with shape (144,)\n"
     ]
    },
    {
     "name": "stdout",
     "output_type": "stream",
     "text": [
      "WARNING:tensorflow:Skipping loading weights for layer #32 (named block2a_expand_bn) due to mismatch in shape for weight block2a_expand_bn/moving_variance:0. Weight expects shape (96,). Received saved weight with shape (144,)\n"
     ]
    },
    {
     "name": "stderr",
     "output_type": "stream",
     "text": [
      "WARNING:tensorflow:Skipping loading weights for layer #32 (named block2a_expand_bn) due to mismatch in shape for weight block2a_expand_bn/moving_variance:0. Weight expects shape (96,). Received saved weight with shape (144,)\n"
     ]
    },
    {
     "name": "stdout",
     "output_type": "stream",
     "text": [
      "WARNING:tensorflow:Skipping loading weights for layer #35 (named block2a_dwconv) due to mismatch in shape for weight block2a_dwconv/depthwise_kernel:0. Weight expects shape (3, 3, 96, 1). Received saved weight with shape (3, 3, 144, 1)\n"
     ]
    },
    {
     "name": "stderr",
     "output_type": "stream",
     "text": [
      "WARNING:tensorflow:Skipping loading weights for layer #35 (named block2a_dwconv) due to mismatch in shape for weight block2a_dwconv/depthwise_kernel:0. Weight expects shape (3, 3, 96, 1). Received saved weight with shape (3, 3, 144, 1)\n"
     ]
    },
    {
     "name": "stdout",
     "output_type": "stream",
     "text": [
      "WARNING:tensorflow:Skipping loading weights for layer #36 (named block2a_bn) due to mismatch in shape for weight block2a_bn/gamma:0. Weight expects shape (96,). Received saved weight with shape (144,)\n"
     ]
    },
    {
     "name": "stderr",
     "output_type": "stream",
     "text": [
      "WARNING:tensorflow:Skipping loading weights for layer #36 (named block2a_bn) due to mismatch in shape for weight block2a_bn/gamma:0. Weight expects shape (96,). Received saved weight with shape (144,)\n"
     ]
    },
    {
     "name": "stdout",
     "output_type": "stream",
     "text": [
      "WARNING:tensorflow:Skipping loading weights for layer #36 (named block2a_bn) due to mismatch in shape for weight block2a_bn/beta:0. Weight expects shape (96,). Received saved weight with shape (144,)\n"
     ]
    },
    {
     "name": "stderr",
     "output_type": "stream",
     "text": [
      "WARNING:tensorflow:Skipping loading weights for layer #36 (named block2a_bn) due to mismatch in shape for weight block2a_bn/beta:0. Weight expects shape (96,). Received saved weight with shape (144,)\n"
     ]
    },
    {
     "name": "stdout",
     "output_type": "stream",
     "text": [
      "WARNING:tensorflow:Skipping loading weights for layer #36 (named block2a_bn) due to mismatch in shape for weight block2a_bn/moving_mean:0. Weight expects shape (96,). Received saved weight with shape (144,)\n"
     ]
    },
    {
     "name": "stderr",
     "output_type": "stream",
     "text": [
      "WARNING:tensorflow:Skipping loading weights for layer #36 (named block2a_bn) due to mismatch in shape for weight block2a_bn/moving_mean:0. Weight expects shape (96,). Received saved weight with shape (144,)\n"
     ]
    },
    {
     "name": "stdout",
     "output_type": "stream",
     "text": [
      "WARNING:tensorflow:Skipping loading weights for layer #36 (named block2a_bn) due to mismatch in shape for weight block2a_bn/moving_variance:0. Weight expects shape (96,). Received saved weight with shape (144,)\n"
     ]
    },
    {
     "name": "stderr",
     "output_type": "stream",
     "text": [
      "WARNING:tensorflow:Skipping loading weights for layer #36 (named block2a_bn) due to mismatch in shape for weight block2a_bn/moving_variance:0. Weight expects shape (96,). Received saved weight with shape (144,)\n"
     ]
    },
    {
     "name": "stdout",
     "output_type": "stream",
     "text": [
      "WARNING:tensorflow:Skipping loading weights for layer #40 (named block2a_se_reduce) due to mismatch in shape for weight block2a_se_reduce/kernel:0. Weight expects shape (1, 1, 96, 4). Received saved weight with shape (6, 144, 1, 1)\n"
     ]
    },
    {
     "name": "stderr",
     "output_type": "stream",
     "text": [
      "WARNING:tensorflow:Skipping loading weights for layer #40 (named block2a_se_reduce) due to mismatch in shape for weight block2a_se_reduce/kernel:0. Weight expects shape (1, 1, 96, 4). Received saved weight with shape (6, 144, 1, 1)\n"
     ]
    },
    {
     "name": "stdout",
     "output_type": "stream",
     "text": [
      "WARNING:tensorflow:Skipping loading weights for layer #40 (named block2a_se_reduce) due to mismatch in shape for weight block2a_se_reduce/bias:0. Weight expects shape (4,). Received saved weight with shape (6,)\n"
     ]
    },
    {
     "name": "stderr",
     "output_type": "stream",
     "text": [
      "WARNING:tensorflow:Skipping loading weights for layer #40 (named block2a_se_reduce) due to mismatch in shape for weight block2a_se_reduce/bias:0. Weight expects shape (4,). Received saved weight with shape (6,)\n"
     ]
    },
    {
     "name": "stdout",
     "output_type": "stream",
     "text": [
      "WARNING:tensorflow:Skipping loading weights for layer #41 (named block2a_se_expand) due to mismatch in shape for weight block2a_se_expand/kernel:0. Weight expects shape (1, 1, 4, 96). Received saved weight with shape (144, 6, 1, 1)\n"
     ]
    },
    {
     "name": "stderr",
     "output_type": "stream",
     "text": [
      "WARNING:tensorflow:Skipping loading weights for layer #41 (named block2a_se_expand) due to mismatch in shape for weight block2a_se_expand/kernel:0. Weight expects shape (1, 1, 4, 96). Received saved weight with shape (144, 6, 1, 1)\n"
     ]
    },
    {
     "name": "stdout",
     "output_type": "stream",
     "text": [
      "WARNING:tensorflow:Skipping loading weights for layer #41 (named block2a_se_expand) due to mismatch in shape for weight block2a_se_expand/bias:0. Weight expects shape (96,). Received saved weight with shape (144,)\n"
     ]
    },
    {
     "name": "stderr",
     "output_type": "stream",
     "text": [
      "WARNING:tensorflow:Skipping loading weights for layer #41 (named block2a_se_expand) due to mismatch in shape for weight block2a_se_expand/bias:0. Weight expects shape (96,). Received saved weight with shape (144,)\n"
     ]
    },
    {
     "name": "stdout",
     "output_type": "stream",
     "text": [
      "WARNING:tensorflow:Skipping loading weights for layer #43 (named block2a_project_conv) due to mismatch in shape for weight block2a_project_conv/kernel:0. Weight expects shape (1, 1, 96, 24). Received saved weight with shape (32, 144, 1, 1)\n"
     ]
    },
    {
     "name": "stderr",
     "output_type": "stream",
     "text": [
      "WARNING:tensorflow:Skipping loading weights for layer #43 (named block2a_project_conv) due to mismatch in shape for weight block2a_project_conv/kernel:0. Weight expects shape (1, 1, 96, 24). Received saved weight with shape (32, 144, 1, 1)\n"
     ]
    },
    {
     "name": "stdout",
     "output_type": "stream",
     "text": [
      "WARNING:tensorflow:Skipping loading weights for layer #44 (named block2a_project_bn) due to mismatch in shape for weight block2a_project_bn/gamma:0. Weight expects shape (24,). Received saved weight with shape (32,)\n"
     ]
    },
    {
     "name": "stderr",
     "output_type": "stream",
     "text": [
      "WARNING:tensorflow:Skipping loading weights for layer #44 (named block2a_project_bn) due to mismatch in shape for weight block2a_project_bn/gamma:0. Weight expects shape (24,). Received saved weight with shape (32,)\n"
     ]
    },
    {
     "name": "stdout",
     "output_type": "stream",
     "text": [
      "WARNING:tensorflow:Skipping loading weights for layer #44 (named block2a_project_bn) due to mismatch in shape for weight block2a_project_bn/beta:0. Weight expects shape (24,). Received saved weight with shape (32,)\n"
     ]
    },
    {
     "name": "stderr",
     "output_type": "stream",
     "text": [
      "WARNING:tensorflow:Skipping loading weights for layer #44 (named block2a_project_bn) due to mismatch in shape for weight block2a_project_bn/beta:0. Weight expects shape (24,). Received saved weight with shape (32,)\n"
     ]
    },
    {
     "name": "stdout",
     "output_type": "stream",
     "text": [
      "WARNING:tensorflow:Skipping loading weights for layer #44 (named block2a_project_bn) due to mismatch in shape for weight block2a_project_bn/moving_mean:0. Weight expects shape (24,). Received saved weight with shape (32,)\n"
     ]
    },
    {
     "name": "stderr",
     "output_type": "stream",
     "text": [
      "WARNING:tensorflow:Skipping loading weights for layer #44 (named block2a_project_bn) due to mismatch in shape for weight block2a_project_bn/moving_mean:0. Weight expects shape (24,). Received saved weight with shape (32,)\n"
     ]
    },
    {
     "name": "stdout",
     "output_type": "stream",
     "text": [
      "WARNING:tensorflow:Skipping loading weights for layer #44 (named block2a_project_bn) due to mismatch in shape for weight block2a_project_bn/moving_variance:0. Weight expects shape (24,). Received saved weight with shape (32,)\n"
     ]
    },
    {
     "name": "stderr",
     "output_type": "stream",
     "text": [
      "WARNING:tensorflow:Skipping loading weights for layer #44 (named block2a_project_bn) due to mismatch in shape for weight block2a_project_bn/moving_variance:0. Weight expects shape (24,). Received saved weight with shape (32,)\n"
     ]
    },
    {
     "name": "stdout",
     "output_type": "stream",
     "text": [
      "WARNING:tensorflow:Skipping loading weights for layer #45 (named block2b_expand_conv) due to mismatch in shape for weight block2b_expand_conv/kernel:0. Weight expects shape (1, 1, 24, 144). Received saved weight with shape (192, 32, 1, 1)\n"
     ]
    },
    {
     "name": "stderr",
     "output_type": "stream",
     "text": [
      "WARNING:tensorflow:Skipping loading weights for layer #45 (named block2b_expand_conv) due to mismatch in shape for weight block2b_expand_conv/kernel:0. Weight expects shape (1, 1, 24, 144). Received saved weight with shape (192, 32, 1, 1)\n"
     ]
    },
    {
     "name": "stdout",
     "output_type": "stream",
     "text": [
      "WARNING:tensorflow:Skipping loading weights for layer #46 (named block2b_expand_bn) due to mismatch in shape for weight block2b_expand_bn/gamma:0. Weight expects shape (144,). Received saved weight with shape (192,)\n"
     ]
    },
    {
     "name": "stderr",
     "output_type": "stream",
     "text": [
      "WARNING:tensorflow:Skipping loading weights for layer #46 (named block2b_expand_bn) due to mismatch in shape for weight block2b_expand_bn/gamma:0. Weight expects shape (144,). Received saved weight with shape (192,)\n"
     ]
    },
    {
     "name": "stdout",
     "output_type": "stream",
     "text": [
      "WARNING:tensorflow:Skipping loading weights for layer #46 (named block2b_expand_bn) due to mismatch in shape for weight block2b_expand_bn/beta:0. Weight expects shape (144,). Received saved weight with shape (192,)\n"
     ]
    },
    {
     "name": "stderr",
     "output_type": "stream",
     "text": [
      "WARNING:tensorflow:Skipping loading weights for layer #46 (named block2b_expand_bn) due to mismatch in shape for weight block2b_expand_bn/beta:0. Weight expects shape (144,). Received saved weight with shape (192,)\n"
     ]
    },
    {
     "name": "stdout",
     "output_type": "stream",
     "text": [
      "WARNING:tensorflow:Skipping loading weights for layer #46 (named block2b_expand_bn) due to mismatch in shape for weight block2b_expand_bn/moving_mean:0. Weight expects shape (144,). Received saved weight with shape (192,)\n"
     ]
    },
    {
     "name": "stderr",
     "output_type": "stream",
     "text": [
      "WARNING:tensorflow:Skipping loading weights for layer #46 (named block2b_expand_bn) due to mismatch in shape for weight block2b_expand_bn/moving_mean:0. Weight expects shape (144,). Received saved weight with shape (192,)\n"
     ]
    },
    {
     "name": "stdout",
     "output_type": "stream",
     "text": [
      "WARNING:tensorflow:Skipping loading weights for layer #46 (named block2b_expand_bn) due to mismatch in shape for weight block2b_expand_bn/moving_variance:0. Weight expects shape (144,). Received saved weight with shape (192,)\n"
     ]
    },
    {
     "name": "stderr",
     "output_type": "stream",
     "text": [
      "WARNING:tensorflow:Skipping loading weights for layer #46 (named block2b_expand_bn) due to mismatch in shape for weight block2b_expand_bn/moving_variance:0. Weight expects shape (144,). Received saved weight with shape (192,)\n"
     ]
    },
    {
     "name": "stdout",
     "output_type": "stream",
     "text": [
      "WARNING:tensorflow:Skipping loading weights for layer #48 (named block2b_dwconv) due to mismatch in shape for weight block2b_dwconv/depthwise_kernel:0. Weight expects shape (3, 3, 144, 1). Received saved weight with shape (3, 3, 192, 1)\n"
     ]
    },
    {
     "name": "stderr",
     "output_type": "stream",
     "text": [
      "WARNING:tensorflow:Skipping loading weights for layer #48 (named block2b_dwconv) due to mismatch in shape for weight block2b_dwconv/depthwise_kernel:0. Weight expects shape (3, 3, 144, 1). Received saved weight with shape (3, 3, 192, 1)\n"
     ]
    },
    {
     "name": "stdout",
     "output_type": "stream",
     "text": [
      "WARNING:tensorflow:Skipping loading weights for layer #49 (named block2b_bn) due to mismatch in shape for weight block2b_bn/gamma:0. Weight expects shape (144,). Received saved weight with shape (192,)\n"
     ]
    },
    {
     "name": "stderr",
     "output_type": "stream",
     "text": [
      "WARNING:tensorflow:Skipping loading weights for layer #49 (named block2b_bn) due to mismatch in shape for weight block2b_bn/gamma:0. Weight expects shape (144,). Received saved weight with shape (192,)\n"
     ]
    },
    {
     "name": "stdout",
     "output_type": "stream",
     "text": [
      "WARNING:tensorflow:Skipping loading weights for layer #49 (named block2b_bn) due to mismatch in shape for weight block2b_bn/beta:0. Weight expects shape (144,). Received saved weight with shape (192,)\n"
     ]
    },
    {
     "name": "stderr",
     "output_type": "stream",
     "text": [
      "WARNING:tensorflow:Skipping loading weights for layer #49 (named block2b_bn) due to mismatch in shape for weight block2b_bn/beta:0. Weight expects shape (144,). Received saved weight with shape (192,)\n"
     ]
    },
    {
     "name": "stdout",
     "output_type": "stream",
     "text": [
      "WARNING:tensorflow:Skipping loading weights for layer #49 (named block2b_bn) due to mismatch in shape for weight block2b_bn/moving_mean:0. Weight expects shape (144,). Received saved weight with shape (192,)\n"
     ]
    },
    {
     "name": "stderr",
     "output_type": "stream",
     "text": [
      "WARNING:tensorflow:Skipping loading weights for layer #49 (named block2b_bn) due to mismatch in shape for weight block2b_bn/moving_mean:0. Weight expects shape (144,). Received saved weight with shape (192,)\n"
     ]
    },
    {
     "name": "stdout",
     "output_type": "stream",
     "text": [
      "WARNING:tensorflow:Skipping loading weights for layer #49 (named block2b_bn) due to mismatch in shape for weight block2b_bn/moving_variance:0. Weight expects shape (144,). Received saved weight with shape (192,)\n"
     ]
    },
    {
     "name": "stderr",
     "output_type": "stream",
     "text": [
      "WARNING:tensorflow:Skipping loading weights for layer #49 (named block2b_bn) due to mismatch in shape for weight block2b_bn/moving_variance:0. Weight expects shape (144,). Received saved weight with shape (192,)\n"
     ]
    },
    {
     "name": "stdout",
     "output_type": "stream",
     "text": [
      "WARNING:tensorflow:Skipping loading weights for layer #53 (named block2b_se_reduce) due to mismatch in shape for weight block2b_se_reduce/kernel:0. Weight expects shape (1, 1, 144, 6). Received saved weight with shape (8, 192, 1, 1)\n"
     ]
    },
    {
     "name": "stderr",
     "output_type": "stream",
     "text": [
      "WARNING:tensorflow:Skipping loading weights for layer #53 (named block2b_se_reduce) due to mismatch in shape for weight block2b_se_reduce/kernel:0. Weight expects shape (1, 1, 144, 6). Received saved weight with shape (8, 192, 1, 1)\n"
     ]
    },
    {
     "name": "stdout",
     "output_type": "stream",
     "text": [
      "WARNING:tensorflow:Skipping loading weights for layer #53 (named block2b_se_reduce) due to mismatch in shape for weight block2b_se_reduce/bias:0. Weight expects shape (6,). Received saved weight with shape (8,)\n"
     ]
    },
    {
     "name": "stderr",
     "output_type": "stream",
     "text": [
      "WARNING:tensorflow:Skipping loading weights for layer #53 (named block2b_se_reduce) due to mismatch in shape for weight block2b_se_reduce/bias:0. Weight expects shape (6,). Received saved weight with shape (8,)\n"
     ]
    },
    {
     "name": "stdout",
     "output_type": "stream",
     "text": [
      "WARNING:tensorflow:Skipping loading weights for layer #54 (named block2b_se_expand) due to mismatch in shape for weight block2b_se_expand/kernel:0. Weight expects shape (1, 1, 6, 144). Received saved weight with shape (192, 8, 1, 1)\n"
     ]
    },
    {
     "name": "stderr",
     "output_type": "stream",
     "text": [
      "WARNING:tensorflow:Skipping loading weights for layer #54 (named block2b_se_expand) due to mismatch in shape for weight block2b_se_expand/kernel:0. Weight expects shape (1, 1, 6, 144). Received saved weight with shape (192, 8, 1, 1)\n"
     ]
    },
    {
     "name": "stdout",
     "output_type": "stream",
     "text": [
      "WARNING:tensorflow:Skipping loading weights for layer #54 (named block2b_se_expand) due to mismatch in shape for weight block2b_se_expand/bias:0. Weight expects shape (144,). Received saved weight with shape (192,)\n"
     ]
    },
    {
     "name": "stderr",
     "output_type": "stream",
     "text": [
      "WARNING:tensorflow:Skipping loading weights for layer #54 (named block2b_se_expand) due to mismatch in shape for weight block2b_se_expand/bias:0. Weight expects shape (144,). Received saved weight with shape (192,)\n"
     ]
    },
    {
     "name": "stdout",
     "output_type": "stream",
     "text": [
      "WARNING:tensorflow:Skipping loading weights for layer #56 (named block2b_project_conv) due to mismatch in shape for weight block2b_project_conv/kernel:0. Weight expects shape (1, 1, 144, 24). Received saved weight with shape (32, 192, 1, 1)\n"
     ]
    },
    {
     "name": "stderr",
     "output_type": "stream",
     "text": [
      "WARNING:tensorflow:Skipping loading weights for layer #56 (named block2b_project_conv) due to mismatch in shape for weight block2b_project_conv/kernel:0. Weight expects shape (1, 1, 144, 24). Received saved weight with shape (32, 192, 1, 1)\n"
     ]
    },
    {
     "name": "stdout",
     "output_type": "stream",
     "text": [
      "WARNING:tensorflow:Skipping loading weights for layer #57 (named block2b_project_bn) due to mismatch in shape for weight block2b_project_bn/gamma:0. Weight expects shape (24,). Received saved weight with shape (32,)\n"
     ]
    },
    {
     "name": "stderr",
     "output_type": "stream",
     "text": [
      "WARNING:tensorflow:Skipping loading weights for layer #57 (named block2b_project_bn) due to mismatch in shape for weight block2b_project_bn/gamma:0. Weight expects shape (24,). Received saved weight with shape (32,)\n"
     ]
    },
    {
     "name": "stdout",
     "output_type": "stream",
     "text": [
      "WARNING:tensorflow:Skipping loading weights for layer #57 (named block2b_project_bn) due to mismatch in shape for weight block2b_project_bn/beta:0. Weight expects shape (24,). Received saved weight with shape (32,)\n"
     ]
    },
    {
     "name": "stderr",
     "output_type": "stream",
     "text": [
      "WARNING:tensorflow:Skipping loading weights for layer #57 (named block2b_project_bn) due to mismatch in shape for weight block2b_project_bn/beta:0. Weight expects shape (24,). Received saved weight with shape (32,)\n"
     ]
    },
    {
     "name": "stdout",
     "output_type": "stream",
     "text": [
      "WARNING:tensorflow:Skipping loading weights for layer #57 (named block2b_project_bn) due to mismatch in shape for weight block2b_project_bn/moving_mean:0. Weight expects shape (24,). Received saved weight with shape (32,)\n"
     ]
    },
    {
     "name": "stderr",
     "output_type": "stream",
     "text": [
      "WARNING:tensorflow:Skipping loading weights for layer #57 (named block2b_project_bn) due to mismatch in shape for weight block2b_project_bn/moving_mean:0. Weight expects shape (24,). Received saved weight with shape (32,)\n"
     ]
    },
    {
     "name": "stdout",
     "output_type": "stream",
     "text": [
      "WARNING:tensorflow:Skipping loading weights for layer #57 (named block2b_project_bn) due to mismatch in shape for weight block2b_project_bn/moving_variance:0. Weight expects shape (24,). Received saved weight with shape (32,)\n"
     ]
    },
    {
     "name": "stderr",
     "output_type": "stream",
     "text": [
      "WARNING:tensorflow:Skipping loading weights for layer #57 (named block2b_project_bn) due to mismatch in shape for weight block2b_project_bn/moving_variance:0. Weight expects shape (24,). Received saved weight with shape (32,)\n"
     ]
    },
    {
     "name": "stdout",
     "output_type": "stream",
     "text": [
      "WARNING:tensorflow:Skipping loading weights for layer #75 (named block3a_expand_conv) due to mismatch in shape for weight block3a_expand_conv/kernel:0. Weight expects shape (1, 1, 24, 144). Received saved weight with shape (192, 32, 1, 1)\n"
     ]
    },
    {
     "name": "stderr",
     "output_type": "stream",
     "text": [
      "WARNING:tensorflow:Skipping loading weights for layer #75 (named block3a_expand_conv) due to mismatch in shape for weight block3a_expand_conv/kernel:0. Weight expects shape (1, 1, 24, 144). Received saved weight with shape (192, 32, 1, 1)\n"
     ]
    },
    {
     "name": "stdout",
     "output_type": "stream",
     "text": [
      "WARNING:tensorflow:Skipping loading weights for layer #76 (named block3a_expand_bn) due to mismatch in shape for weight block3a_expand_bn/gamma:0. Weight expects shape (144,). Received saved weight with shape (192,)\n"
     ]
    },
    {
     "name": "stderr",
     "output_type": "stream",
     "text": [
      "WARNING:tensorflow:Skipping loading weights for layer #76 (named block3a_expand_bn) due to mismatch in shape for weight block3a_expand_bn/gamma:0. Weight expects shape (144,). Received saved weight with shape (192,)\n"
     ]
    },
    {
     "name": "stdout",
     "output_type": "stream",
     "text": [
      "WARNING:tensorflow:Skipping loading weights for layer #76 (named block3a_expand_bn) due to mismatch in shape for weight block3a_expand_bn/beta:0. Weight expects shape (144,). Received saved weight with shape (192,)\n"
     ]
    },
    {
     "name": "stderr",
     "output_type": "stream",
     "text": [
      "WARNING:tensorflow:Skipping loading weights for layer #76 (named block3a_expand_bn) due to mismatch in shape for weight block3a_expand_bn/beta:0. Weight expects shape (144,). Received saved weight with shape (192,)\n"
     ]
    },
    {
     "name": "stdout",
     "output_type": "stream",
     "text": [
      "WARNING:tensorflow:Skipping loading weights for layer #76 (named block3a_expand_bn) due to mismatch in shape for weight block3a_expand_bn/moving_mean:0. Weight expects shape (144,). Received saved weight with shape (192,)\n"
     ]
    },
    {
     "name": "stderr",
     "output_type": "stream",
     "text": [
      "WARNING:tensorflow:Skipping loading weights for layer #76 (named block3a_expand_bn) due to mismatch in shape for weight block3a_expand_bn/moving_mean:0. Weight expects shape (144,). Received saved weight with shape (192,)\n"
     ]
    },
    {
     "name": "stdout",
     "output_type": "stream",
     "text": [
      "WARNING:tensorflow:Skipping loading weights for layer #76 (named block3a_expand_bn) due to mismatch in shape for weight block3a_expand_bn/moving_variance:0. Weight expects shape (144,). Received saved weight with shape (192,)\n"
     ]
    },
    {
     "name": "stderr",
     "output_type": "stream",
     "text": [
      "WARNING:tensorflow:Skipping loading weights for layer #76 (named block3a_expand_bn) due to mismatch in shape for weight block3a_expand_bn/moving_variance:0. Weight expects shape (144,). Received saved weight with shape (192,)\n"
     ]
    },
    {
     "name": "stdout",
     "output_type": "stream",
     "text": [
      "WARNING:tensorflow:Skipping loading weights for layer #79 (named block3a_dwconv) due to mismatch in shape for weight block3a_dwconv/depthwise_kernel:0. Weight expects shape (5, 5, 144, 1). Received saved weight with shape (5, 5, 192, 1)\n"
     ]
    },
    {
     "name": "stderr",
     "output_type": "stream",
     "text": [
      "WARNING:tensorflow:Skipping loading weights for layer #79 (named block3a_dwconv) due to mismatch in shape for weight block3a_dwconv/depthwise_kernel:0. Weight expects shape (5, 5, 144, 1). Received saved weight with shape (5, 5, 192, 1)\n"
     ]
    },
    {
     "name": "stdout",
     "output_type": "stream",
     "text": [
      "WARNING:tensorflow:Skipping loading weights for layer #80 (named block3a_bn) due to mismatch in shape for weight block3a_bn/gamma:0. Weight expects shape (144,). Received saved weight with shape (192,)\n"
     ]
    },
    {
     "name": "stderr",
     "output_type": "stream",
     "text": [
      "WARNING:tensorflow:Skipping loading weights for layer #80 (named block3a_bn) due to mismatch in shape for weight block3a_bn/gamma:0. Weight expects shape (144,). Received saved weight with shape (192,)\n"
     ]
    },
    {
     "name": "stdout",
     "output_type": "stream",
     "text": [
      "WARNING:tensorflow:Skipping loading weights for layer #80 (named block3a_bn) due to mismatch in shape for weight block3a_bn/beta:0. Weight expects shape (144,). Received saved weight with shape (192,)\n"
     ]
    },
    {
     "name": "stderr",
     "output_type": "stream",
     "text": [
      "WARNING:tensorflow:Skipping loading weights for layer #80 (named block3a_bn) due to mismatch in shape for weight block3a_bn/beta:0. Weight expects shape (144,). Received saved weight with shape (192,)\n"
     ]
    },
    {
     "name": "stdout",
     "output_type": "stream",
     "text": [
      "WARNING:tensorflow:Skipping loading weights for layer #80 (named block3a_bn) due to mismatch in shape for weight block3a_bn/moving_mean:0. Weight expects shape (144,). Received saved weight with shape (192,)\n"
     ]
    },
    {
     "name": "stderr",
     "output_type": "stream",
     "text": [
      "WARNING:tensorflow:Skipping loading weights for layer #80 (named block3a_bn) due to mismatch in shape for weight block3a_bn/moving_mean:0. Weight expects shape (144,). Received saved weight with shape (192,)\n"
     ]
    },
    {
     "name": "stdout",
     "output_type": "stream",
     "text": [
      "WARNING:tensorflow:Skipping loading weights for layer #80 (named block3a_bn) due to mismatch in shape for weight block3a_bn/moving_variance:0. Weight expects shape (144,). Received saved weight with shape (192,)\n"
     ]
    },
    {
     "name": "stderr",
     "output_type": "stream",
     "text": [
      "WARNING:tensorflow:Skipping loading weights for layer #80 (named block3a_bn) due to mismatch in shape for weight block3a_bn/moving_variance:0. Weight expects shape (144,). Received saved weight with shape (192,)\n"
     ]
    },
    {
     "name": "stdout",
     "output_type": "stream",
     "text": [
      "WARNING:tensorflow:Skipping loading weights for layer #84 (named block3a_se_reduce) due to mismatch in shape for weight block3a_se_reduce/kernel:0. Weight expects shape (1, 1, 144, 6). Received saved weight with shape (8, 192, 1, 1)\n"
     ]
    },
    {
     "name": "stderr",
     "output_type": "stream",
     "text": [
      "WARNING:tensorflow:Skipping loading weights for layer #84 (named block3a_se_reduce) due to mismatch in shape for weight block3a_se_reduce/kernel:0. Weight expects shape (1, 1, 144, 6). Received saved weight with shape (8, 192, 1, 1)\n"
     ]
    },
    {
     "name": "stdout",
     "output_type": "stream",
     "text": [
      "WARNING:tensorflow:Skipping loading weights for layer #84 (named block3a_se_reduce) due to mismatch in shape for weight block3a_se_reduce/bias:0. Weight expects shape (6,). Received saved weight with shape (8,)\n"
     ]
    },
    {
     "name": "stderr",
     "output_type": "stream",
     "text": [
      "WARNING:tensorflow:Skipping loading weights for layer #84 (named block3a_se_reduce) due to mismatch in shape for weight block3a_se_reduce/bias:0. Weight expects shape (6,). Received saved weight with shape (8,)\n"
     ]
    },
    {
     "name": "stdout",
     "output_type": "stream",
     "text": [
      "WARNING:tensorflow:Skipping loading weights for layer #85 (named block3a_se_expand) due to mismatch in shape for weight block3a_se_expand/kernel:0. Weight expects shape (1, 1, 6, 144). Received saved weight with shape (192, 8, 1, 1)\n"
     ]
    },
    {
     "name": "stderr",
     "output_type": "stream",
     "text": [
      "WARNING:tensorflow:Skipping loading weights for layer #85 (named block3a_se_expand) due to mismatch in shape for weight block3a_se_expand/kernel:0. Weight expects shape (1, 1, 6, 144). Received saved weight with shape (192, 8, 1, 1)\n"
     ]
    },
    {
     "name": "stdout",
     "output_type": "stream",
     "text": [
      "WARNING:tensorflow:Skipping loading weights for layer #85 (named block3a_se_expand) due to mismatch in shape for weight block3a_se_expand/bias:0. Weight expects shape (144,). Received saved weight with shape (192,)\n"
     ]
    },
    {
     "name": "stderr",
     "output_type": "stream",
     "text": [
      "WARNING:tensorflow:Skipping loading weights for layer #85 (named block3a_se_expand) due to mismatch in shape for weight block3a_se_expand/bias:0. Weight expects shape (144,). Received saved weight with shape (192,)\n"
     ]
    },
    {
     "name": "stdout",
     "output_type": "stream",
     "text": [
      "WARNING:tensorflow:Skipping loading weights for layer #87 (named block3a_project_conv) due to mismatch in shape for weight block3a_project_conv/kernel:0. Weight expects shape (1, 1, 144, 40). Received saved weight with shape (48, 192, 1, 1)\n"
     ]
    },
    {
     "name": "stderr",
     "output_type": "stream",
     "text": [
      "WARNING:tensorflow:Skipping loading weights for layer #87 (named block3a_project_conv) due to mismatch in shape for weight block3a_project_conv/kernel:0. Weight expects shape (1, 1, 144, 40). Received saved weight with shape (48, 192, 1, 1)\n"
     ]
    },
    {
     "name": "stdout",
     "output_type": "stream",
     "text": [
      "WARNING:tensorflow:Skipping loading weights for layer #88 (named block3a_project_bn) due to mismatch in shape for weight block3a_project_bn/gamma:0. Weight expects shape (40,). Received saved weight with shape (48,)\n"
     ]
    },
    {
     "name": "stderr",
     "output_type": "stream",
     "text": [
      "WARNING:tensorflow:Skipping loading weights for layer #88 (named block3a_project_bn) due to mismatch in shape for weight block3a_project_bn/gamma:0. Weight expects shape (40,). Received saved weight with shape (48,)\n"
     ]
    },
    {
     "name": "stdout",
     "output_type": "stream",
     "text": [
      "WARNING:tensorflow:Skipping loading weights for layer #88 (named block3a_project_bn) due to mismatch in shape for weight block3a_project_bn/beta:0. Weight expects shape (40,). Received saved weight with shape (48,)\n"
     ]
    },
    {
     "name": "stderr",
     "output_type": "stream",
     "text": [
      "WARNING:tensorflow:Skipping loading weights for layer #88 (named block3a_project_bn) due to mismatch in shape for weight block3a_project_bn/beta:0. Weight expects shape (40,). Received saved weight with shape (48,)\n"
     ]
    },
    {
     "name": "stdout",
     "output_type": "stream",
     "text": [
      "WARNING:tensorflow:Skipping loading weights for layer #88 (named block3a_project_bn) due to mismatch in shape for weight block3a_project_bn/moving_mean:0. Weight expects shape (40,). Received saved weight with shape (48,)\n"
     ]
    },
    {
     "name": "stderr",
     "output_type": "stream",
     "text": [
      "WARNING:tensorflow:Skipping loading weights for layer #88 (named block3a_project_bn) due to mismatch in shape for weight block3a_project_bn/moving_mean:0. Weight expects shape (40,). Received saved weight with shape (48,)\n"
     ]
    },
    {
     "name": "stdout",
     "output_type": "stream",
     "text": [
      "WARNING:tensorflow:Skipping loading weights for layer #88 (named block3a_project_bn) due to mismatch in shape for weight block3a_project_bn/moving_variance:0. Weight expects shape (40,). Received saved weight with shape (48,)\n"
     ]
    },
    {
     "name": "stderr",
     "output_type": "stream",
     "text": [
      "WARNING:tensorflow:Skipping loading weights for layer #88 (named block3a_project_bn) due to mismatch in shape for weight block3a_project_bn/moving_variance:0. Weight expects shape (40,). Received saved weight with shape (48,)\n"
     ]
    },
    {
     "name": "stdout",
     "output_type": "stream",
     "text": [
      "WARNING:tensorflow:Skipping loading weights for layer #89 (named block3b_expand_conv) due to mismatch in shape for weight block3b_expand_conv/kernel:0. Weight expects shape (1, 1, 40, 240). Received saved weight with shape (288, 48, 1, 1)\n"
     ]
    },
    {
     "name": "stderr",
     "output_type": "stream",
     "text": [
      "WARNING:tensorflow:Skipping loading weights for layer #89 (named block3b_expand_conv) due to mismatch in shape for weight block3b_expand_conv/kernel:0. Weight expects shape (1, 1, 40, 240). Received saved weight with shape (288, 48, 1, 1)\n"
     ]
    },
    {
     "name": "stdout",
     "output_type": "stream",
     "text": [
      "WARNING:tensorflow:Skipping loading weights for layer #90 (named block3b_expand_bn) due to mismatch in shape for weight block3b_expand_bn/gamma:0. Weight expects shape (240,). Received saved weight with shape (288,)\n"
     ]
    },
    {
     "name": "stderr",
     "output_type": "stream",
     "text": [
      "WARNING:tensorflow:Skipping loading weights for layer #90 (named block3b_expand_bn) due to mismatch in shape for weight block3b_expand_bn/gamma:0. Weight expects shape (240,). Received saved weight with shape (288,)\n"
     ]
    },
    {
     "name": "stdout",
     "output_type": "stream",
     "text": [
      "WARNING:tensorflow:Skipping loading weights for layer #90 (named block3b_expand_bn) due to mismatch in shape for weight block3b_expand_bn/beta:0. Weight expects shape (240,). Received saved weight with shape (288,)\n"
     ]
    },
    {
     "name": "stderr",
     "output_type": "stream",
     "text": [
      "WARNING:tensorflow:Skipping loading weights for layer #90 (named block3b_expand_bn) due to mismatch in shape for weight block3b_expand_bn/beta:0. Weight expects shape (240,). Received saved weight with shape (288,)\n"
     ]
    },
    {
     "name": "stdout",
     "output_type": "stream",
     "text": [
      "WARNING:tensorflow:Skipping loading weights for layer #90 (named block3b_expand_bn) due to mismatch in shape for weight block3b_expand_bn/moving_mean:0. Weight expects shape (240,). Received saved weight with shape (288,)\n"
     ]
    },
    {
     "name": "stderr",
     "output_type": "stream",
     "text": [
      "WARNING:tensorflow:Skipping loading weights for layer #90 (named block3b_expand_bn) due to mismatch in shape for weight block3b_expand_bn/moving_mean:0. Weight expects shape (240,). Received saved weight with shape (288,)\n"
     ]
    },
    {
     "name": "stdout",
     "output_type": "stream",
     "text": [
      "WARNING:tensorflow:Skipping loading weights for layer #90 (named block3b_expand_bn) due to mismatch in shape for weight block3b_expand_bn/moving_variance:0. Weight expects shape (240,). Received saved weight with shape (288,)\n"
     ]
    },
    {
     "name": "stderr",
     "output_type": "stream",
     "text": [
      "WARNING:tensorflow:Skipping loading weights for layer #90 (named block3b_expand_bn) due to mismatch in shape for weight block3b_expand_bn/moving_variance:0. Weight expects shape (240,). Received saved weight with shape (288,)\n"
     ]
    },
    {
     "name": "stdout",
     "output_type": "stream",
     "text": [
      "WARNING:tensorflow:Skipping loading weights for layer #92 (named block3b_dwconv) due to mismatch in shape for weight block3b_dwconv/depthwise_kernel:0. Weight expects shape (5, 5, 240, 1). Received saved weight with shape (5, 5, 288, 1)\n"
     ]
    },
    {
     "name": "stderr",
     "output_type": "stream",
     "text": [
      "WARNING:tensorflow:Skipping loading weights for layer #92 (named block3b_dwconv) due to mismatch in shape for weight block3b_dwconv/depthwise_kernel:0. Weight expects shape (5, 5, 240, 1). Received saved weight with shape (5, 5, 288, 1)\n"
     ]
    },
    {
     "name": "stdout",
     "output_type": "stream",
     "text": [
      "WARNING:tensorflow:Skipping loading weights for layer #93 (named block3b_bn) due to mismatch in shape for weight block3b_bn/gamma:0. Weight expects shape (240,). Received saved weight with shape (288,)\n"
     ]
    },
    {
     "name": "stderr",
     "output_type": "stream",
     "text": [
      "WARNING:tensorflow:Skipping loading weights for layer #93 (named block3b_bn) due to mismatch in shape for weight block3b_bn/gamma:0. Weight expects shape (240,). Received saved weight with shape (288,)\n"
     ]
    },
    {
     "name": "stdout",
     "output_type": "stream",
     "text": [
      "WARNING:tensorflow:Skipping loading weights for layer #93 (named block3b_bn) due to mismatch in shape for weight block3b_bn/beta:0. Weight expects shape (240,). Received saved weight with shape (288,)\n"
     ]
    },
    {
     "name": "stderr",
     "output_type": "stream",
     "text": [
      "WARNING:tensorflow:Skipping loading weights for layer #93 (named block3b_bn) due to mismatch in shape for weight block3b_bn/beta:0. Weight expects shape (240,). Received saved weight with shape (288,)\n"
     ]
    },
    {
     "name": "stdout",
     "output_type": "stream",
     "text": [
      "WARNING:tensorflow:Skipping loading weights for layer #93 (named block3b_bn) due to mismatch in shape for weight block3b_bn/moving_mean:0. Weight expects shape (240,). Received saved weight with shape (288,)\n"
     ]
    },
    {
     "name": "stderr",
     "output_type": "stream",
     "text": [
      "WARNING:tensorflow:Skipping loading weights for layer #93 (named block3b_bn) due to mismatch in shape for weight block3b_bn/moving_mean:0. Weight expects shape (240,). Received saved weight with shape (288,)\n"
     ]
    },
    {
     "name": "stdout",
     "output_type": "stream",
     "text": [
      "WARNING:tensorflow:Skipping loading weights for layer #93 (named block3b_bn) due to mismatch in shape for weight block3b_bn/moving_variance:0. Weight expects shape (240,). Received saved weight with shape (288,)\n"
     ]
    },
    {
     "name": "stderr",
     "output_type": "stream",
     "text": [
      "WARNING:tensorflow:Skipping loading weights for layer #93 (named block3b_bn) due to mismatch in shape for weight block3b_bn/moving_variance:0. Weight expects shape (240,). Received saved weight with shape (288,)\n"
     ]
    },
    {
     "name": "stdout",
     "output_type": "stream",
     "text": [
      "WARNING:tensorflow:Skipping loading weights for layer #97 (named block3b_se_reduce) due to mismatch in shape for weight block3b_se_reduce/kernel:0. Weight expects shape (1, 1, 240, 10). Received saved weight with shape (12, 288, 1, 1)\n"
     ]
    },
    {
     "name": "stderr",
     "output_type": "stream",
     "text": [
      "WARNING:tensorflow:Skipping loading weights for layer #97 (named block3b_se_reduce) due to mismatch in shape for weight block3b_se_reduce/kernel:0. Weight expects shape (1, 1, 240, 10). Received saved weight with shape (12, 288, 1, 1)\n"
     ]
    },
    {
     "name": "stdout",
     "output_type": "stream",
     "text": [
      "WARNING:tensorflow:Skipping loading weights for layer #97 (named block3b_se_reduce) due to mismatch in shape for weight block3b_se_reduce/bias:0. Weight expects shape (10,). Received saved weight with shape (12,)\n"
     ]
    },
    {
     "name": "stderr",
     "output_type": "stream",
     "text": [
      "WARNING:tensorflow:Skipping loading weights for layer #97 (named block3b_se_reduce) due to mismatch in shape for weight block3b_se_reduce/bias:0. Weight expects shape (10,). Received saved weight with shape (12,)\n"
     ]
    },
    {
     "name": "stdout",
     "output_type": "stream",
     "text": [
      "WARNING:tensorflow:Skipping loading weights for layer #98 (named block3b_se_expand) due to mismatch in shape for weight block3b_se_expand/kernel:0. Weight expects shape (1, 1, 10, 240). Received saved weight with shape (288, 12, 1, 1)\n"
     ]
    },
    {
     "name": "stderr",
     "output_type": "stream",
     "text": [
      "WARNING:tensorflow:Skipping loading weights for layer #98 (named block3b_se_expand) due to mismatch in shape for weight block3b_se_expand/kernel:0. Weight expects shape (1, 1, 10, 240). Received saved weight with shape (288, 12, 1, 1)\n"
     ]
    },
    {
     "name": "stdout",
     "output_type": "stream",
     "text": [
      "WARNING:tensorflow:Skipping loading weights for layer #98 (named block3b_se_expand) due to mismatch in shape for weight block3b_se_expand/bias:0. Weight expects shape (240,). Received saved weight with shape (288,)\n"
     ]
    },
    {
     "name": "stderr",
     "output_type": "stream",
     "text": [
      "WARNING:tensorflow:Skipping loading weights for layer #98 (named block3b_se_expand) due to mismatch in shape for weight block3b_se_expand/bias:0. Weight expects shape (240,). Received saved weight with shape (288,)\n"
     ]
    },
    {
     "name": "stdout",
     "output_type": "stream",
     "text": [
      "WARNING:tensorflow:Skipping loading weights for layer #100 (named block3b_project_conv) due to mismatch in shape for weight block3b_project_conv/kernel:0. Weight expects shape (1, 1, 240, 40). Received saved weight with shape (48, 288, 1, 1)\n"
     ]
    },
    {
     "name": "stderr",
     "output_type": "stream",
     "text": [
      "WARNING:tensorflow:Skipping loading weights for layer #100 (named block3b_project_conv) due to mismatch in shape for weight block3b_project_conv/kernel:0. Weight expects shape (1, 1, 240, 40). Received saved weight with shape (48, 288, 1, 1)\n"
     ]
    },
    {
     "name": "stdout",
     "output_type": "stream",
     "text": [
      "WARNING:tensorflow:Skipping loading weights for layer #101 (named block3b_project_bn) due to mismatch in shape for weight block3b_project_bn/gamma:0. Weight expects shape (40,). Received saved weight with shape (48,)\n"
     ]
    },
    {
     "name": "stderr",
     "output_type": "stream",
     "text": [
      "WARNING:tensorflow:Skipping loading weights for layer #101 (named block3b_project_bn) due to mismatch in shape for weight block3b_project_bn/gamma:0. Weight expects shape (40,). Received saved weight with shape (48,)\n"
     ]
    },
    {
     "name": "stdout",
     "output_type": "stream",
     "text": [
      "WARNING:tensorflow:Skipping loading weights for layer #101 (named block3b_project_bn) due to mismatch in shape for weight block3b_project_bn/beta:0. Weight expects shape (40,). Received saved weight with shape (48,)\n"
     ]
    },
    {
     "name": "stderr",
     "output_type": "stream",
     "text": [
      "WARNING:tensorflow:Skipping loading weights for layer #101 (named block3b_project_bn) due to mismatch in shape for weight block3b_project_bn/beta:0. Weight expects shape (40,). Received saved weight with shape (48,)\n"
     ]
    },
    {
     "name": "stdout",
     "output_type": "stream",
     "text": [
      "WARNING:tensorflow:Skipping loading weights for layer #101 (named block3b_project_bn) due to mismatch in shape for weight block3b_project_bn/moving_mean:0. Weight expects shape (40,). Received saved weight with shape (48,)\n"
     ]
    },
    {
     "name": "stderr",
     "output_type": "stream",
     "text": [
      "WARNING:tensorflow:Skipping loading weights for layer #101 (named block3b_project_bn) due to mismatch in shape for weight block3b_project_bn/moving_mean:0. Weight expects shape (40,). Received saved weight with shape (48,)\n"
     ]
    },
    {
     "name": "stdout",
     "output_type": "stream",
     "text": [
      "WARNING:tensorflow:Skipping loading weights for layer #101 (named block3b_project_bn) due to mismatch in shape for weight block3b_project_bn/moving_variance:0. Weight expects shape (40,). Received saved weight with shape (48,)\n"
     ]
    },
    {
     "name": "stderr",
     "output_type": "stream",
     "text": [
      "WARNING:tensorflow:Skipping loading weights for layer #101 (named block3b_project_bn) due to mismatch in shape for weight block3b_project_bn/moving_variance:0. Weight expects shape (40,). Received saved weight with shape (48,)\n"
     ]
    },
    {
     "name": "stdout",
     "output_type": "stream",
     "text": [
      "WARNING:tensorflow:Skipping loading weights for layer #119 (named block4a_expand_conv) due to mismatch in shape for weight block4a_expand_conv/kernel:0. Weight expects shape (1, 1, 40, 240). Received saved weight with shape (288, 48, 1, 1)\n"
     ]
    },
    {
     "name": "stderr",
     "output_type": "stream",
     "text": [
      "WARNING:tensorflow:Skipping loading weights for layer #119 (named block4a_expand_conv) due to mismatch in shape for weight block4a_expand_conv/kernel:0. Weight expects shape (1, 1, 40, 240). Received saved weight with shape (288, 48, 1, 1)\n"
     ]
    },
    {
     "name": "stdout",
     "output_type": "stream",
     "text": [
      "WARNING:tensorflow:Skipping loading weights for layer #120 (named block4a_expand_bn) due to mismatch in shape for weight block4a_expand_bn/gamma:0. Weight expects shape (240,). Received saved weight with shape (288,)\n"
     ]
    },
    {
     "name": "stderr",
     "output_type": "stream",
     "text": [
      "WARNING:tensorflow:Skipping loading weights for layer #120 (named block4a_expand_bn) due to mismatch in shape for weight block4a_expand_bn/gamma:0. Weight expects shape (240,). Received saved weight with shape (288,)\n"
     ]
    },
    {
     "name": "stdout",
     "output_type": "stream",
     "text": [
      "WARNING:tensorflow:Skipping loading weights for layer #120 (named block4a_expand_bn) due to mismatch in shape for weight block4a_expand_bn/beta:0. Weight expects shape (240,). Received saved weight with shape (288,)\n"
     ]
    },
    {
     "name": "stderr",
     "output_type": "stream",
     "text": [
      "WARNING:tensorflow:Skipping loading weights for layer #120 (named block4a_expand_bn) due to mismatch in shape for weight block4a_expand_bn/beta:0. Weight expects shape (240,). Received saved weight with shape (288,)\n"
     ]
    },
    {
     "name": "stdout",
     "output_type": "stream",
     "text": [
      "WARNING:tensorflow:Skipping loading weights for layer #120 (named block4a_expand_bn) due to mismatch in shape for weight block4a_expand_bn/moving_mean:0. Weight expects shape (240,). Received saved weight with shape (288,)\n"
     ]
    },
    {
     "name": "stderr",
     "output_type": "stream",
     "text": [
      "WARNING:tensorflow:Skipping loading weights for layer #120 (named block4a_expand_bn) due to mismatch in shape for weight block4a_expand_bn/moving_mean:0. Weight expects shape (240,). Received saved weight with shape (288,)\n"
     ]
    },
    {
     "name": "stdout",
     "output_type": "stream",
     "text": [
      "WARNING:tensorflow:Skipping loading weights for layer #120 (named block4a_expand_bn) due to mismatch in shape for weight block4a_expand_bn/moving_variance:0. Weight expects shape (240,). Received saved weight with shape (288,)\n"
     ]
    },
    {
     "name": "stderr",
     "output_type": "stream",
     "text": [
      "WARNING:tensorflow:Skipping loading weights for layer #120 (named block4a_expand_bn) due to mismatch in shape for weight block4a_expand_bn/moving_variance:0. Weight expects shape (240,). Received saved weight with shape (288,)\n"
     ]
    },
    {
     "name": "stdout",
     "output_type": "stream",
     "text": [
      "WARNING:tensorflow:Skipping loading weights for layer #123 (named block4a_dwconv) due to mismatch in shape for weight block4a_dwconv/depthwise_kernel:0. Weight expects shape (3, 3, 240, 1). Received saved weight with shape (3, 3, 288, 1)\n"
     ]
    },
    {
     "name": "stderr",
     "output_type": "stream",
     "text": [
      "WARNING:tensorflow:Skipping loading weights for layer #123 (named block4a_dwconv) due to mismatch in shape for weight block4a_dwconv/depthwise_kernel:0. Weight expects shape (3, 3, 240, 1). Received saved weight with shape (3, 3, 288, 1)\n"
     ]
    },
    {
     "name": "stdout",
     "output_type": "stream",
     "text": [
      "WARNING:tensorflow:Skipping loading weights for layer #124 (named block4a_bn) due to mismatch in shape for weight block4a_bn/gamma:0. Weight expects shape (240,). Received saved weight with shape (288,)\n"
     ]
    },
    {
     "name": "stderr",
     "output_type": "stream",
     "text": [
      "WARNING:tensorflow:Skipping loading weights for layer #124 (named block4a_bn) due to mismatch in shape for weight block4a_bn/gamma:0. Weight expects shape (240,). Received saved weight with shape (288,)\n"
     ]
    },
    {
     "name": "stdout",
     "output_type": "stream",
     "text": [
      "WARNING:tensorflow:Skipping loading weights for layer #124 (named block4a_bn) due to mismatch in shape for weight block4a_bn/beta:0. Weight expects shape (240,). Received saved weight with shape (288,)\n"
     ]
    },
    {
     "name": "stderr",
     "output_type": "stream",
     "text": [
      "WARNING:tensorflow:Skipping loading weights for layer #124 (named block4a_bn) due to mismatch in shape for weight block4a_bn/beta:0. Weight expects shape (240,). Received saved weight with shape (288,)\n"
     ]
    },
    {
     "name": "stdout",
     "output_type": "stream",
     "text": [
      "WARNING:tensorflow:Skipping loading weights for layer #124 (named block4a_bn) due to mismatch in shape for weight block4a_bn/moving_mean:0. Weight expects shape (240,). Received saved weight with shape (288,)\n"
     ]
    },
    {
     "name": "stderr",
     "output_type": "stream",
     "text": [
      "WARNING:tensorflow:Skipping loading weights for layer #124 (named block4a_bn) due to mismatch in shape for weight block4a_bn/moving_mean:0. Weight expects shape (240,). Received saved weight with shape (288,)\n"
     ]
    },
    {
     "name": "stdout",
     "output_type": "stream",
     "text": [
      "WARNING:tensorflow:Skipping loading weights for layer #124 (named block4a_bn) due to mismatch in shape for weight block4a_bn/moving_variance:0. Weight expects shape (240,). Received saved weight with shape (288,)\n"
     ]
    },
    {
     "name": "stderr",
     "output_type": "stream",
     "text": [
      "WARNING:tensorflow:Skipping loading weights for layer #124 (named block4a_bn) due to mismatch in shape for weight block4a_bn/moving_variance:0. Weight expects shape (240,). Received saved weight with shape (288,)\n"
     ]
    },
    {
     "name": "stdout",
     "output_type": "stream",
     "text": [
      "WARNING:tensorflow:Skipping loading weights for layer #128 (named block4a_se_reduce) due to mismatch in shape for weight block4a_se_reduce/kernel:0. Weight expects shape (1, 1, 240, 10). Received saved weight with shape (12, 288, 1, 1)\n"
     ]
    },
    {
     "name": "stderr",
     "output_type": "stream",
     "text": [
      "WARNING:tensorflow:Skipping loading weights for layer #128 (named block4a_se_reduce) due to mismatch in shape for weight block4a_se_reduce/kernel:0. Weight expects shape (1, 1, 240, 10). Received saved weight with shape (12, 288, 1, 1)\n"
     ]
    },
    {
     "name": "stdout",
     "output_type": "stream",
     "text": [
      "WARNING:tensorflow:Skipping loading weights for layer #128 (named block4a_se_reduce) due to mismatch in shape for weight block4a_se_reduce/bias:0. Weight expects shape (10,). Received saved weight with shape (12,)\n"
     ]
    },
    {
     "name": "stderr",
     "output_type": "stream",
     "text": [
      "WARNING:tensorflow:Skipping loading weights for layer #128 (named block4a_se_reduce) due to mismatch in shape for weight block4a_se_reduce/bias:0. Weight expects shape (10,). Received saved weight with shape (12,)\n"
     ]
    },
    {
     "name": "stdout",
     "output_type": "stream",
     "text": [
      "WARNING:tensorflow:Skipping loading weights for layer #129 (named block4a_se_expand) due to mismatch in shape for weight block4a_se_expand/kernel:0. Weight expects shape (1, 1, 10, 240). Received saved weight with shape (288, 12, 1, 1)\n"
     ]
    },
    {
     "name": "stderr",
     "output_type": "stream",
     "text": [
      "WARNING:tensorflow:Skipping loading weights for layer #129 (named block4a_se_expand) due to mismatch in shape for weight block4a_se_expand/kernel:0. Weight expects shape (1, 1, 10, 240). Received saved weight with shape (288, 12, 1, 1)\n"
     ]
    },
    {
     "name": "stdout",
     "output_type": "stream",
     "text": [
      "WARNING:tensorflow:Skipping loading weights for layer #129 (named block4a_se_expand) due to mismatch in shape for weight block4a_se_expand/bias:0. Weight expects shape (240,). Received saved weight with shape (288,)\n"
     ]
    },
    {
     "name": "stderr",
     "output_type": "stream",
     "text": [
      "WARNING:tensorflow:Skipping loading weights for layer #129 (named block4a_se_expand) due to mismatch in shape for weight block4a_se_expand/bias:0. Weight expects shape (240,). Received saved weight with shape (288,)\n"
     ]
    },
    {
     "name": "stdout",
     "output_type": "stream",
     "text": [
      "WARNING:tensorflow:Skipping loading weights for layer #131 (named block4a_project_conv) due to mismatch in shape for weight block4a_project_conv/kernel:0. Weight expects shape (1, 1, 240, 80). Received saved weight with shape (96, 288, 1, 1)\n"
     ]
    },
    {
     "name": "stderr",
     "output_type": "stream",
     "text": [
      "WARNING:tensorflow:Skipping loading weights for layer #131 (named block4a_project_conv) due to mismatch in shape for weight block4a_project_conv/kernel:0. Weight expects shape (1, 1, 240, 80). Received saved weight with shape (96, 288, 1, 1)\n"
     ]
    },
    {
     "name": "stdout",
     "output_type": "stream",
     "text": [
      "WARNING:tensorflow:Skipping loading weights for layer #132 (named block4a_project_bn) due to mismatch in shape for weight block4a_project_bn/gamma:0. Weight expects shape (80,). Received saved weight with shape (96,)\n"
     ]
    },
    {
     "name": "stderr",
     "output_type": "stream",
     "text": [
      "WARNING:tensorflow:Skipping loading weights for layer #132 (named block4a_project_bn) due to mismatch in shape for weight block4a_project_bn/gamma:0. Weight expects shape (80,). Received saved weight with shape (96,)\n"
     ]
    },
    {
     "name": "stdout",
     "output_type": "stream",
     "text": [
      "WARNING:tensorflow:Skipping loading weights for layer #132 (named block4a_project_bn) due to mismatch in shape for weight block4a_project_bn/beta:0. Weight expects shape (80,). Received saved weight with shape (96,)\n"
     ]
    },
    {
     "name": "stderr",
     "output_type": "stream",
     "text": [
      "WARNING:tensorflow:Skipping loading weights for layer #132 (named block4a_project_bn) due to mismatch in shape for weight block4a_project_bn/beta:0. Weight expects shape (80,). Received saved weight with shape (96,)\n"
     ]
    },
    {
     "name": "stdout",
     "output_type": "stream",
     "text": [
      "WARNING:tensorflow:Skipping loading weights for layer #132 (named block4a_project_bn) due to mismatch in shape for weight block4a_project_bn/moving_mean:0. Weight expects shape (80,). Received saved weight with shape (96,)\n"
     ]
    },
    {
     "name": "stderr",
     "output_type": "stream",
     "text": [
      "WARNING:tensorflow:Skipping loading weights for layer #132 (named block4a_project_bn) due to mismatch in shape for weight block4a_project_bn/moving_mean:0. Weight expects shape (80,). Received saved weight with shape (96,)\n"
     ]
    },
    {
     "name": "stdout",
     "output_type": "stream",
     "text": [
      "WARNING:tensorflow:Skipping loading weights for layer #132 (named block4a_project_bn) due to mismatch in shape for weight block4a_project_bn/moving_variance:0. Weight expects shape (80,). Received saved weight with shape (96,)\n"
     ]
    },
    {
     "name": "stderr",
     "output_type": "stream",
     "text": [
      "WARNING:tensorflow:Skipping loading weights for layer #132 (named block4a_project_bn) due to mismatch in shape for weight block4a_project_bn/moving_variance:0. Weight expects shape (80,). Received saved weight with shape (96,)\n"
     ]
    },
    {
     "name": "stdout",
     "output_type": "stream",
     "text": [
      "WARNING:tensorflow:Skipping loading weights for layer #133 (named block4b_expand_conv) due to mismatch in shape for weight block4b_expand_conv/kernel:0. Weight expects shape (1, 1, 80, 480). Received saved weight with shape (576, 96, 1, 1)\n"
     ]
    },
    {
     "name": "stderr",
     "output_type": "stream",
     "text": [
      "WARNING:tensorflow:Skipping loading weights for layer #133 (named block4b_expand_conv) due to mismatch in shape for weight block4b_expand_conv/kernel:0. Weight expects shape (1, 1, 80, 480). Received saved weight with shape (576, 96, 1, 1)\n"
     ]
    },
    {
     "name": "stdout",
     "output_type": "stream",
     "text": [
      "WARNING:tensorflow:Skipping loading weights for layer #134 (named block4b_expand_bn) due to mismatch in shape for weight block4b_expand_bn/gamma:0. Weight expects shape (480,). Received saved weight with shape (576,)\n"
     ]
    },
    {
     "name": "stderr",
     "output_type": "stream",
     "text": [
      "WARNING:tensorflow:Skipping loading weights for layer #134 (named block4b_expand_bn) due to mismatch in shape for weight block4b_expand_bn/gamma:0. Weight expects shape (480,). Received saved weight with shape (576,)\n"
     ]
    },
    {
     "name": "stdout",
     "output_type": "stream",
     "text": [
      "WARNING:tensorflow:Skipping loading weights for layer #134 (named block4b_expand_bn) due to mismatch in shape for weight block4b_expand_bn/beta:0. Weight expects shape (480,). Received saved weight with shape (576,)\n"
     ]
    },
    {
     "name": "stderr",
     "output_type": "stream",
     "text": [
      "WARNING:tensorflow:Skipping loading weights for layer #134 (named block4b_expand_bn) due to mismatch in shape for weight block4b_expand_bn/beta:0. Weight expects shape (480,). Received saved weight with shape (576,)\n"
     ]
    },
    {
     "name": "stdout",
     "output_type": "stream",
     "text": [
      "WARNING:tensorflow:Skipping loading weights for layer #134 (named block4b_expand_bn) due to mismatch in shape for weight block4b_expand_bn/moving_mean:0. Weight expects shape (480,). Received saved weight with shape (576,)\n"
     ]
    },
    {
     "name": "stderr",
     "output_type": "stream",
     "text": [
      "WARNING:tensorflow:Skipping loading weights for layer #134 (named block4b_expand_bn) due to mismatch in shape for weight block4b_expand_bn/moving_mean:0. Weight expects shape (480,). Received saved weight with shape (576,)\n"
     ]
    },
    {
     "name": "stdout",
     "output_type": "stream",
     "text": [
      "WARNING:tensorflow:Skipping loading weights for layer #134 (named block4b_expand_bn) due to mismatch in shape for weight block4b_expand_bn/moving_variance:0. Weight expects shape (480,). Received saved weight with shape (576,)\n"
     ]
    },
    {
     "name": "stderr",
     "output_type": "stream",
     "text": [
      "WARNING:tensorflow:Skipping loading weights for layer #134 (named block4b_expand_bn) due to mismatch in shape for weight block4b_expand_bn/moving_variance:0. Weight expects shape (480,). Received saved weight with shape (576,)\n"
     ]
    },
    {
     "name": "stdout",
     "output_type": "stream",
     "text": [
      "WARNING:tensorflow:Skipping loading weights for layer #136 (named block4b_dwconv) due to mismatch in shape for weight block4b_dwconv/depthwise_kernel:0. Weight expects shape (3, 3, 480, 1). Received saved weight with shape (3, 3, 576, 1)\n"
     ]
    },
    {
     "name": "stderr",
     "output_type": "stream",
     "text": [
      "WARNING:tensorflow:Skipping loading weights for layer #136 (named block4b_dwconv) due to mismatch in shape for weight block4b_dwconv/depthwise_kernel:0. Weight expects shape (3, 3, 480, 1). Received saved weight with shape (3, 3, 576, 1)\n"
     ]
    },
    {
     "name": "stdout",
     "output_type": "stream",
     "text": [
      "WARNING:tensorflow:Skipping loading weights for layer #137 (named block4b_bn) due to mismatch in shape for weight block4b_bn/gamma:0. Weight expects shape (480,). Received saved weight with shape (576,)\n"
     ]
    },
    {
     "name": "stderr",
     "output_type": "stream",
     "text": [
      "WARNING:tensorflow:Skipping loading weights for layer #137 (named block4b_bn) due to mismatch in shape for weight block4b_bn/gamma:0. Weight expects shape (480,). Received saved weight with shape (576,)\n"
     ]
    },
    {
     "name": "stdout",
     "output_type": "stream",
     "text": [
      "WARNING:tensorflow:Skipping loading weights for layer #137 (named block4b_bn) due to mismatch in shape for weight block4b_bn/beta:0. Weight expects shape (480,). Received saved weight with shape (576,)\n"
     ]
    },
    {
     "name": "stderr",
     "output_type": "stream",
     "text": [
      "WARNING:tensorflow:Skipping loading weights for layer #137 (named block4b_bn) due to mismatch in shape for weight block4b_bn/beta:0. Weight expects shape (480,). Received saved weight with shape (576,)\n"
     ]
    },
    {
     "name": "stdout",
     "output_type": "stream",
     "text": [
      "WARNING:tensorflow:Skipping loading weights for layer #137 (named block4b_bn) due to mismatch in shape for weight block4b_bn/moving_mean:0. Weight expects shape (480,). Received saved weight with shape (576,)\n"
     ]
    },
    {
     "name": "stderr",
     "output_type": "stream",
     "text": [
      "WARNING:tensorflow:Skipping loading weights for layer #137 (named block4b_bn) due to mismatch in shape for weight block4b_bn/moving_mean:0. Weight expects shape (480,). Received saved weight with shape (576,)\n"
     ]
    },
    {
     "name": "stdout",
     "output_type": "stream",
     "text": [
      "WARNING:tensorflow:Skipping loading weights for layer #137 (named block4b_bn) due to mismatch in shape for weight block4b_bn/moving_variance:0. Weight expects shape (480,). Received saved weight with shape (576,)\n"
     ]
    },
    {
     "name": "stderr",
     "output_type": "stream",
     "text": [
      "WARNING:tensorflow:Skipping loading weights for layer #137 (named block4b_bn) due to mismatch in shape for weight block4b_bn/moving_variance:0. Weight expects shape (480,). Received saved weight with shape (576,)\n"
     ]
    },
    {
     "name": "stdout",
     "output_type": "stream",
     "text": [
      "WARNING:tensorflow:Skipping loading weights for layer #141 (named block4b_se_reduce) due to mismatch in shape for weight block4b_se_reduce/kernel:0. Weight expects shape (1, 1, 480, 20). Received saved weight with shape (24, 576, 1, 1)\n"
     ]
    },
    {
     "name": "stderr",
     "output_type": "stream",
     "text": [
      "WARNING:tensorflow:Skipping loading weights for layer #141 (named block4b_se_reduce) due to mismatch in shape for weight block4b_se_reduce/kernel:0. Weight expects shape (1, 1, 480, 20). Received saved weight with shape (24, 576, 1, 1)\n"
     ]
    },
    {
     "name": "stdout",
     "output_type": "stream",
     "text": [
      "WARNING:tensorflow:Skipping loading weights for layer #141 (named block4b_se_reduce) due to mismatch in shape for weight block4b_se_reduce/bias:0. Weight expects shape (20,). Received saved weight with shape (24,)\n"
     ]
    },
    {
     "name": "stderr",
     "output_type": "stream",
     "text": [
      "WARNING:tensorflow:Skipping loading weights for layer #141 (named block4b_se_reduce) due to mismatch in shape for weight block4b_se_reduce/bias:0. Weight expects shape (20,). Received saved weight with shape (24,)\n"
     ]
    },
    {
     "name": "stdout",
     "output_type": "stream",
     "text": [
      "WARNING:tensorflow:Skipping loading weights for layer #142 (named block4b_se_expand) due to mismatch in shape for weight block4b_se_expand/kernel:0. Weight expects shape (1, 1, 20, 480). Received saved weight with shape (576, 24, 1, 1)\n"
     ]
    },
    {
     "name": "stderr",
     "output_type": "stream",
     "text": [
      "WARNING:tensorflow:Skipping loading weights for layer #142 (named block4b_se_expand) due to mismatch in shape for weight block4b_se_expand/kernel:0. Weight expects shape (1, 1, 20, 480). Received saved weight with shape (576, 24, 1, 1)\n"
     ]
    },
    {
     "name": "stdout",
     "output_type": "stream",
     "text": [
      "WARNING:tensorflow:Skipping loading weights for layer #142 (named block4b_se_expand) due to mismatch in shape for weight block4b_se_expand/bias:0. Weight expects shape (480,). Received saved weight with shape (576,)\n"
     ]
    },
    {
     "name": "stderr",
     "output_type": "stream",
     "text": [
      "WARNING:tensorflow:Skipping loading weights for layer #142 (named block4b_se_expand) due to mismatch in shape for weight block4b_se_expand/bias:0. Weight expects shape (480,). Received saved weight with shape (576,)\n"
     ]
    },
    {
     "name": "stdout",
     "output_type": "stream",
     "text": [
      "WARNING:tensorflow:Skipping loading weights for layer #144 (named block4b_project_conv) due to mismatch in shape for weight block4b_project_conv/kernel:0. Weight expects shape (1, 1, 480, 80). Received saved weight with shape (96, 576, 1, 1)\n"
     ]
    },
    {
     "name": "stderr",
     "output_type": "stream",
     "text": [
      "WARNING:tensorflow:Skipping loading weights for layer #144 (named block4b_project_conv) due to mismatch in shape for weight block4b_project_conv/kernel:0. Weight expects shape (1, 1, 480, 80). Received saved weight with shape (96, 576, 1, 1)\n"
     ]
    },
    {
     "name": "stdout",
     "output_type": "stream",
     "text": [
      "WARNING:tensorflow:Skipping loading weights for layer #145 (named block4b_project_bn) due to mismatch in shape for weight block4b_project_bn/gamma:0. Weight expects shape (80,). Received saved weight with shape (96,)\n"
     ]
    },
    {
     "name": "stderr",
     "output_type": "stream",
     "text": [
      "WARNING:tensorflow:Skipping loading weights for layer #145 (named block4b_project_bn) due to mismatch in shape for weight block4b_project_bn/gamma:0. Weight expects shape (80,). Received saved weight with shape (96,)\n"
     ]
    },
    {
     "name": "stdout",
     "output_type": "stream",
     "text": [
      "WARNING:tensorflow:Skipping loading weights for layer #145 (named block4b_project_bn) due to mismatch in shape for weight block4b_project_bn/beta:0. Weight expects shape (80,). Received saved weight with shape (96,)\n"
     ]
    },
    {
     "name": "stderr",
     "output_type": "stream",
     "text": [
      "WARNING:tensorflow:Skipping loading weights for layer #145 (named block4b_project_bn) due to mismatch in shape for weight block4b_project_bn/beta:0. Weight expects shape (80,). Received saved weight with shape (96,)\n"
     ]
    },
    {
     "name": "stdout",
     "output_type": "stream",
     "text": [
      "WARNING:tensorflow:Skipping loading weights for layer #145 (named block4b_project_bn) due to mismatch in shape for weight block4b_project_bn/moving_mean:0. Weight expects shape (80,). Received saved weight with shape (96,)\n"
     ]
    },
    {
     "name": "stderr",
     "output_type": "stream",
     "text": [
      "WARNING:tensorflow:Skipping loading weights for layer #145 (named block4b_project_bn) due to mismatch in shape for weight block4b_project_bn/moving_mean:0. Weight expects shape (80,). Received saved weight with shape (96,)\n"
     ]
    },
    {
     "name": "stdout",
     "output_type": "stream",
     "text": [
      "WARNING:tensorflow:Skipping loading weights for layer #145 (named block4b_project_bn) due to mismatch in shape for weight block4b_project_bn/moving_variance:0. Weight expects shape (80,). Received saved weight with shape (96,)\n"
     ]
    },
    {
     "name": "stderr",
     "output_type": "stream",
     "text": [
      "WARNING:tensorflow:Skipping loading weights for layer #145 (named block4b_project_bn) due to mismatch in shape for weight block4b_project_bn/moving_variance:0. Weight expects shape (80,). Received saved weight with shape (96,)\n"
     ]
    },
    {
     "name": "stdout",
     "output_type": "stream",
     "text": [
      "WARNING:tensorflow:Skipping loading weights for layer #148 (named block4c_expand_conv) due to mismatch in shape for weight block4c_expand_conv/kernel:0. Weight expects shape (1, 1, 80, 480). Received saved weight with shape (576, 96, 1, 1)\n"
     ]
    },
    {
     "name": "stderr",
     "output_type": "stream",
     "text": [
      "WARNING:tensorflow:Skipping loading weights for layer #148 (named block4c_expand_conv) due to mismatch in shape for weight block4c_expand_conv/kernel:0. Weight expects shape (1, 1, 80, 480). Received saved weight with shape (576, 96, 1, 1)\n"
     ]
    },
    {
     "name": "stdout",
     "output_type": "stream",
     "text": [
      "WARNING:tensorflow:Skipping loading weights for layer #149 (named block4c_expand_bn) due to mismatch in shape for weight block4c_expand_bn/gamma:0. Weight expects shape (480,). Received saved weight with shape (576,)\n"
     ]
    },
    {
     "name": "stderr",
     "output_type": "stream",
     "text": [
      "WARNING:tensorflow:Skipping loading weights for layer #149 (named block4c_expand_bn) due to mismatch in shape for weight block4c_expand_bn/gamma:0. Weight expects shape (480,). Received saved weight with shape (576,)\n"
     ]
    },
    {
     "name": "stdout",
     "output_type": "stream",
     "text": [
      "WARNING:tensorflow:Skipping loading weights for layer #149 (named block4c_expand_bn) due to mismatch in shape for weight block4c_expand_bn/beta:0. Weight expects shape (480,). Received saved weight with shape (576,)\n"
     ]
    },
    {
     "name": "stderr",
     "output_type": "stream",
     "text": [
      "WARNING:tensorflow:Skipping loading weights for layer #149 (named block4c_expand_bn) due to mismatch in shape for weight block4c_expand_bn/beta:0. Weight expects shape (480,). Received saved weight with shape (576,)\n"
     ]
    },
    {
     "name": "stdout",
     "output_type": "stream",
     "text": [
      "WARNING:tensorflow:Skipping loading weights for layer #149 (named block4c_expand_bn) due to mismatch in shape for weight block4c_expand_bn/moving_mean:0. Weight expects shape (480,). Received saved weight with shape (576,)\n"
     ]
    },
    {
     "name": "stderr",
     "output_type": "stream",
     "text": [
      "WARNING:tensorflow:Skipping loading weights for layer #149 (named block4c_expand_bn) due to mismatch in shape for weight block4c_expand_bn/moving_mean:0. Weight expects shape (480,). Received saved weight with shape (576,)\n"
     ]
    },
    {
     "name": "stdout",
     "output_type": "stream",
     "text": [
      "WARNING:tensorflow:Skipping loading weights for layer #149 (named block4c_expand_bn) due to mismatch in shape for weight block4c_expand_bn/moving_variance:0. Weight expects shape (480,). Received saved weight with shape (576,)\n"
     ]
    },
    {
     "name": "stderr",
     "output_type": "stream",
     "text": [
      "WARNING:tensorflow:Skipping loading weights for layer #149 (named block4c_expand_bn) due to mismatch in shape for weight block4c_expand_bn/moving_variance:0. Weight expects shape (480,). Received saved weight with shape (576,)\n"
     ]
    },
    {
     "name": "stdout",
     "output_type": "stream",
     "text": [
      "WARNING:tensorflow:Skipping loading weights for layer #151 (named block4c_dwconv) due to mismatch in shape for weight block4c_dwconv/depthwise_kernel:0. Weight expects shape (3, 3, 480, 1). Received saved weight with shape (3, 3, 576, 1)\n"
     ]
    },
    {
     "name": "stderr",
     "output_type": "stream",
     "text": [
      "WARNING:tensorflow:Skipping loading weights for layer #151 (named block4c_dwconv) due to mismatch in shape for weight block4c_dwconv/depthwise_kernel:0. Weight expects shape (3, 3, 480, 1). Received saved weight with shape (3, 3, 576, 1)\n"
     ]
    },
    {
     "name": "stdout",
     "output_type": "stream",
     "text": [
      "WARNING:tensorflow:Skipping loading weights for layer #152 (named block4c_bn) due to mismatch in shape for weight block4c_bn/gamma:0. Weight expects shape (480,). Received saved weight with shape (576,)\n"
     ]
    },
    {
     "name": "stderr",
     "output_type": "stream",
     "text": [
      "WARNING:tensorflow:Skipping loading weights for layer #152 (named block4c_bn) due to mismatch in shape for weight block4c_bn/gamma:0. Weight expects shape (480,). Received saved weight with shape (576,)\n"
     ]
    },
    {
     "name": "stdout",
     "output_type": "stream",
     "text": [
      "WARNING:tensorflow:Skipping loading weights for layer #152 (named block4c_bn) due to mismatch in shape for weight block4c_bn/beta:0. Weight expects shape (480,). Received saved weight with shape (576,)\n"
     ]
    },
    {
     "name": "stderr",
     "output_type": "stream",
     "text": [
      "WARNING:tensorflow:Skipping loading weights for layer #152 (named block4c_bn) due to mismatch in shape for weight block4c_bn/beta:0. Weight expects shape (480,). Received saved weight with shape (576,)\n"
     ]
    },
    {
     "name": "stdout",
     "output_type": "stream",
     "text": [
      "WARNING:tensorflow:Skipping loading weights for layer #152 (named block4c_bn) due to mismatch in shape for weight block4c_bn/moving_mean:0. Weight expects shape (480,). Received saved weight with shape (576,)\n"
     ]
    },
    {
     "name": "stderr",
     "output_type": "stream",
     "text": [
      "WARNING:tensorflow:Skipping loading weights for layer #152 (named block4c_bn) due to mismatch in shape for weight block4c_bn/moving_mean:0. Weight expects shape (480,). Received saved weight with shape (576,)\n"
     ]
    },
    {
     "name": "stdout",
     "output_type": "stream",
     "text": [
      "WARNING:tensorflow:Skipping loading weights for layer #152 (named block4c_bn) due to mismatch in shape for weight block4c_bn/moving_variance:0. Weight expects shape (480,). Received saved weight with shape (576,)\n"
     ]
    },
    {
     "name": "stderr",
     "output_type": "stream",
     "text": [
      "WARNING:tensorflow:Skipping loading weights for layer #152 (named block4c_bn) due to mismatch in shape for weight block4c_bn/moving_variance:0. Weight expects shape (480,). Received saved weight with shape (576,)\n"
     ]
    },
    {
     "name": "stdout",
     "output_type": "stream",
     "text": [
      "WARNING:tensorflow:Skipping loading weights for layer #156 (named block4c_se_reduce) due to mismatch in shape for weight block4c_se_reduce/kernel:0. Weight expects shape (1, 1, 480, 20). Received saved weight with shape (24, 576, 1, 1)\n"
     ]
    },
    {
     "name": "stderr",
     "output_type": "stream",
     "text": [
      "WARNING:tensorflow:Skipping loading weights for layer #156 (named block4c_se_reduce) due to mismatch in shape for weight block4c_se_reduce/kernel:0. Weight expects shape (1, 1, 480, 20). Received saved weight with shape (24, 576, 1, 1)\n"
     ]
    },
    {
     "name": "stdout",
     "output_type": "stream",
     "text": [
      "WARNING:tensorflow:Skipping loading weights for layer #156 (named block4c_se_reduce) due to mismatch in shape for weight block4c_se_reduce/bias:0. Weight expects shape (20,). Received saved weight with shape (24,)\n"
     ]
    },
    {
     "name": "stderr",
     "output_type": "stream",
     "text": [
      "WARNING:tensorflow:Skipping loading weights for layer #156 (named block4c_se_reduce) due to mismatch in shape for weight block4c_se_reduce/bias:0. Weight expects shape (20,). Received saved weight with shape (24,)\n"
     ]
    },
    {
     "name": "stdout",
     "output_type": "stream",
     "text": [
      "WARNING:tensorflow:Skipping loading weights for layer #157 (named block4c_se_expand) due to mismatch in shape for weight block4c_se_expand/kernel:0. Weight expects shape (1, 1, 20, 480). Received saved weight with shape (576, 24, 1, 1)\n"
     ]
    },
    {
     "name": "stderr",
     "output_type": "stream",
     "text": [
      "WARNING:tensorflow:Skipping loading weights for layer #157 (named block4c_se_expand) due to mismatch in shape for weight block4c_se_expand/kernel:0. Weight expects shape (1, 1, 20, 480). Received saved weight with shape (576, 24, 1, 1)\n"
     ]
    },
    {
     "name": "stdout",
     "output_type": "stream",
     "text": [
      "WARNING:tensorflow:Skipping loading weights for layer #157 (named block4c_se_expand) due to mismatch in shape for weight block4c_se_expand/bias:0. Weight expects shape (480,). Received saved weight with shape (576,)\n"
     ]
    },
    {
     "name": "stderr",
     "output_type": "stream",
     "text": [
      "WARNING:tensorflow:Skipping loading weights for layer #157 (named block4c_se_expand) due to mismatch in shape for weight block4c_se_expand/bias:0. Weight expects shape (480,). Received saved weight with shape (576,)\n"
     ]
    },
    {
     "name": "stdout",
     "output_type": "stream",
     "text": [
      "WARNING:tensorflow:Skipping loading weights for layer #159 (named block4c_project_conv) due to mismatch in shape for weight block4c_project_conv/kernel:0. Weight expects shape (1, 1, 480, 80). Received saved weight with shape (96, 576, 1, 1)\n"
     ]
    },
    {
     "name": "stderr",
     "output_type": "stream",
     "text": [
      "WARNING:tensorflow:Skipping loading weights for layer #159 (named block4c_project_conv) due to mismatch in shape for weight block4c_project_conv/kernel:0. Weight expects shape (1, 1, 480, 80). Received saved weight with shape (96, 576, 1, 1)\n"
     ]
    },
    {
     "name": "stdout",
     "output_type": "stream",
     "text": [
      "WARNING:tensorflow:Skipping loading weights for layer #160 (named block4c_project_bn) due to mismatch in shape for weight block4c_project_bn/gamma:0. Weight expects shape (80,). Received saved weight with shape (96,)\n"
     ]
    },
    {
     "name": "stderr",
     "output_type": "stream",
     "text": [
      "WARNING:tensorflow:Skipping loading weights for layer #160 (named block4c_project_bn) due to mismatch in shape for weight block4c_project_bn/gamma:0. Weight expects shape (80,). Received saved weight with shape (96,)\n"
     ]
    },
    {
     "name": "stdout",
     "output_type": "stream",
     "text": [
      "WARNING:tensorflow:Skipping loading weights for layer #160 (named block4c_project_bn) due to mismatch in shape for weight block4c_project_bn/beta:0. Weight expects shape (80,). Received saved weight with shape (96,)\n"
     ]
    },
    {
     "name": "stderr",
     "output_type": "stream",
     "text": [
      "WARNING:tensorflow:Skipping loading weights for layer #160 (named block4c_project_bn) due to mismatch in shape for weight block4c_project_bn/beta:0. Weight expects shape (80,). Received saved weight with shape (96,)\n"
     ]
    },
    {
     "name": "stdout",
     "output_type": "stream",
     "text": [
      "WARNING:tensorflow:Skipping loading weights for layer #160 (named block4c_project_bn) due to mismatch in shape for weight block4c_project_bn/moving_mean:0. Weight expects shape (80,). Received saved weight with shape (96,)\n"
     ]
    },
    {
     "name": "stderr",
     "output_type": "stream",
     "text": [
      "WARNING:tensorflow:Skipping loading weights for layer #160 (named block4c_project_bn) due to mismatch in shape for weight block4c_project_bn/moving_mean:0. Weight expects shape (80,). Received saved weight with shape (96,)\n"
     ]
    },
    {
     "name": "stdout",
     "output_type": "stream",
     "text": [
      "WARNING:tensorflow:Skipping loading weights for layer #160 (named block4c_project_bn) due to mismatch in shape for weight block4c_project_bn/moving_variance:0. Weight expects shape (80,). Received saved weight with shape (96,)\n"
     ]
    },
    {
     "name": "stderr",
     "output_type": "stream",
     "text": [
      "WARNING:tensorflow:Skipping loading weights for layer #160 (named block4c_project_bn) due to mismatch in shape for weight block4c_project_bn/moving_variance:0. Weight expects shape (80,). Received saved weight with shape (96,)\n"
     ]
    },
    {
     "name": "stdout",
     "output_type": "stream",
     "text": [
      "WARNING:tensorflow:Skipping loading weights for layer #193 (named block5a_expand_conv) due to mismatch in shape for weight block5a_expand_conv/kernel:0. Weight expects shape (1, 1, 80, 480). Received saved weight with shape (576, 96, 1, 1)\n"
     ]
    },
    {
     "name": "stderr",
     "output_type": "stream",
     "text": [
      "WARNING:tensorflow:Skipping loading weights for layer #193 (named block5a_expand_conv) due to mismatch in shape for weight block5a_expand_conv/kernel:0. Weight expects shape (1, 1, 80, 480). Received saved weight with shape (576, 96, 1, 1)\n"
     ]
    },
    {
     "name": "stdout",
     "output_type": "stream",
     "text": [
      "WARNING:tensorflow:Skipping loading weights for layer #194 (named block5a_expand_bn) due to mismatch in shape for weight block5a_expand_bn/gamma:0. Weight expects shape (480,). Received saved weight with shape (576,)\n"
     ]
    },
    {
     "name": "stderr",
     "output_type": "stream",
     "text": [
      "WARNING:tensorflow:Skipping loading weights for layer #194 (named block5a_expand_bn) due to mismatch in shape for weight block5a_expand_bn/gamma:0. Weight expects shape (480,). Received saved weight with shape (576,)\n"
     ]
    },
    {
     "name": "stdout",
     "output_type": "stream",
     "text": [
      "WARNING:tensorflow:Skipping loading weights for layer #194 (named block5a_expand_bn) due to mismatch in shape for weight block5a_expand_bn/beta:0. Weight expects shape (480,). Received saved weight with shape (576,)\n"
     ]
    },
    {
     "name": "stderr",
     "output_type": "stream",
     "text": [
      "WARNING:tensorflow:Skipping loading weights for layer #194 (named block5a_expand_bn) due to mismatch in shape for weight block5a_expand_bn/beta:0. Weight expects shape (480,). Received saved weight with shape (576,)\n"
     ]
    },
    {
     "name": "stdout",
     "output_type": "stream",
     "text": [
      "WARNING:tensorflow:Skipping loading weights for layer #194 (named block5a_expand_bn) due to mismatch in shape for weight block5a_expand_bn/moving_mean:0. Weight expects shape (480,). Received saved weight with shape (576,)\n"
     ]
    },
    {
     "name": "stderr",
     "output_type": "stream",
     "text": [
      "WARNING:tensorflow:Skipping loading weights for layer #194 (named block5a_expand_bn) due to mismatch in shape for weight block5a_expand_bn/moving_mean:0. Weight expects shape (480,). Received saved weight with shape (576,)\n"
     ]
    },
    {
     "name": "stdout",
     "output_type": "stream",
     "text": [
      "WARNING:tensorflow:Skipping loading weights for layer #194 (named block5a_expand_bn) due to mismatch in shape for weight block5a_expand_bn/moving_variance:0. Weight expects shape (480,). Received saved weight with shape (576,)\n"
     ]
    },
    {
     "name": "stderr",
     "output_type": "stream",
     "text": [
      "WARNING:tensorflow:Skipping loading weights for layer #194 (named block5a_expand_bn) due to mismatch in shape for weight block5a_expand_bn/moving_variance:0. Weight expects shape (480,). Received saved weight with shape (576,)\n"
     ]
    },
    {
     "name": "stdout",
     "output_type": "stream",
     "text": [
      "WARNING:tensorflow:Skipping loading weights for layer #196 (named block5a_dwconv) due to mismatch in shape for weight block5a_dwconv/depthwise_kernel:0. Weight expects shape (5, 5, 480, 1). Received saved weight with shape (5, 5, 576, 1)\n"
     ]
    },
    {
     "name": "stderr",
     "output_type": "stream",
     "text": [
      "WARNING:tensorflow:Skipping loading weights for layer #196 (named block5a_dwconv) due to mismatch in shape for weight block5a_dwconv/depthwise_kernel:0. Weight expects shape (5, 5, 480, 1). Received saved weight with shape (5, 5, 576, 1)\n"
     ]
    },
    {
     "name": "stdout",
     "output_type": "stream",
     "text": [
      "WARNING:tensorflow:Skipping loading weights for layer #197 (named block5a_bn) due to mismatch in shape for weight block5a_bn/gamma:0. Weight expects shape (480,). Received saved weight with shape (576,)\n"
     ]
    },
    {
     "name": "stderr",
     "output_type": "stream",
     "text": [
      "WARNING:tensorflow:Skipping loading weights for layer #197 (named block5a_bn) due to mismatch in shape for weight block5a_bn/gamma:0. Weight expects shape (480,). Received saved weight with shape (576,)\n"
     ]
    },
    {
     "name": "stdout",
     "output_type": "stream",
     "text": [
      "WARNING:tensorflow:Skipping loading weights for layer #197 (named block5a_bn) due to mismatch in shape for weight block5a_bn/beta:0. Weight expects shape (480,). Received saved weight with shape (576,)\n"
     ]
    },
    {
     "name": "stderr",
     "output_type": "stream",
     "text": [
      "WARNING:tensorflow:Skipping loading weights for layer #197 (named block5a_bn) due to mismatch in shape for weight block5a_bn/beta:0. Weight expects shape (480,). Received saved weight with shape (576,)\n"
     ]
    },
    {
     "name": "stdout",
     "output_type": "stream",
     "text": [
      "WARNING:tensorflow:Skipping loading weights for layer #197 (named block5a_bn) due to mismatch in shape for weight block5a_bn/moving_mean:0. Weight expects shape (480,). Received saved weight with shape (576,)\n"
     ]
    },
    {
     "name": "stderr",
     "output_type": "stream",
     "text": [
      "WARNING:tensorflow:Skipping loading weights for layer #197 (named block5a_bn) due to mismatch in shape for weight block5a_bn/moving_mean:0. Weight expects shape (480,). Received saved weight with shape (576,)\n"
     ]
    },
    {
     "name": "stdout",
     "output_type": "stream",
     "text": [
      "WARNING:tensorflow:Skipping loading weights for layer #197 (named block5a_bn) due to mismatch in shape for weight block5a_bn/moving_variance:0. Weight expects shape (480,). Received saved weight with shape (576,)\n"
     ]
    },
    {
     "name": "stderr",
     "output_type": "stream",
     "text": [
      "WARNING:tensorflow:Skipping loading weights for layer #197 (named block5a_bn) due to mismatch in shape for weight block5a_bn/moving_variance:0. Weight expects shape (480,). Received saved weight with shape (576,)\n"
     ]
    },
    {
     "name": "stdout",
     "output_type": "stream",
     "text": [
      "WARNING:tensorflow:Skipping loading weights for layer #201 (named block5a_se_reduce) due to mismatch in shape for weight block5a_se_reduce/kernel:0. Weight expects shape (1, 1, 480, 20). Received saved weight with shape (24, 576, 1, 1)\n"
     ]
    },
    {
     "name": "stderr",
     "output_type": "stream",
     "text": [
      "WARNING:tensorflow:Skipping loading weights for layer #201 (named block5a_se_reduce) due to mismatch in shape for weight block5a_se_reduce/kernel:0. Weight expects shape (1, 1, 480, 20). Received saved weight with shape (24, 576, 1, 1)\n"
     ]
    },
    {
     "name": "stdout",
     "output_type": "stream",
     "text": [
      "WARNING:tensorflow:Skipping loading weights for layer #201 (named block5a_se_reduce) due to mismatch in shape for weight block5a_se_reduce/bias:0. Weight expects shape (20,). Received saved weight with shape (24,)\n"
     ]
    },
    {
     "name": "stderr",
     "output_type": "stream",
     "text": [
      "WARNING:tensorflow:Skipping loading weights for layer #201 (named block5a_se_reduce) due to mismatch in shape for weight block5a_se_reduce/bias:0. Weight expects shape (20,). Received saved weight with shape (24,)\n"
     ]
    },
    {
     "name": "stdout",
     "output_type": "stream",
     "text": [
      "WARNING:tensorflow:Skipping loading weights for layer #202 (named block5a_se_expand) due to mismatch in shape for weight block5a_se_expand/kernel:0. Weight expects shape (1, 1, 20, 480). Received saved weight with shape (576, 24, 1, 1)\n"
     ]
    },
    {
     "name": "stderr",
     "output_type": "stream",
     "text": [
      "WARNING:tensorflow:Skipping loading weights for layer #202 (named block5a_se_expand) due to mismatch in shape for weight block5a_se_expand/kernel:0. Weight expects shape (1, 1, 20, 480). Received saved weight with shape (576, 24, 1, 1)\n"
     ]
    },
    {
     "name": "stdout",
     "output_type": "stream",
     "text": [
      "WARNING:tensorflow:Skipping loading weights for layer #202 (named block5a_se_expand) due to mismatch in shape for weight block5a_se_expand/bias:0. Weight expects shape (480,). Received saved weight with shape (576,)\n"
     ]
    },
    {
     "name": "stderr",
     "output_type": "stream",
     "text": [
      "WARNING:tensorflow:Skipping loading weights for layer #202 (named block5a_se_expand) due to mismatch in shape for weight block5a_se_expand/bias:0. Weight expects shape (480,). Received saved weight with shape (576,)\n"
     ]
    },
    {
     "name": "stdout",
     "output_type": "stream",
     "text": [
      "WARNING:tensorflow:Skipping loading weights for layer #204 (named block5a_project_conv) due to mismatch in shape for weight block5a_project_conv/kernel:0. Weight expects shape (1, 1, 480, 112). Received saved weight with shape (136, 576, 1, 1)\n"
     ]
    },
    {
     "name": "stderr",
     "output_type": "stream",
     "text": [
      "WARNING:tensorflow:Skipping loading weights for layer #204 (named block5a_project_conv) due to mismatch in shape for weight block5a_project_conv/kernel:0. Weight expects shape (1, 1, 480, 112). Received saved weight with shape (136, 576, 1, 1)\n"
     ]
    },
    {
     "name": "stdout",
     "output_type": "stream",
     "text": [
      "WARNING:tensorflow:Skipping loading weights for layer #205 (named block5a_project_bn) due to mismatch in shape for weight block5a_project_bn/gamma:0. Weight expects shape (112,). Received saved weight with shape (136,)\n"
     ]
    },
    {
     "name": "stderr",
     "output_type": "stream",
     "text": [
      "WARNING:tensorflow:Skipping loading weights for layer #205 (named block5a_project_bn) due to mismatch in shape for weight block5a_project_bn/gamma:0. Weight expects shape (112,). Received saved weight with shape (136,)\n"
     ]
    },
    {
     "name": "stdout",
     "output_type": "stream",
     "text": [
      "WARNING:tensorflow:Skipping loading weights for layer #205 (named block5a_project_bn) due to mismatch in shape for weight block5a_project_bn/beta:0. Weight expects shape (112,). Received saved weight with shape (136,)\n"
     ]
    },
    {
     "name": "stderr",
     "output_type": "stream",
     "text": [
      "WARNING:tensorflow:Skipping loading weights for layer #205 (named block5a_project_bn) due to mismatch in shape for weight block5a_project_bn/beta:0. Weight expects shape (112,). Received saved weight with shape (136,)\n"
     ]
    },
    {
     "name": "stdout",
     "output_type": "stream",
     "text": [
      "WARNING:tensorflow:Skipping loading weights for layer #205 (named block5a_project_bn) due to mismatch in shape for weight block5a_project_bn/moving_mean:0. Weight expects shape (112,). Received saved weight with shape (136,)\n"
     ]
    },
    {
     "name": "stderr",
     "output_type": "stream",
     "text": [
      "WARNING:tensorflow:Skipping loading weights for layer #205 (named block5a_project_bn) due to mismatch in shape for weight block5a_project_bn/moving_mean:0. Weight expects shape (112,). Received saved weight with shape (136,)\n"
     ]
    },
    {
     "name": "stdout",
     "output_type": "stream",
     "text": [
      "WARNING:tensorflow:Skipping loading weights for layer #205 (named block5a_project_bn) due to mismatch in shape for weight block5a_project_bn/moving_variance:0. Weight expects shape (112,). Received saved weight with shape (136,)\n"
     ]
    },
    {
     "name": "stderr",
     "output_type": "stream",
     "text": [
      "WARNING:tensorflow:Skipping loading weights for layer #205 (named block5a_project_bn) due to mismatch in shape for weight block5a_project_bn/moving_variance:0. Weight expects shape (112,). Received saved weight with shape (136,)\n"
     ]
    },
    {
     "name": "stdout",
     "output_type": "stream",
     "text": [
      "WARNING:tensorflow:Skipping loading weights for layer #206 (named block5b_expand_conv) due to mismatch in shape for weight block5b_expand_conv/kernel:0. Weight expects shape (1, 1, 112, 672). Received saved weight with shape (816, 136, 1, 1)\n"
     ]
    },
    {
     "name": "stderr",
     "output_type": "stream",
     "text": [
      "WARNING:tensorflow:Skipping loading weights for layer #206 (named block5b_expand_conv) due to mismatch in shape for weight block5b_expand_conv/kernel:0. Weight expects shape (1, 1, 112, 672). Received saved weight with shape (816, 136, 1, 1)\n"
     ]
    },
    {
     "name": "stdout",
     "output_type": "stream",
     "text": [
      "WARNING:tensorflow:Skipping loading weights for layer #207 (named block5b_expand_bn) due to mismatch in shape for weight block5b_expand_bn/gamma:0. Weight expects shape (672,). Received saved weight with shape (816,)\n"
     ]
    },
    {
     "name": "stderr",
     "output_type": "stream",
     "text": [
      "WARNING:tensorflow:Skipping loading weights for layer #207 (named block5b_expand_bn) due to mismatch in shape for weight block5b_expand_bn/gamma:0. Weight expects shape (672,). Received saved weight with shape (816,)\n"
     ]
    },
    {
     "name": "stdout",
     "output_type": "stream",
     "text": [
      "WARNING:tensorflow:Skipping loading weights for layer #207 (named block5b_expand_bn) due to mismatch in shape for weight block5b_expand_bn/beta:0. Weight expects shape (672,). Received saved weight with shape (816,)\n"
     ]
    },
    {
     "name": "stderr",
     "output_type": "stream",
     "text": [
      "WARNING:tensorflow:Skipping loading weights for layer #207 (named block5b_expand_bn) due to mismatch in shape for weight block5b_expand_bn/beta:0. Weight expects shape (672,). Received saved weight with shape (816,)\n"
     ]
    },
    {
     "name": "stdout",
     "output_type": "stream",
     "text": [
      "WARNING:tensorflow:Skipping loading weights for layer #207 (named block5b_expand_bn) due to mismatch in shape for weight block5b_expand_bn/moving_mean:0. Weight expects shape (672,). Received saved weight with shape (816,)\n"
     ]
    },
    {
     "name": "stderr",
     "output_type": "stream",
     "text": [
      "WARNING:tensorflow:Skipping loading weights for layer #207 (named block5b_expand_bn) due to mismatch in shape for weight block5b_expand_bn/moving_mean:0. Weight expects shape (672,). Received saved weight with shape (816,)\n"
     ]
    },
    {
     "name": "stdout",
     "output_type": "stream",
     "text": [
      "WARNING:tensorflow:Skipping loading weights for layer #207 (named block5b_expand_bn) due to mismatch in shape for weight block5b_expand_bn/moving_variance:0. Weight expects shape (672,). Received saved weight with shape (816,)\n"
     ]
    },
    {
     "name": "stderr",
     "output_type": "stream",
     "text": [
      "WARNING:tensorflow:Skipping loading weights for layer #207 (named block5b_expand_bn) due to mismatch in shape for weight block5b_expand_bn/moving_variance:0. Weight expects shape (672,). Received saved weight with shape (816,)\n"
     ]
    },
    {
     "name": "stdout",
     "output_type": "stream",
     "text": [
      "WARNING:tensorflow:Skipping loading weights for layer #209 (named block5b_dwconv) due to mismatch in shape for weight block5b_dwconv/depthwise_kernel:0. Weight expects shape (5, 5, 672, 1). Received saved weight with shape (5, 5, 816, 1)\n"
     ]
    },
    {
     "name": "stderr",
     "output_type": "stream",
     "text": [
      "WARNING:tensorflow:Skipping loading weights for layer #209 (named block5b_dwconv) due to mismatch in shape for weight block5b_dwconv/depthwise_kernel:0. Weight expects shape (5, 5, 672, 1). Received saved weight with shape (5, 5, 816, 1)\n"
     ]
    },
    {
     "name": "stdout",
     "output_type": "stream",
     "text": [
      "WARNING:tensorflow:Skipping loading weights for layer #210 (named block5b_bn) due to mismatch in shape for weight block5b_bn/gamma:0. Weight expects shape (672,). Received saved weight with shape (816,)\n"
     ]
    },
    {
     "name": "stderr",
     "output_type": "stream",
     "text": [
      "WARNING:tensorflow:Skipping loading weights for layer #210 (named block5b_bn) due to mismatch in shape for weight block5b_bn/gamma:0. Weight expects shape (672,). Received saved weight with shape (816,)\n"
     ]
    },
    {
     "name": "stdout",
     "output_type": "stream",
     "text": [
      "WARNING:tensorflow:Skipping loading weights for layer #210 (named block5b_bn) due to mismatch in shape for weight block5b_bn/beta:0. Weight expects shape (672,). Received saved weight with shape (816,)\n"
     ]
    },
    {
     "name": "stderr",
     "output_type": "stream",
     "text": [
      "WARNING:tensorflow:Skipping loading weights for layer #210 (named block5b_bn) due to mismatch in shape for weight block5b_bn/beta:0. Weight expects shape (672,). Received saved weight with shape (816,)\n"
     ]
    },
    {
     "name": "stdout",
     "output_type": "stream",
     "text": [
      "WARNING:tensorflow:Skipping loading weights for layer #210 (named block5b_bn) due to mismatch in shape for weight block5b_bn/moving_mean:0. Weight expects shape (672,). Received saved weight with shape (816,)\n"
     ]
    },
    {
     "name": "stderr",
     "output_type": "stream",
     "text": [
      "WARNING:tensorflow:Skipping loading weights for layer #210 (named block5b_bn) due to mismatch in shape for weight block5b_bn/moving_mean:0. Weight expects shape (672,). Received saved weight with shape (816,)\n"
     ]
    },
    {
     "name": "stdout",
     "output_type": "stream",
     "text": [
      "WARNING:tensorflow:Skipping loading weights for layer #210 (named block5b_bn) due to mismatch in shape for weight block5b_bn/moving_variance:0. Weight expects shape (672,). Received saved weight with shape (816,)\n"
     ]
    },
    {
     "name": "stderr",
     "output_type": "stream",
     "text": [
      "WARNING:tensorflow:Skipping loading weights for layer #210 (named block5b_bn) due to mismatch in shape for weight block5b_bn/moving_variance:0. Weight expects shape (672,). Received saved weight with shape (816,)\n"
     ]
    },
    {
     "name": "stdout",
     "output_type": "stream",
     "text": [
      "WARNING:tensorflow:Skipping loading weights for layer #214 (named block5b_se_reduce) due to mismatch in shape for weight block5b_se_reduce/kernel:0. Weight expects shape (1, 1, 672, 28). Received saved weight with shape (34, 816, 1, 1)\n"
     ]
    },
    {
     "name": "stderr",
     "output_type": "stream",
     "text": [
      "WARNING:tensorflow:Skipping loading weights for layer #214 (named block5b_se_reduce) due to mismatch in shape for weight block5b_se_reduce/kernel:0. Weight expects shape (1, 1, 672, 28). Received saved weight with shape (34, 816, 1, 1)\n"
     ]
    },
    {
     "name": "stdout",
     "output_type": "stream",
     "text": [
      "WARNING:tensorflow:Skipping loading weights for layer #214 (named block5b_se_reduce) due to mismatch in shape for weight block5b_se_reduce/bias:0. Weight expects shape (28,). Received saved weight with shape (34,)\n"
     ]
    },
    {
     "name": "stderr",
     "output_type": "stream",
     "text": [
      "WARNING:tensorflow:Skipping loading weights for layer #214 (named block5b_se_reduce) due to mismatch in shape for weight block5b_se_reduce/bias:0. Weight expects shape (28,). Received saved weight with shape (34,)\n"
     ]
    },
    {
     "name": "stdout",
     "output_type": "stream",
     "text": [
      "WARNING:tensorflow:Skipping loading weights for layer #215 (named block5b_se_expand) due to mismatch in shape for weight block5b_se_expand/kernel:0. Weight expects shape (1, 1, 28, 672). Received saved weight with shape (816, 34, 1, 1)\n"
     ]
    },
    {
     "name": "stderr",
     "output_type": "stream",
     "text": [
      "WARNING:tensorflow:Skipping loading weights for layer #215 (named block5b_se_expand) due to mismatch in shape for weight block5b_se_expand/kernel:0. Weight expects shape (1, 1, 28, 672). Received saved weight with shape (816, 34, 1, 1)\n"
     ]
    },
    {
     "name": "stdout",
     "output_type": "stream",
     "text": [
      "WARNING:tensorflow:Skipping loading weights for layer #215 (named block5b_se_expand) due to mismatch in shape for weight block5b_se_expand/bias:0. Weight expects shape (672,). Received saved weight with shape (816,)\n"
     ]
    },
    {
     "name": "stderr",
     "output_type": "stream",
     "text": [
      "WARNING:tensorflow:Skipping loading weights for layer #215 (named block5b_se_expand) due to mismatch in shape for weight block5b_se_expand/bias:0. Weight expects shape (672,). Received saved weight with shape (816,)\n"
     ]
    },
    {
     "name": "stdout",
     "output_type": "stream",
     "text": [
      "WARNING:tensorflow:Skipping loading weights for layer #217 (named block5b_project_conv) due to mismatch in shape for weight block5b_project_conv/kernel:0. Weight expects shape (1, 1, 672, 112). Received saved weight with shape (136, 816, 1, 1)\n"
     ]
    },
    {
     "name": "stderr",
     "output_type": "stream",
     "text": [
      "WARNING:tensorflow:Skipping loading weights for layer #217 (named block5b_project_conv) due to mismatch in shape for weight block5b_project_conv/kernel:0. Weight expects shape (1, 1, 672, 112). Received saved weight with shape (136, 816, 1, 1)\n"
     ]
    },
    {
     "name": "stdout",
     "output_type": "stream",
     "text": [
      "WARNING:tensorflow:Skipping loading weights for layer #218 (named block5b_project_bn) due to mismatch in shape for weight block5b_project_bn/gamma:0. Weight expects shape (112,). Received saved weight with shape (136,)\n"
     ]
    },
    {
     "name": "stderr",
     "output_type": "stream",
     "text": [
      "WARNING:tensorflow:Skipping loading weights for layer #218 (named block5b_project_bn) due to mismatch in shape for weight block5b_project_bn/gamma:0. Weight expects shape (112,). Received saved weight with shape (136,)\n"
     ]
    },
    {
     "name": "stdout",
     "output_type": "stream",
     "text": [
      "WARNING:tensorflow:Skipping loading weights for layer #218 (named block5b_project_bn) due to mismatch in shape for weight block5b_project_bn/beta:0. Weight expects shape (112,). Received saved weight with shape (136,)\n"
     ]
    },
    {
     "name": "stderr",
     "output_type": "stream",
     "text": [
      "WARNING:tensorflow:Skipping loading weights for layer #218 (named block5b_project_bn) due to mismatch in shape for weight block5b_project_bn/beta:0. Weight expects shape (112,). Received saved weight with shape (136,)\n"
     ]
    },
    {
     "name": "stdout",
     "output_type": "stream",
     "text": [
      "WARNING:tensorflow:Skipping loading weights for layer #218 (named block5b_project_bn) due to mismatch in shape for weight block5b_project_bn/moving_mean:0. Weight expects shape (112,). Received saved weight with shape (136,)\n"
     ]
    },
    {
     "name": "stderr",
     "output_type": "stream",
     "text": [
      "WARNING:tensorflow:Skipping loading weights for layer #218 (named block5b_project_bn) due to mismatch in shape for weight block5b_project_bn/moving_mean:0. Weight expects shape (112,). Received saved weight with shape (136,)\n"
     ]
    },
    {
     "name": "stdout",
     "output_type": "stream",
     "text": [
      "WARNING:tensorflow:Skipping loading weights for layer #218 (named block5b_project_bn) due to mismatch in shape for weight block5b_project_bn/moving_variance:0. Weight expects shape (112,). Received saved weight with shape (136,)\n"
     ]
    },
    {
     "name": "stderr",
     "output_type": "stream",
     "text": [
      "WARNING:tensorflow:Skipping loading weights for layer #218 (named block5b_project_bn) due to mismatch in shape for weight block5b_project_bn/moving_variance:0. Weight expects shape (112,). Received saved weight with shape (136,)\n"
     ]
    },
    {
     "name": "stdout",
     "output_type": "stream",
     "text": [
      "WARNING:tensorflow:Skipping loading weights for layer #221 (named block5c_expand_conv) due to mismatch in shape for weight block5c_expand_conv/kernel:0. Weight expects shape (1, 1, 112, 672). Received saved weight with shape (816, 136, 1, 1)\n"
     ]
    },
    {
     "name": "stderr",
     "output_type": "stream",
     "text": [
      "WARNING:tensorflow:Skipping loading weights for layer #221 (named block5c_expand_conv) due to mismatch in shape for weight block5c_expand_conv/kernel:0. Weight expects shape (1, 1, 112, 672). Received saved weight with shape (816, 136, 1, 1)\n"
     ]
    },
    {
     "name": "stdout",
     "output_type": "stream",
     "text": [
      "WARNING:tensorflow:Skipping loading weights for layer #222 (named block5c_expand_bn) due to mismatch in shape for weight block5c_expand_bn/gamma:0. Weight expects shape (672,). Received saved weight with shape (816,)\n"
     ]
    },
    {
     "name": "stderr",
     "output_type": "stream",
     "text": [
      "WARNING:tensorflow:Skipping loading weights for layer #222 (named block5c_expand_bn) due to mismatch in shape for weight block5c_expand_bn/gamma:0. Weight expects shape (672,). Received saved weight with shape (816,)\n"
     ]
    },
    {
     "name": "stdout",
     "output_type": "stream",
     "text": [
      "WARNING:tensorflow:Skipping loading weights for layer #222 (named block5c_expand_bn) due to mismatch in shape for weight block5c_expand_bn/beta:0. Weight expects shape (672,). Received saved weight with shape (816,)\n"
     ]
    },
    {
     "name": "stderr",
     "output_type": "stream",
     "text": [
      "WARNING:tensorflow:Skipping loading weights for layer #222 (named block5c_expand_bn) due to mismatch in shape for weight block5c_expand_bn/beta:0. Weight expects shape (672,). Received saved weight with shape (816,)\n"
     ]
    },
    {
     "name": "stdout",
     "output_type": "stream",
     "text": [
      "WARNING:tensorflow:Skipping loading weights for layer #222 (named block5c_expand_bn) due to mismatch in shape for weight block5c_expand_bn/moving_mean:0. Weight expects shape (672,). Received saved weight with shape (816,)\n"
     ]
    },
    {
     "name": "stderr",
     "output_type": "stream",
     "text": [
      "WARNING:tensorflow:Skipping loading weights for layer #222 (named block5c_expand_bn) due to mismatch in shape for weight block5c_expand_bn/moving_mean:0. Weight expects shape (672,). Received saved weight with shape (816,)\n"
     ]
    },
    {
     "name": "stdout",
     "output_type": "stream",
     "text": [
      "WARNING:tensorflow:Skipping loading weights for layer #222 (named block5c_expand_bn) due to mismatch in shape for weight block5c_expand_bn/moving_variance:0. Weight expects shape (672,). Received saved weight with shape (816,)\n"
     ]
    },
    {
     "name": "stderr",
     "output_type": "stream",
     "text": [
      "WARNING:tensorflow:Skipping loading weights for layer #222 (named block5c_expand_bn) due to mismatch in shape for weight block5c_expand_bn/moving_variance:0. Weight expects shape (672,). Received saved weight with shape (816,)\n"
     ]
    },
    {
     "name": "stdout",
     "output_type": "stream",
     "text": [
      "WARNING:tensorflow:Skipping loading weights for layer #224 (named block5c_dwconv) due to mismatch in shape for weight block5c_dwconv/depthwise_kernel:0. Weight expects shape (5, 5, 672, 1). Received saved weight with shape (5, 5, 816, 1)\n"
     ]
    },
    {
     "name": "stderr",
     "output_type": "stream",
     "text": [
      "WARNING:tensorflow:Skipping loading weights for layer #224 (named block5c_dwconv) due to mismatch in shape for weight block5c_dwconv/depthwise_kernel:0. Weight expects shape (5, 5, 672, 1). Received saved weight with shape (5, 5, 816, 1)\n"
     ]
    },
    {
     "name": "stdout",
     "output_type": "stream",
     "text": [
      "WARNING:tensorflow:Skipping loading weights for layer #225 (named block5c_bn) due to mismatch in shape for weight block5c_bn/gamma:0. Weight expects shape (672,). Received saved weight with shape (816,)\n"
     ]
    },
    {
     "name": "stderr",
     "output_type": "stream",
     "text": [
      "WARNING:tensorflow:Skipping loading weights for layer #225 (named block5c_bn) due to mismatch in shape for weight block5c_bn/gamma:0. Weight expects shape (672,). Received saved weight with shape (816,)\n"
     ]
    },
    {
     "name": "stdout",
     "output_type": "stream",
     "text": [
      "WARNING:tensorflow:Skipping loading weights for layer #225 (named block5c_bn) due to mismatch in shape for weight block5c_bn/beta:0. Weight expects shape (672,). Received saved weight with shape (816,)\n"
     ]
    },
    {
     "name": "stderr",
     "output_type": "stream",
     "text": [
      "WARNING:tensorflow:Skipping loading weights for layer #225 (named block5c_bn) due to mismatch in shape for weight block5c_bn/beta:0. Weight expects shape (672,). Received saved weight with shape (816,)\n"
     ]
    },
    {
     "name": "stdout",
     "output_type": "stream",
     "text": [
      "WARNING:tensorflow:Skipping loading weights for layer #225 (named block5c_bn) due to mismatch in shape for weight block5c_bn/moving_mean:0. Weight expects shape (672,). Received saved weight with shape (816,)\n"
     ]
    },
    {
     "name": "stderr",
     "output_type": "stream",
     "text": [
      "WARNING:tensorflow:Skipping loading weights for layer #225 (named block5c_bn) due to mismatch in shape for weight block5c_bn/moving_mean:0. Weight expects shape (672,). Received saved weight with shape (816,)\n"
     ]
    },
    {
     "name": "stdout",
     "output_type": "stream",
     "text": [
      "WARNING:tensorflow:Skipping loading weights for layer #225 (named block5c_bn) due to mismatch in shape for weight block5c_bn/moving_variance:0. Weight expects shape (672,). Received saved weight with shape (816,)\n"
     ]
    },
    {
     "name": "stderr",
     "output_type": "stream",
     "text": [
      "WARNING:tensorflow:Skipping loading weights for layer #225 (named block5c_bn) due to mismatch in shape for weight block5c_bn/moving_variance:0. Weight expects shape (672,). Received saved weight with shape (816,)\n"
     ]
    },
    {
     "name": "stdout",
     "output_type": "stream",
     "text": [
      "WARNING:tensorflow:Skipping loading weights for layer #229 (named block5c_se_reduce) due to mismatch in shape for weight block5c_se_reduce/kernel:0. Weight expects shape (1, 1, 672, 28). Received saved weight with shape (34, 816, 1, 1)\n"
     ]
    },
    {
     "name": "stderr",
     "output_type": "stream",
     "text": [
      "WARNING:tensorflow:Skipping loading weights for layer #229 (named block5c_se_reduce) due to mismatch in shape for weight block5c_se_reduce/kernel:0. Weight expects shape (1, 1, 672, 28). Received saved weight with shape (34, 816, 1, 1)\n"
     ]
    },
    {
     "name": "stdout",
     "output_type": "stream",
     "text": [
      "WARNING:tensorflow:Skipping loading weights for layer #229 (named block5c_se_reduce) due to mismatch in shape for weight block5c_se_reduce/bias:0. Weight expects shape (28,). Received saved weight with shape (34,)\n"
     ]
    },
    {
     "name": "stderr",
     "output_type": "stream",
     "text": [
      "WARNING:tensorflow:Skipping loading weights for layer #229 (named block5c_se_reduce) due to mismatch in shape for weight block5c_se_reduce/bias:0. Weight expects shape (28,). Received saved weight with shape (34,)\n"
     ]
    },
    {
     "name": "stdout",
     "output_type": "stream",
     "text": [
      "WARNING:tensorflow:Skipping loading weights for layer #230 (named block5c_se_expand) due to mismatch in shape for weight block5c_se_expand/kernel:0. Weight expects shape (1, 1, 28, 672). Received saved weight with shape (816, 34, 1, 1)\n"
     ]
    },
    {
     "name": "stderr",
     "output_type": "stream",
     "text": [
      "WARNING:tensorflow:Skipping loading weights for layer #230 (named block5c_se_expand) due to mismatch in shape for weight block5c_se_expand/kernel:0. Weight expects shape (1, 1, 28, 672). Received saved weight with shape (816, 34, 1, 1)\n"
     ]
    },
    {
     "name": "stdout",
     "output_type": "stream",
     "text": [
      "WARNING:tensorflow:Skipping loading weights for layer #230 (named block5c_se_expand) due to mismatch in shape for weight block5c_se_expand/bias:0. Weight expects shape (672,). Received saved weight with shape (816,)\n"
     ]
    },
    {
     "name": "stderr",
     "output_type": "stream",
     "text": [
      "WARNING:tensorflow:Skipping loading weights for layer #230 (named block5c_se_expand) due to mismatch in shape for weight block5c_se_expand/bias:0. Weight expects shape (672,). Received saved weight with shape (816,)\n"
     ]
    },
    {
     "name": "stdout",
     "output_type": "stream",
     "text": [
      "WARNING:tensorflow:Skipping loading weights for layer #232 (named block5c_project_conv) due to mismatch in shape for weight block5c_project_conv/kernel:0. Weight expects shape (1, 1, 672, 112). Received saved weight with shape (136, 816, 1, 1)\n"
     ]
    },
    {
     "name": "stderr",
     "output_type": "stream",
     "text": [
      "WARNING:tensorflow:Skipping loading weights for layer #232 (named block5c_project_conv) due to mismatch in shape for weight block5c_project_conv/kernel:0. Weight expects shape (1, 1, 672, 112). Received saved weight with shape (136, 816, 1, 1)\n"
     ]
    },
    {
     "name": "stdout",
     "output_type": "stream",
     "text": [
      "WARNING:tensorflow:Skipping loading weights for layer #233 (named block5c_project_bn) due to mismatch in shape for weight block5c_project_bn/gamma:0. Weight expects shape (112,). Received saved weight with shape (136,)\n"
     ]
    },
    {
     "name": "stderr",
     "output_type": "stream",
     "text": [
      "WARNING:tensorflow:Skipping loading weights for layer #233 (named block5c_project_bn) due to mismatch in shape for weight block5c_project_bn/gamma:0. Weight expects shape (112,). Received saved weight with shape (136,)\n"
     ]
    },
    {
     "name": "stdout",
     "output_type": "stream",
     "text": [
      "WARNING:tensorflow:Skipping loading weights for layer #233 (named block5c_project_bn) due to mismatch in shape for weight block5c_project_bn/beta:0. Weight expects shape (112,). Received saved weight with shape (136,)\n"
     ]
    },
    {
     "name": "stderr",
     "output_type": "stream",
     "text": [
      "WARNING:tensorflow:Skipping loading weights for layer #233 (named block5c_project_bn) due to mismatch in shape for weight block5c_project_bn/beta:0. Weight expects shape (112,). Received saved weight with shape (136,)\n"
     ]
    },
    {
     "name": "stdout",
     "output_type": "stream",
     "text": [
      "WARNING:tensorflow:Skipping loading weights for layer #233 (named block5c_project_bn) due to mismatch in shape for weight block5c_project_bn/moving_mean:0. Weight expects shape (112,). Received saved weight with shape (136,)\n"
     ]
    },
    {
     "name": "stderr",
     "output_type": "stream",
     "text": [
      "WARNING:tensorflow:Skipping loading weights for layer #233 (named block5c_project_bn) due to mismatch in shape for weight block5c_project_bn/moving_mean:0. Weight expects shape (112,). Received saved weight with shape (136,)\n"
     ]
    },
    {
     "name": "stdout",
     "output_type": "stream",
     "text": [
      "WARNING:tensorflow:Skipping loading weights for layer #233 (named block5c_project_bn) due to mismatch in shape for weight block5c_project_bn/moving_variance:0. Weight expects shape (112,). Received saved weight with shape (136,)\n"
     ]
    },
    {
     "name": "stderr",
     "output_type": "stream",
     "text": [
      "WARNING:tensorflow:Skipping loading weights for layer #233 (named block5c_project_bn) due to mismatch in shape for weight block5c_project_bn/moving_variance:0. Weight expects shape (112,). Received saved weight with shape (136,)\n"
     ]
    },
    {
     "name": "stdout",
     "output_type": "stream",
     "text": [
      "WARNING:tensorflow:Skipping loading weights for layer #266 (named block6a_expand_conv) due to mismatch in shape for weight block6a_expand_conv/kernel:0. Weight expects shape (1, 1, 112, 672). Received saved weight with shape (816, 136, 1, 1)\n"
     ]
    },
    {
     "name": "stderr",
     "output_type": "stream",
     "text": [
      "WARNING:tensorflow:Skipping loading weights for layer #266 (named block6a_expand_conv) due to mismatch in shape for weight block6a_expand_conv/kernel:0. Weight expects shape (1, 1, 112, 672). Received saved weight with shape (816, 136, 1, 1)\n"
     ]
    },
    {
     "name": "stdout",
     "output_type": "stream",
     "text": [
      "WARNING:tensorflow:Skipping loading weights for layer #267 (named block6a_expand_bn) due to mismatch in shape for weight block6a_expand_bn/gamma:0. Weight expects shape (672,). Received saved weight with shape (816,)\n"
     ]
    },
    {
     "name": "stderr",
     "output_type": "stream",
     "text": [
      "WARNING:tensorflow:Skipping loading weights for layer #267 (named block6a_expand_bn) due to mismatch in shape for weight block6a_expand_bn/gamma:0. Weight expects shape (672,). Received saved weight with shape (816,)\n"
     ]
    },
    {
     "name": "stdout",
     "output_type": "stream",
     "text": [
      "WARNING:tensorflow:Skipping loading weights for layer #267 (named block6a_expand_bn) due to mismatch in shape for weight block6a_expand_bn/beta:0. Weight expects shape (672,). Received saved weight with shape (816,)\n"
     ]
    },
    {
     "name": "stderr",
     "output_type": "stream",
     "text": [
      "WARNING:tensorflow:Skipping loading weights for layer #267 (named block6a_expand_bn) due to mismatch in shape for weight block6a_expand_bn/beta:0. Weight expects shape (672,). Received saved weight with shape (816,)\n"
     ]
    },
    {
     "name": "stdout",
     "output_type": "stream",
     "text": [
      "WARNING:tensorflow:Skipping loading weights for layer #267 (named block6a_expand_bn) due to mismatch in shape for weight block6a_expand_bn/moving_mean:0. Weight expects shape (672,). Received saved weight with shape (816,)\n"
     ]
    },
    {
     "name": "stderr",
     "output_type": "stream",
     "text": [
      "WARNING:tensorflow:Skipping loading weights for layer #267 (named block6a_expand_bn) due to mismatch in shape for weight block6a_expand_bn/moving_mean:0. Weight expects shape (672,). Received saved weight with shape (816,)\n"
     ]
    },
    {
     "name": "stdout",
     "output_type": "stream",
     "text": [
      "WARNING:tensorflow:Skipping loading weights for layer #267 (named block6a_expand_bn) due to mismatch in shape for weight block6a_expand_bn/moving_variance:0. Weight expects shape (672,). Received saved weight with shape (816,)\n"
     ]
    },
    {
     "name": "stderr",
     "output_type": "stream",
     "text": [
      "WARNING:tensorflow:Skipping loading weights for layer #267 (named block6a_expand_bn) due to mismatch in shape for weight block6a_expand_bn/moving_variance:0. Weight expects shape (672,). Received saved weight with shape (816,)\n"
     ]
    },
    {
     "name": "stdout",
     "output_type": "stream",
     "text": [
      "WARNING:tensorflow:Skipping loading weights for layer #270 (named block6a_dwconv) due to mismatch in shape for weight block6a_dwconv/depthwise_kernel:0. Weight expects shape (5, 5, 672, 1). Received saved weight with shape (5, 5, 816, 1)\n"
     ]
    },
    {
     "name": "stderr",
     "output_type": "stream",
     "text": [
      "WARNING:tensorflow:Skipping loading weights for layer #270 (named block6a_dwconv) due to mismatch in shape for weight block6a_dwconv/depthwise_kernel:0. Weight expects shape (5, 5, 672, 1). Received saved weight with shape (5, 5, 816, 1)\n"
     ]
    },
    {
     "name": "stdout",
     "output_type": "stream",
     "text": [
      "WARNING:tensorflow:Skipping loading weights for layer #271 (named block6a_bn) due to mismatch in shape for weight block6a_bn/gamma:0. Weight expects shape (672,). Received saved weight with shape (816,)\n"
     ]
    },
    {
     "name": "stderr",
     "output_type": "stream",
     "text": [
      "WARNING:tensorflow:Skipping loading weights for layer #271 (named block6a_bn) due to mismatch in shape for weight block6a_bn/gamma:0. Weight expects shape (672,). Received saved weight with shape (816,)\n"
     ]
    },
    {
     "name": "stdout",
     "output_type": "stream",
     "text": [
      "WARNING:tensorflow:Skipping loading weights for layer #271 (named block6a_bn) due to mismatch in shape for weight block6a_bn/beta:0. Weight expects shape (672,). Received saved weight with shape (816,)\n"
     ]
    },
    {
     "name": "stderr",
     "output_type": "stream",
     "text": [
      "WARNING:tensorflow:Skipping loading weights for layer #271 (named block6a_bn) due to mismatch in shape for weight block6a_bn/beta:0. Weight expects shape (672,). Received saved weight with shape (816,)\n"
     ]
    },
    {
     "name": "stdout",
     "output_type": "stream",
     "text": [
      "WARNING:tensorflow:Skipping loading weights for layer #271 (named block6a_bn) due to mismatch in shape for weight block6a_bn/moving_mean:0. Weight expects shape (672,). Received saved weight with shape (816,)\n"
     ]
    },
    {
     "name": "stderr",
     "output_type": "stream",
     "text": [
      "WARNING:tensorflow:Skipping loading weights for layer #271 (named block6a_bn) due to mismatch in shape for weight block6a_bn/moving_mean:0. Weight expects shape (672,). Received saved weight with shape (816,)\n"
     ]
    },
    {
     "name": "stdout",
     "output_type": "stream",
     "text": [
      "WARNING:tensorflow:Skipping loading weights for layer #271 (named block6a_bn) due to mismatch in shape for weight block6a_bn/moving_variance:0. Weight expects shape (672,). Received saved weight with shape (816,)\n"
     ]
    },
    {
     "name": "stderr",
     "output_type": "stream",
     "text": [
      "WARNING:tensorflow:Skipping loading weights for layer #271 (named block6a_bn) due to mismatch in shape for weight block6a_bn/moving_variance:0. Weight expects shape (672,). Received saved weight with shape (816,)\n"
     ]
    },
    {
     "name": "stdout",
     "output_type": "stream",
     "text": [
      "WARNING:tensorflow:Skipping loading weights for layer #275 (named block6a_se_reduce) due to mismatch in shape for weight block6a_se_reduce/kernel:0. Weight expects shape (1, 1, 672, 28). Received saved weight with shape (34, 816, 1, 1)\n"
     ]
    },
    {
     "name": "stderr",
     "output_type": "stream",
     "text": [
      "WARNING:tensorflow:Skipping loading weights for layer #275 (named block6a_se_reduce) due to mismatch in shape for weight block6a_se_reduce/kernel:0. Weight expects shape (1, 1, 672, 28). Received saved weight with shape (34, 816, 1, 1)\n"
     ]
    },
    {
     "name": "stdout",
     "output_type": "stream",
     "text": [
      "WARNING:tensorflow:Skipping loading weights for layer #275 (named block6a_se_reduce) due to mismatch in shape for weight block6a_se_reduce/bias:0. Weight expects shape (28,). Received saved weight with shape (34,)\n"
     ]
    },
    {
     "name": "stderr",
     "output_type": "stream",
     "text": [
      "WARNING:tensorflow:Skipping loading weights for layer #275 (named block6a_se_reduce) due to mismatch in shape for weight block6a_se_reduce/bias:0. Weight expects shape (28,). Received saved weight with shape (34,)\n"
     ]
    },
    {
     "name": "stdout",
     "output_type": "stream",
     "text": [
      "WARNING:tensorflow:Skipping loading weights for layer #276 (named block6a_se_expand) due to mismatch in shape for weight block6a_se_expand/kernel:0. Weight expects shape (1, 1, 28, 672). Received saved weight with shape (816, 34, 1, 1)\n"
     ]
    },
    {
     "name": "stderr",
     "output_type": "stream",
     "text": [
      "WARNING:tensorflow:Skipping loading weights for layer #276 (named block6a_se_expand) due to mismatch in shape for weight block6a_se_expand/kernel:0. Weight expects shape (1, 1, 28, 672). Received saved weight with shape (816, 34, 1, 1)\n"
     ]
    },
    {
     "name": "stdout",
     "output_type": "stream",
     "text": [
      "WARNING:tensorflow:Skipping loading weights for layer #276 (named block6a_se_expand) due to mismatch in shape for weight block6a_se_expand/bias:0. Weight expects shape (672,). Received saved weight with shape (816,)\n"
     ]
    },
    {
     "name": "stderr",
     "output_type": "stream",
     "text": [
      "WARNING:tensorflow:Skipping loading weights for layer #276 (named block6a_se_expand) due to mismatch in shape for weight block6a_se_expand/bias:0. Weight expects shape (672,). Received saved weight with shape (816,)\n"
     ]
    },
    {
     "name": "stdout",
     "output_type": "stream",
     "text": [
      "WARNING:tensorflow:Skipping loading weights for layer #278 (named block6a_project_conv) due to mismatch in shape for weight block6a_project_conv/kernel:0. Weight expects shape (1, 1, 672, 192). Received saved weight with shape (232, 816, 1, 1)\n"
     ]
    },
    {
     "name": "stderr",
     "output_type": "stream",
     "text": [
      "WARNING:tensorflow:Skipping loading weights for layer #278 (named block6a_project_conv) due to mismatch in shape for weight block6a_project_conv/kernel:0. Weight expects shape (1, 1, 672, 192). Received saved weight with shape (232, 816, 1, 1)\n"
     ]
    },
    {
     "name": "stdout",
     "output_type": "stream",
     "text": [
      "WARNING:tensorflow:Skipping loading weights for layer #279 (named block6a_project_bn) due to mismatch in shape for weight block6a_project_bn/gamma:0. Weight expects shape (192,). Received saved weight with shape (232,)\n"
     ]
    },
    {
     "name": "stderr",
     "output_type": "stream",
     "text": [
      "WARNING:tensorflow:Skipping loading weights for layer #279 (named block6a_project_bn) due to mismatch in shape for weight block6a_project_bn/gamma:0. Weight expects shape (192,). Received saved weight with shape (232,)\n"
     ]
    },
    {
     "name": "stdout",
     "output_type": "stream",
     "text": [
      "WARNING:tensorflow:Skipping loading weights for layer #279 (named block6a_project_bn) due to mismatch in shape for weight block6a_project_bn/beta:0. Weight expects shape (192,). Received saved weight with shape (232,)\n"
     ]
    },
    {
     "name": "stderr",
     "output_type": "stream",
     "text": [
      "WARNING:tensorflow:Skipping loading weights for layer #279 (named block6a_project_bn) due to mismatch in shape for weight block6a_project_bn/beta:0. Weight expects shape (192,). Received saved weight with shape (232,)\n"
     ]
    },
    {
     "name": "stdout",
     "output_type": "stream",
     "text": [
      "WARNING:tensorflow:Skipping loading weights for layer #279 (named block6a_project_bn) due to mismatch in shape for weight block6a_project_bn/moving_mean:0. Weight expects shape (192,). Received saved weight with shape (232,)\n"
     ]
    },
    {
     "name": "stderr",
     "output_type": "stream",
     "text": [
      "WARNING:tensorflow:Skipping loading weights for layer #279 (named block6a_project_bn) due to mismatch in shape for weight block6a_project_bn/moving_mean:0. Weight expects shape (192,). Received saved weight with shape (232,)\n"
     ]
    },
    {
     "name": "stdout",
     "output_type": "stream",
     "text": [
      "WARNING:tensorflow:Skipping loading weights for layer #279 (named block6a_project_bn) due to mismatch in shape for weight block6a_project_bn/moving_variance:0. Weight expects shape (192,). Received saved weight with shape (232,)\n"
     ]
    },
    {
     "name": "stderr",
     "output_type": "stream",
     "text": [
      "WARNING:tensorflow:Skipping loading weights for layer #279 (named block6a_project_bn) due to mismatch in shape for weight block6a_project_bn/moving_variance:0. Weight expects shape (192,). Received saved weight with shape (232,)\n"
     ]
    },
    {
     "name": "stdout",
     "output_type": "stream",
     "text": [
      "WARNING:tensorflow:Skipping loading weights for layer #280 (named block6b_expand_conv) due to mismatch in shape for weight block6b_expand_conv/kernel:0. Weight expects shape (1, 1, 192, 1152). Received saved weight with shape (1392, 232, 1, 1)\n"
     ]
    },
    {
     "name": "stderr",
     "output_type": "stream",
     "text": [
      "WARNING:tensorflow:Skipping loading weights for layer #280 (named block6b_expand_conv) due to mismatch in shape for weight block6b_expand_conv/kernel:0. Weight expects shape (1, 1, 192, 1152). Received saved weight with shape (1392, 232, 1, 1)\n"
     ]
    },
    {
     "name": "stdout",
     "output_type": "stream",
     "text": [
      "WARNING:tensorflow:Skipping loading weights for layer #281 (named block6b_expand_bn) due to mismatch in shape for weight block6b_expand_bn/gamma:0. Weight expects shape (1152,). Received saved weight with shape (1392,)\n"
     ]
    },
    {
     "name": "stderr",
     "output_type": "stream",
     "text": [
      "WARNING:tensorflow:Skipping loading weights for layer #281 (named block6b_expand_bn) due to mismatch in shape for weight block6b_expand_bn/gamma:0. Weight expects shape (1152,). Received saved weight with shape (1392,)\n"
     ]
    },
    {
     "name": "stdout",
     "output_type": "stream",
     "text": [
      "WARNING:tensorflow:Skipping loading weights for layer #281 (named block6b_expand_bn) due to mismatch in shape for weight block6b_expand_bn/beta:0. Weight expects shape (1152,). Received saved weight with shape (1392,)\n"
     ]
    },
    {
     "name": "stderr",
     "output_type": "stream",
     "text": [
      "WARNING:tensorflow:Skipping loading weights for layer #281 (named block6b_expand_bn) due to mismatch in shape for weight block6b_expand_bn/beta:0. Weight expects shape (1152,). Received saved weight with shape (1392,)\n"
     ]
    },
    {
     "name": "stdout",
     "output_type": "stream",
     "text": [
      "WARNING:tensorflow:Skipping loading weights for layer #281 (named block6b_expand_bn) due to mismatch in shape for weight block6b_expand_bn/moving_mean:0. Weight expects shape (1152,). Received saved weight with shape (1392,)\n"
     ]
    },
    {
     "name": "stderr",
     "output_type": "stream",
     "text": [
      "WARNING:tensorflow:Skipping loading weights for layer #281 (named block6b_expand_bn) due to mismatch in shape for weight block6b_expand_bn/moving_mean:0. Weight expects shape (1152,). Received saved weight with shape (1392,)\n"
     ]
    },
    {
     "name": "stdout",
     "output_type": "stream",
     "text": [
      "WARNING:tensorflow:Skipping loading weights for layer #281 (named block6b_expand_bn) due to mismatch in shape for weight block6b_expand_bn/moving_variance:0. Weight expects shape (1152,). Received saved weight with shape (1392,)\n"
     ]
    },
    {
     "name": "stderr",
     "output_type": "stream",
     "text": [
      "WARNING:tensorflow:Skipping loading weights for layer #281 (named block6b_expand_bn) due to mismatch in shape for weight block6b_expand_bn/moving_variance:0. Weight expects shape (1152,). Received saved weight with shape (1392,)\n"
     ]
    },
    {
     "name": "stdout",
     "output_type": "stream",
     "text": [
      "WARNING:tensorflow:Skipping loading weights for layer #283 (named block6b_dwconv) due to mismatch in shape for weight block6b_dwconv/depthwise_kernel:0. Weight expects shape (5, 5, 1152, 1). Received saved weight with shape (5, 5, 1392, 1)\n"
     ]
    },
    {
     "name": "stderr",
     "output_type": "stream",
     "text": [
      "WARNING:tensorflow:Skipping loading weights for layer #283 (named block6b_dwconv) due to mismatch in shape for weight block6b_dwconv/depthwise_kernel:0. Weight expects shape (5, 5, 1152, 1). Received saved weight with shape (5, 5, 1392, 1)\n"
     ]
    },
    {
     "name": "stdout",
     "output_type": "stream",
     "text": [
      "WARNING:tensorflow:Skipping loading weights for layer #284 (named block6b_bn) due to mismatch in shape for weight block6b_bn/gamma:0. Weight expects shape (1152,). Received saved weight with shape (1392,)\n"
     ]
    },
    {
     "name": "stderr",
     "output_type": "stream",
     "text": [
      "WARNING:tensorflow:Skipping loading weights for layer #284 (named block6b_bn) due to mismatch in shape for weight block6b_bn/gamma:0. Weight expects shape (1152,). Received saved weight with shape (1392,)\n"
     ]
    },
    {
     "name": "stdout",
     "output_type": "stream",
     "text": [
      "WARNING:tensorflow:Skipping loading weights for layer #284 (named block6b_bn) due to mismatch in shape for weight block6b_bn/beta:0. Weight expects shape (1152,). Received saved weight with shape (1392,)\n"
     ]
    },
    {
     "name": "stderr",
     "output_type": "stream",
     "text": [
      "WARNING:tensorflow:Skipping loading weights for layer #284 (named block6b_bn) due to mismatch in shape for weight block6b_bn/beta:0. Weight expects shape (1152,). Received saved weight with shape (1392,)\n"
     ]
    },
    {
     "name": "stdout",
     "output_type": "stream",
     "text": [
      "WARNING:tensorflow:Skipping loading weights for layer #284 (named block6b_bn) due to mismatch in shape for weight block6b_bn/moving_mean:0. Weight expects shape (1152,). Received saved weight with shape (1392,)\n"
     ]
    },
    {
     "name": "stderr",
     "output_type": "stream",
     "text": [
      "WARNING:tensorflow:Skipping loading weights for layer #284 (named block6b_bn) due to mismatch in shape for weight block6b_bn/moving_mean:0. Weight expects shape (1152,). Received saved weight with shape (1392,)\n"
     ]
    },
    {
     "name": "stdout",
     "output_type": "stream",
     "text": [
      "WARNING:tensorflow:Skipping loading weights for layer #284 (named block6b_bn) due to mismatch in shape for weight block6b_bn/moving_variance:0. Weight expects shape (1152,). Received saved weight with shape (1392,)\n"
     ]
    },
    {
     "name": "stderr",
     "output_type": "stream",
     "text": [
      "WARNING:tensorflow:Skipping loading weights for layer #284 (named block6b_bn) due to mismatch in shape for weight block6b_bn/moving_variance:0. Weight expects shape (1152,). Received saved weight with shape (1392,)\n"
     ]
    },
    {
     "name": "stdout",
     "output_type": "stream",
     "text": [
      "WARNING:tensorflow:Skipping loading weights for layer #288 (named block6b_se_reduce) due to mismatch in shape for weight block6b_se_reduce/kernel:0. Weight expects shape (1, 1, 1152, 48). Received saved weight with shape (58, 1392, 1, 1)\n"
     ]
    },
    {
     "name": "stderr",
     "output_type": "stream",
     "text": [
      "WARNING:tensorflow:Skipping loading weights for layer #288 (named block6b_se_reduce) due to mismatch in shape for weight block6b_se_reduce/kernel:0. Weight expects shape (1, 1, 1152, 48). Received saved weight with shape (58, 1392, 1, 1)\n"
     ]
    },
    {
     "name": "stdout",
     "output_type": "stream",
     "text": [
      "WARNING:tensorflow:Skipping loading weights for layer #288 (named block6b_se_reduce) due to mismatch in shape for weight block6b_se_reduce/bias:0. Weight expects shape (48,). Received saved weight with shape (58,)\n"
     ]
    },
    {
     "name": "stderr",
     "output_type": "stream",
     "text": [
      "WARNING:tensorflow:Skipping loading weights for layer #288 (named block6b_se_reduce) due to mismatch in shape for weight block6b_se_reduce/bias:0. Weight expects shape (48,). Received saved weight with shape (58,)\n"
     ]
    },
    {
     "name": "stdout",
     "output_type": "stream",
     "text": [
      "WARNING:tensorflow:Skipping loading weights for layer #289 (named block6b_se_expand) due to mismatch in shape for weight block6b_se_expand/kernel:0. Weight expects shape (1, 1, 48, 1152). Received saved weight with shape (1392, 58, 1, 1)\n"
     ]
    },
    {
     "name": "stderr",
     "output_type": "stream",
     "text": [
      "WARNING:tensorflow:Skipping loading weights for layer #289 (named block6b_se_expand) due to mismatch in shape for weight block6b_se_expand/kernel:0. Weight expects shape (1, 1, 48, 1152). Received saved weight with shape (1392, 58, 1, 1)\n"
     ]
    },
    {
     "name": "stdout",
     "output_type": "stream",
     "text": [
      "WARNING:tensorflow:Skipping loading weights for layer #289 (named block6b_se_expand) due to mismatch in shape for weight block6b_se_expand/bias:0. Weight expects shape (1152,). Received saved weight with shape (1392,)\n"
     ]
    },
    {
     "name": "stderr",
     "output_type": "stream",
     "text": [
      "WARNING:tensorflow:Skipping loading weights for layer #289 (named block6b_se_expand) due to mismatch in shape for weight block6b_se_expand/bias:0. Weight expects shape (1152,). Received saved weight with shape (1392,)\n"
     ]
    },
    {
     "name": "stdout",
     "output_type": "stream",
     "text": [
      "WARNING:tensorflow:Skipping loading weights for layer #291 (named block6b_project_conv) due to mismatch in shape for weight block6b_project_conv/kernel:0. Weight expects shape (1, 1, 1152, 192). Received saved weight with shape (232, 1392, 1, 1)\n"
     ]
    },
    {
     "name": "stderr",
     "output_type": "stream",
     "text": [
      "WARNING:tensorflow:Skipping loading weights for layer #291 (named block6b_project_conv) due to mismatch in shape for weight block6b_project_conv/kernel:0. Weight expects shape (1, 1, 1152, 192). Received saved weight with shape (232, 1392, 1, 1)\n"
     ]
    },
    {
     "name": "stdout",
     "output_type": "stream",
     "text": [
      "WARNING:tensorflow:Skipping loading weights for layer #292 (named block6b_project_bn) due to mismatch in shape for weight block6b_project_bn/gamma:0. Weight expects shape (192,). Received saved weight with shape (232,)\n"
     ]
    },
    {
     "name": "stderr",
     "output_type": "stream",
     "text": [
      "WARNING:tensorflow:Skipping loading weights for layer #292 (named block6b_project_bn) due to mismatch in shape for weight block6b_project_bn/gamma:0. Weight expects shape (192,). Received saved weight with shape (232,)\n"
     ]
    },
    {
     "name": "stdout",
     "output_type": "stream",
     "text": [
      "WARNING:tensorflow:Skipping loading weights for layer #292 (named block6b_project_bn) due to mismatch in shape for weight block6b_project_bn/beta:0. Weight expects shape (192,). Received saved weight with shape (232,)\n"
     ]
    },
    {
     "name": "stderr",
     "output_type": "stream",
     "text": [
      "WARNING:tensorflow:Skipping loading weights for layer #292 (named block6b_project_bn) due to mismatch in shape for weight block6b_project_bn/beta:0. Weight expects shape (192,). Received saved weight with shape (232,)\n"
     ]
    },
    {
     "name": "stdout",
     "output_type": "stream",
     "text": [
      "WARNING:tensorflow:Skipping loading weights for layer #292 (named block6b_project_bn) due to mismatch in shape for weight block6b_project_bn/moving_mean:0. Weight expects shape (192,). Received saved weight with shape (232,)\n"
     ]
    },
    {
     "name": "stderr",
     "output_type": "stream",
     "text": [
      "WARNING:tensorflow:Skipping loading weights for layer #292 (named block6b_project_bn) due to mismatch in shape for weight block6b_project_bn/moving_mean:0. Weight expects shape (192,). Received saved weight with shape (232,)\n"
     ]
    },
    {
     "name": "stdout",
     "output_type": "stream",
     "text": [
      "WARNING:tensorflow:Skipping loading weights for layer #292 (named block6b_project_bn) due to mismatch in shape for weight block6b_project_bn/moving_variance:0. Weight expects shape (192,). Received saved weight with shape (232,)\n"
     ]
    },
    {
     "name": "stderr",
     "output_type": "stream",
     "text": [
      "WARNING:tensorflow:Skipping loading weights for layer #292 (named block6b_project_bn) due to mismatch in shape for weight block6b_project_bn/moving_variance:0. Weight expects shape (192,). Received saved weight with shape (232,)\n"
     ]
    },
    {
     "name": "stdout",
     "output_type": "stream",
     "text": [
      "WARNING:tensorflow:Skipping loading weights for layer #295 (named block6c_expand_conv) due to mismatch in shape for weight block6c_expand_conv/kernel:0. Weight expects shape (1, 1, 192, 1152). Received saved weight with shape (1392, 232, 1, 1)\n"
     ]
    },
    {
     "name": "stderr",
     "output_type": "stream",
     "text": [
      "WARNING:tensorflow:Skipping loading weights for layer #295 (named block6c_expand_conv) due to mismatch in shape for weight block6c_expand_conv/kernel:0. Weight expects shape (1, 1, 192, 1152). Received saved weight with shape (1392, 232, 1, 1)\n"
     ]
    },
    {
     "name": "stdout",
     "output_type": "stream",
     "text": [
      "WARNING:tensorflow:Skipping loading weights for layer #296 (named block6c_expand_bn) due to mismatch in shape for weight block6c_expand_bn/gamma:0. Weight expects shape (1152,). Received saved weight with shape (1392,)\n"
     ]
    },
    {
     "name": "stderr",
     "output_type": "stream",
     "text": [
      "WARNING:tensorflow:Skipping loading weights for layer #296 (named block6c_expand_bn) due to mismatch in shape for weight block6c_expand_bn/gamma:0. Weight expects shape (1152,). Received saved weight with shape (1392,)\n"
     ]
    },
    {
     "name": "stdout",
     "output_type": "stream",
     "text": [
      "WARNING:tensorflow:Skipping loading weights for layer #296 (named block6c_expand_bn) due to mismatch in shape for weight block6c_expand_bn/beta:0. Weight expects shape (1152,). Received saved weight with shape (1392,)\n"
     ]
    },
    {
     "name": "stderr",
     "output_type": "stream",
     "text": [
      "WARNING:tensorflow:Skipping loading weights for layer #296 (named block6c_expand_bn) due to mismatch in shape for weight block6c_expand_bn/beta:0. Weight expects shape (1152,). Received saved weight with shape (1392,)\n"
     ]
    },
    {
     "name": "stdout",
     "output_type": "stream",
     "text": [
      "WARNING:tensorflow:Skipping loading weights for layer #296 (named block6c_expand_bn) due to mismatch in shape for weight block6c_expand_bn/moving_mean:0. Weight expects shape (1152,). Received saved weight with shape (1392,)\n"
     ]
    },
    {
     "name": "stderr",
     "output_type": "stream",
     "text": [
      "WARNING:tensorflow:Skipping loading weights for layer #296 (named block6c_expand_bn) due to mismatch in shape for weight block6c_expand_bn/moving_mean:0. Weight expects shape (1152,). Received saved weight with shape (1392,)\n"
     ]
    },
    {
     "name": "stdout",
     "output_type": "stream",
     "text": [
      "WARNING:tensorflow:Skipping loading weights for layer #296 (named block6c_expand_bn) due to mismatch in shape for weight block6c_expand_bn/moving_variance:0. Weight expects shape (1152,). Received saved weight with shape (1392,)\n"
     ]
    },
    {
     "name": "stderr",
     "output_type": "stream",
     "text": [
      "WARNING:tensorflow:Skipping loading weights for layer #296 (named block6c_expand_bn) due to mismatch in shape for weight block6c_expand_bn/moving_variance:0. Weight expects shape (1152,). Received saved weight with shape (1392,)\n"
     ]
    },
    {
     "name": "stdout",
     "output_type": "stream",
     "text": [
      "WARNING:tensorflow:Skipping loading weights for layer #298 (named block6c_dwconv) due to mismatch in shape for weight block6c_dwconv/depthwise_kernel:0. Weight expects shape (5, 5, 1152, 1). Received saved weight with shape (5, 5, 1392, 1)\n"
     ]
    },
    {
     "name": "stderr",
     "output_type": "stream",
     "text": [
      "WARNING:tensorflow:Skipping loading weights for layer #298 (named block6c_dwconv) due to mismatch in shape for weight block6c_dwconv/depthwise_kernel:0. Weight expects shape (5, 5, 1152, 1). Received saved weight with shape (5, 5, 1392, 1)\n"
     ]
    },
    {
     "name": "stdout",
     "output_type": "stream",
     "text": [
      "WARNING:tensorflow:Skipping loading weights for layer #299 (named block6c_bn) due to mismatch in shape for weight block6c_bn/gamma:0. Weight expects shape (1152,). Received saved weight with shape (1392,)\n"
     ]
    },
    {
     "name": "stderr",
     "output_type": "stream",
     "text": [
      "WARNING:tensorflow:Skipping loading weights for layer #299 (named block6c_bn) due to mismatch in shape for weight block6c_bn/gamma:0. Weight expects shape (1152,). Received saved weight with shape (1392,)\n"
     ]
    },
    {
     "name": "stdout",
     "output_type": "stream",
     "text": [
      "WARNING:tensorflow:Skipping loading weights for layer #299 (named block6c_bn) due to mismatch in shape for weight block6c_bn/beta:0. Weight expects shape (1152,). Received saved weight with shape (1392,)\n"
     ]
    },
    {
     "name": "stderr",
     "output_type": "stream",
     "text": [
      "WARNING:tensorflow:Skipping loading weights for layer #299 (named block6c_bn) due to mismatch in shape for weight block6c_bn/beta:0. Weight expects shape (1152,). Received saved weight with shape (1392,)\n"
     ]
    },
    {
     "name": "stdout",
     "output_type": "stream",
     "text": [
      "WARNING:tensorflow:Skipping loading weights for layer #299 (named block6c_bn) due to mismatch in shape for weight block6c_bn/moving_mean:0. Weight expects shape (1152,). Received saved weight with shape (1392,)\n"
     ]
    },
    {
     "name": "stderr",
     "output_type": "stream",
     "text": [
      "WARNING:tensorflow:Skipping loading weights for layer #299 (named block6c_bn) due to mismatch in shape for weight block6c_bn/moving_mean:0. Weight expects shape (1152,). Received saved weight with shape (1392,)\n"
     ]
    },
    {
     "name": "stdout",
     "output_type": "stream",
     "text": [
      "WARNING:tensorflow:Skipping loading weights for layer #299 (named block6c_bn) due to mismatch in shape for weight block6c_bn/moving_variance:0. Weight expects shape (1152,). Received saved weight with shape (1392,)\n"
     ]
    },
    {
     "name": "stderr",
     "output_type": "stream",
     "text": [
      "WARNING:tensorflow:Skipping loading weights for layer #299 (named block6c_bn) due to mismatch in shape for weight block6c_bn/moving_variance:0. Weight expects shape (1152,). Received saved weight with shape (1392,)\n"
     ]
    },
    {
     "name": "stdout",
     "output_type": "stream",
     "text": [
      "WARNING:tensorflow:Skipping loading weights for layer #303 (named block6c_se_reduce) due to mismatch in shape for weight block6c_se_reduce/kernel:0. Weight expects shape (1, 1, 1152, 48). Received saved weight with shape (58, 1392, 1, 1)\n"
     ]
    },
    {
     "name": "stderr",
     "output_type": "stream",
     "text": [
      "WARNING:tensorflow:Skipping loading weights for layer #303 (named block6c_se_reduce) due to mismatch in shape for weight block6c_se_reduce/kernel:0. Weight expects shape (1, 1, 1152, 48). Received saved weight with shape (58, 1392, 1, 1)\n"
     ]
    },
    {
     "name": "stdout",
     "output_type": "stream",
     "text": [
      "WARNING:tensorflow:Skipping loading weights for layer #303 (named block6c_se_reduce) due to mismatch in shape for weight block6c_se_reduce/bias:0. Weight expects shape (48,). Received saved weight with shape (58,)\n"
     ]
    },
    {
     "name": "stderr",
     "output_type": "stream",
     "text": [
      "WARNING:tensorflow:Skipping loading weights for layer #303 (named block6c_se_reduce) due to mismatch in shape for weight block6c_se_reduce/bias:0. Weight expects shape (48,). Received saved weight with shape (58,)\n"
     ]
    },
    {
     "name": "stdout",
     "output_type": "stream",
     "text": [
      "WARNING:tensorflow:Skipping loading weights for layer #304 (named block6c_se_expand) due to mismatch in shape for weight block6c_se_expand/kernel:0. Weight expects shape (1, 1, 48, 1152). Received saved weight with shape (1392, 58, 1, 1)\n"
     ]
    },
    {
     "name": "stderr",
     "output_type": "stream",
     "text": [
      "WARNING:tensorflow:Skipping loading weights for layer #304 (named block6c_se_expand) due to mismatch in shape for weight block6c_se_expand/kernel:0. Weight expects shape (1, 1, 48, 1152). Received saved weight with shape (1392, 58, 1, 1)\n"
     ]
    },
    {
     "name": "stdout",
     "output_type": "stream",
     "text": [
      "WARNING:tensorflow:Skipping loading weights for layer #304 (named block6c_se_expand) due to mismatch in shape for weight block6c_se_expand/bias:0. Weight expects shape (1152,). Received saved weight with shape (1392,)\n"
     ]
    },
    {
     "name": "stderr",
     "output_type": "stream",
     "text": [
      "WARNING:tensorflow:Skipping loading weights for layer #304 (named block6c_se_expand) due to mismatch in shape for weight block6c_se_expand/bias:0. Weight expects shape (1152,). Received saved weight with shape (1392,)\n"
     ]
    },
    {
     "name": "stdout",
     "output_type": "stream",
     "text": [
      "WARNING:tensorflow:Skipping loading weights for layer #306 (named block6c_project_conv) due to mismatch in shape for weight block6c_project_conv/kernel:0. Weight expects shape (1, 1, 1152, 192). Received saved weight with shape (232, 1392, 1, 1)\n"
     ]
    },
    {
     "name": "stderr",
     "output_type": "stream",
     "text": [
      "WARNING:tensorflow:Skipping loading weights for layer #306 (named block6c_project_conv) due to mismatch in shape for weight block6c_project_conv/kernel:0. Weight expects shape (1, 1, 1152, 192). Received saved weight with shape (232, 1392, 1, 1)\n"
     ]
    },
    {
     "name": "stdout",
     "output_type": "stream",
     "text": [
      "WARNING:tensorflow:Skipping loading weights for layer #307 (named block6c_project_bn) due to mismatch in shape for weight block6c_project_bn/gamma:0. Weight expects shape (192,). Received saved weight with shape (232,)\n"
     ]
    },
    {
     "name": "stderr",
     "output_type": "stream",
     "text": [
      "WARNING:tensorflow:Skipping loading weights for layer #307 (named block6c_project_bn) due to mismatch in shape for weight block6c_project_bn/gamma:0. Weight expects shape (192,). Received saved weight with shape (232,)\n"
     ]
    },
    {
     "name": "stdout",
     "output_type": "stream",
     "text": [
      "WARNING:tensorflow:Skipping loading weights for layer #307 (named block6c_project_bn) due to mismatch in shape for weight block6c_project_bn/beta:0. Weight expects shape (192,). Received saved weight with shape (232,)\n"
     ]
    },
    {
     "name": "stderr",
     "output_type": "stream",
     "text": [
      "WARNING:tensorflow:Skipping loading weights for layer #307 (named block6c_project_bn) due to mismatch in shape for weight block6c_project_bn/beta:0. Weight expects shape (192,). Received saved weight with shape (232,)\n"
     ]
    },
    {
     "name": "stdout",
     "output_type": "stream",
     "text": [
      "WARNING:tensorflow:Skipping loading weights for layer #307 (named block6c_project_bn) due to mismatch in shape for weight block6c_project_bn/moving_mean:0. Weight expects shape (192,). Received saved weight with shape (232,)\n"
     ]
    },
    {
     "name": "stderr",
     "output_type": "stream",
     "text": [
      "WARNING:tensorflow:Skipping loading weights for layer #307 (named block6c_project_bn) due to mismatch in shape for weight block6c_project_bn/moving_mean:0. Weight expects shape (192,). Received saved weight with shape (232,)\n"
     ]
    },
    {
     "name": "stdout",
     "output_type": "stream",
     "text": [
      "WARNING:tensorflow:Skipping loading weights for layer #307 (named block6c_project_bn) due to mismatch in shape for weight block6c_project_bn/moving_variance:0. Weight expects shape (192,). Received saved weight with shape (232,)\n"
     ]
    },
    {
     "name": "stderr",
     "output_type": "stream",
     "text": [
      "WARNING:tensorflow:Skipping loading weights for layer #307 (named block6c_project_bn) due to mismatch in shape for weight block6c_project_bn/moving_variance:0. Weight expects shape (192,). Received saved weight with shape (232,)\n"
     ]
    },
    {
     "name": "stdout",
     "output_type": "stream",
     "text": [
      "WARNING:tensorflow:Skipping loading weights for layer #310 (named block6d_expand_conv) due to mismatch in shape for weight block6d_expand_conv/kernel:0. Weight expects shape (1, 1, 192, 1152). Received saved weight with shape (1392, 232, 1, 1)\n"
     ]
    },
    {
     "name": "stderr",
     "output_type": "stream",
     "text": [
      "WARNING:tensorflow:Skipping loading weights for layer #310 (named block6d_expand_conv) due to mismatch in shape for weight block6d_expand_conv/kernel:0. Weight expects shape (1, 1, 192, 1152). Received saved weight with shape (1392, 232, 1, 1)\n"
     ]
    },
    {
     "name": "stdout",
     "output_type": "stream",
     "text": [
      "WARNING:tensorflow:Skipping loading weights for layer #311 (named block6d_expand_bn) due to mismatch in shape for weight block6d_expand_bn/gamma:0. Weight expects shape (1152,). Received saved weight with shape (1392,)\n"
     ]
    },
    {
     "name": "stderr",
     "output_type": "stream",
     "text": [
      "WARNING:tensorflow:Skipping loading weights for layer #311 (named block6d_expand_bn) due to mismatch in shape for weight block6d_expand_bn/gamma:0. Weight expects shape (1152,). Received saved weight with shape (1392,)\n"
     ]
    },
    {
     "name": "stdout",
     "output_type": "stream",
     "text": [
      "WARNING:tensorflow:Skipping loading weights for layer #311 (named block6d_expand_bn) due to mismatch in shape for weight block6d_expand_bn/beta:0. Weight expects shape (1152,). Received saved weight with shape (1392,)\n"
     ]
    },
    {
     "name": "stderr",
     "output_type": "stream",
     "text": [
      "WARNING:tensorflow:Skipping loading weights for layer #311 (named block6d_expand_bn) due to mismatch in shape for weight block6d_expand_bn/beta:0. Weight expects shape (1152,). Received saved weight with shape (1392,)\n"
     ]
    },
    {
     "name": "stdout",
     "output_type": "stream",
     "text": [
      "WARNING:tensorflow:Skipping loading weights for layer #311 (named block6d_expand_bn) due to mismatch in shape for weight block6d_expand_bn/moving_mean:0. Weight expects shape (1152,). Received saved weight with shape (1392,)\n"
     ]
    },
    {
     "name": "stderr",
     "output_type": "stream",
     "text": [
      "WARNING:tensorflow:Skipping loading weights for layer #311 (named block6d_expand_bn) due to mismatch in shape for weight block6d_expand_bn/moving_mean:0. Weight expects shape (1152,). Received saved weight with shape (1392,)\n"
     ]
    },
    {
     "name": "stdout",
     "output_type": "stream",
     "text": [
      "WARNING:tensorflow:Skipping loading weights for layer #311 (named block6d_expand_bn) due to mismatch in shape for weight block6d_expand_bn/moving_variance:0. Weight expects shape (1152,). Received saved weight with shape (1392,)\n"
     ]
    },
    {
     "name": "stderr",
     "output_type": "stream",
     "text": [
      "WARNING:tensorflow:Skipping loading weights for layer #311 (named block6d_expand_bn) due to mismatch in shape for weight block6d_expand_bn/moving_variance:0. Weight expects shape (1152,). Received saved weight with shape (1392,)\n"
     ]
    },
    {
     "name": "stdout",
     "output_type": "stream",
     "text": [
      "WARNING:tensorflow:Skipping loading weights for layer #313 (named block6d_dwconv) due to mismatch in shape for weight block6d_dwconv/depthwise_kernel:0. Weight expects shape (5, 5, 1152, 1). Received saved weight with shape (5, 5, 1392, 1)\n"
     ]
    },
    {
     "name": "stderr",
     "output_type": "stream",
     "text": [
      "WARNING:tensorflow:Skipping loading weights for layer #313 (named block6d_dwconv) due to mismatch in shape for weight block6d_dwconv/depthwise_kernel:0. Weight expects shape (5, 5, 1152, 1). Received saved weight with shape (5, 5, 1392, 1)\n"
     ]
    },
    {
     "name": "stdout",
     "output_type": "stream",
     "text": [
      "WARNING:tensorflow:Skipping loading weights for layer #314 (named block6d_bn) due to mismatch in shape for weight block6d_bn/gamma:0. Weight expects shape (1152,). Received saved weight with shape (1392,)\n"
     ]
    },
    {
     "name": "stderr",
     "output_type": "stream",
     "text": [
      "WARNING:tensorflow:Skipping loading weights for layer #314 (named block6d_bn) due to mismatch in shape for weight block6d_bn/gamma:0. Weight expects shape (1152,). Received saved weight with shape (1392,)\n"
     ]
    },
    {
     "name": "stdout",
     "output_type": "stream",
     "text": [
      "WARNING:tensorflow:Skipping loading weights for layer #314 (named block6d_bn) due to mismatch in shape for weight block6d_bn/beta:0. Weight expects shape (1152,). Received saved weight with shape (1392,)\n"
     ]
    },
    {
     "name": "stderr",
     "output_type": "stream",
     "text": [
      "WARNING:tensorflow:Skipping loading weights for layer #314 (named block6d_bn) due to mismatch in shape for weight block6d_bn/beta:0. Weight expects shape (1152,). Received saved weight with shape (1392,)\n"
     ]
    },
    {
     "name": "stdout",
     "output_type": "stream",
     "text": [
      "WARNING:tensorflow:Skipping loading weights for layer #314 (named block6d_bn) due to mismatch in shape for weight block6d_bn/moving_mean:0. Weight expects shape (1152,). Received saved weight with shape (1392,)\n"
     ]
    },
    {
     "name": "stderr",
     "output_type": "stream",
     "text": [
      "WARNING:tensorflow:Skipping loading weights for layer #314 (named block6d_bn) due to mismatch in shape for weight block6d_bn/moving_mean:0. Weight expects shape (1152,). Received saved weight with shape (1392,)\n"
     ]
    },
    {
     "name": "stdout",
     "output_type": "stream",
     "text": [
      "WARNING:tensorflow:Skipping loading weights for layer #314 (named block6d_bn) due to mismatch in shape for weight block6d_bn/moving_variance:0. Weight expects shape (1152,). Received saved weight with shape (1392,)\n"
     ]
    },
    {
     "name": "stderr",
     "output_type": "stream",
     "text": [
      "WARNING:tensorflow:Skipping loading weights for layer #314 (named block6d_bn) due to mismatch in shape for weight block6d_bn/moving_variance:0. Weight expects shape (1152,). Received saved weight with shape (1392,)\n"
     ]
    },
    {
     "name": "stdout",
     "output_type": "stream",
     "text": [
      "WARNING:tensorflow:Skipping loading weights for layer #318 (named block6d_se_reduce) due to mismatch in shape for weight block6d_se_reduce/kernel:0. Weight expects shape (1, 1, 1152, 48). Received saved weight with shape (58, 1392, 1, 1)\n"
     ]
    },
    {
     "name": "stderr",
     "output_type": "stream",
     "text": [
      "WARNING:tensorflow:Skipping loading weights for layer #318 (named block6d_se_reduce) due to mismatch in shape for weight block6d_se_reduce/kernel:0. Weight expects shape (1, 1, 1152, 48). Received saved weight with shape (58, 1392, 1, 1)\n"
     ]
    },
    {
     "name": "stdout",
     "output_type": "stream",
     "text": [
      "WARNING:tensorflow:Skipping loading weights for layer #318 (named block6d_se_reduce) due to mismatch in shape for weight block6d_se_reduce/bias:0. Weight expects shape (48,). Received saved weight with shape (58,)\n"
     ]
    },
    {
     "name": "stderr",
     "output_type": "stream",
     "text": [
      "WARNING:tensorflow:Skipping loading weights for layer #318 (named block6d_se_reduce) due to mismatch in shape for weight block6d_se_reduce/bias:0. Weight expects shape (48,). Received saved weight with shape (58,)\n"
     ]
    },
    {
     "name": "stdout",
     "output_type": "stream",
     "text": [
      "WARNING:tensorflow:Skipping loading weights for layer #319 (named block6d_se_expand) due to mismatch in shape for weight block6d_se_expand/kernel:0. Weight expects shape (1, 1, 48, 1152). Received saved weight with shape (1392, 58, 1, 1)\n"
     ]
    },
    {
     "name": "stderr",
     "output_type": "stream",
     "text": [
      "WARNING:tensorflow:Skipping loading weights for layer #319 (named block6d_se_expand) due to mismatch in shape for weight block6d_se_expand/kernel:0. Weight expects shape (1, 1, 48, 1152). Received saved weight with shape (1392, 58, 1, 1)\n"
     ]
    },
    {
     "name": "stdout",
     "output_type": "stream",
     "text": [
      "WARNING:tensorflow:Skipping loading weights for layer #319 (named block6d_se_expand) due to mismatch in shape for weight block6d_se_expand/bias:0. Weight expects shape (1152,). Received saved weight with shape (1392,)\n"
     ]
    },
    {
     "name": "stderr",
     "output_type": "stream",
     "text": [
      "WARNING:tensorflow:Skipping loading weights for layer #319 (named block6d_se_expand) due to mismatch in shape for weight block6d_se_expand/bias:0. Weight expects shape (1152,). Received saved weight with shape (1392,)\n"
     ]
    },
    {
     "name": "stdout",
     "output_type": "stream",
     "text": [
      "WARNING:tensorflow:Skipping loading weights for layer #321 (named block6d_project_conv) due to mismatch in shape for weight block6d_project_conv/kernel:0. Weight expects shape (1, 1, 1152, 192). Received saved weight with shape (232, 1392, 1, 1)\n"
     ]
    },
    {
     "name": "stderr",
     "output_type": "stream",
     "text": [
      "WARNING:tensorflow:Skipping loading weights for layer #321 (named block6d_project_conv) due to mismatch in shape for weight block6d_project_conv/kernel:0. Weight expects shape (1, 1, 1152, 192). Received saved weight with shape (232, 1392, 1, 1)\n"
     ]
    },
    {
     "name": "stdout",
     "output_type": "stream",
     "text": [
      "WARNING:tensorflow:Skipping loading weights for layer #322 (named block6d_project_bn) due to mismatch in shape for weight block6d_project_bn/gamma:0. Weight expects shape (192,). Received saved weight with shape (232,)\n"
     ]
    },
    {
     "name": "stderr",
     "output_type": "stream",
     "text": [
      "WARNING:tensorflow:Skipping loading weights for layer #322 (named block6d_project_bn) due to mismatch in shape for weight block6d_project_bn/gamma:0. Weight expects shape (192,). Received saved weight with shape (232,)\n"
     ]
    },
    {
     "name": "stdout",
     "output_type": "stream",
     "text": [
      "WARNING:tensorflow:Skipping loading weights for layer #322 (named block6d_project_bn) due to mismatch in shape for weight block6d_project_bn/beta:0. Weight expects shape (192,). Received saved weight with shape (232,)\n"
     ]
    },
    {
     "name": "stderr",
     "output_type": "stream",
     "text": [
      "WARNING:tensorflow:Skipping loading weights for layer #322 (named block6d_project_bn) due to mismatch in shape for weight block6d_project_bn/beta:0. Weight expects shape (192,). Received saved weight with shape (232,)\n"
     ]
    },
    {
     "name": "stdout",
     "output_type": "stream",
     "text": [
      "WARNING:tensorflow:Skipping loading weights for layer #322 (named block6d_project_bn) due to mismatch in shape for weight block6d_project_bn/moving_mean:0. Weight expects shape (192,). Received saved weight with shape (232,)\n"
     ]
    },
    {
     "name": "stderr",
     "output_type": "stream",
     "text": [
      "WARNING:tensorflow:Skipping loading weights for layer #322 (named block6d_project_bn) due to mismatch in shape for weight block6d_project_bn/moving_mean:0. Weight expects shape (192,). Received saved weight with shape (232,)\n"
     ]
    },
    {
     "name": "stdout",
     "output_type": "stream",
     "text": [
      "WARNING:tensorflow:Skipping loading weights for layer #322 (named block6d_project_bn) due to mismatch in shape for weight block6d_project_bn/moving_variance:0. Weight expects shape (192,). Received saved weight with shape (232,)\n"
     ]
    },
    {
     "name": "stderr",
     "output_type": "stream",
     "text": [
      "WARNING:tensorflow:Skipping loading weights for layer #322 (named block6d_project_bn) due to mismatch in shape for weight block6d_project_bn/moving_variance:0. Weight expects shape (192,). Received saved weight with shape (232,)\n"
     ]
    },
    {
     "name": "stdout",
     "output_type": "stream",
     "text": [
      "WARNING:tensorflow:Skipping loading weights for layer #355 (named block7a_expand_conv) due to mismatch in shape for weight block7a_expand_conv/kernel:0. Weight expects shape (1, 1, 192, 1152). Received saved weight with shape (1392, 232, 1, 1)\n"
     ]
    },
    {
     "name": "stderr",
     "output_type": "stream",
     "text": [
      "WARNING:tensorflow:Skipping loading weights for layer #355 (named block7a_expand_conv) due to mismatch in shape for weight block7a_expand_conv/kernel:0. Weight expects shape (1, 1, 192, 1152). Received saved weight with shape (1392, 232, 1, 1)\n"
     ]
    },
    {
     "name": "stdout",
     "output_type": "stream",
     "text": [
      "WARNING:tensorflow:Skipping loading weights for layer #356 (named block7a_expand_bn) due to mismatch in shape for weight block7a_expand_bn/gamma:0. Weight expects shape (1152,). Received saved weight with shape (1392,)\n"
     ]
    },
    {
     "name": "stderr",
     "output_type": "stream",
     "text": [
      "WARNING:tensorflow:Skipping loading weights for layer #356 (named block7a_expand_bn) due to mismatch in shape for weight block7a_expand_bn/gamma:0. Weight expects shape (1152,). Received saved weight with shape (1392,)\n"
     ]
    },
    {
     "name": "stdout",
     "output_type": "stream",
     "text": [
      "WARNING:tensorflow:Skipping loading weights for layer #356 (named block7a_expand_bn) due to mismatch in shape for weight block7a_expand_bn/beta:0. Weight expects shape (1152,). Received saved weight with shape (1392,)\n"
     ]
    },
    {
     "name": "stderr",
     "output_type": "stream",
     "text": [
      "WARNING:tensorflow:Skipping loading weights for layer #356 (named block7a_expand_bn) due to mismatch in shape for weight block7a_expand_bn/beta:0. Weight expects shape (1152,). Received saved weight with shape (1392,)\n"
     ]
    },
    {
     "name": "stdout",
     "output_type": "stream",
     "text": [
      "WARNING:tensorflow:Skipping loading weights for layer #356 (named block7a_expand_bn) due to mismatch in shape for weight block7a_expand_bn/moving_mean:0. Weight expects shape (1152,). Received saved weight with shape (1392,)\n"
     ]
    },
    {
     "name": "stderr",
     "output_type": "stream",
     "text": [
      "WARNING:tensorflow:Skipping loading weights for layer #356 (named block7a_expand_bn) due to mismatch in shape for weight block7a_expand_bn/moving_mean:0. Weight expects shape (1152,). Received saved weight with shape (1392,)\n"
     ]
    },
    {
     "name": "stdout",
     "output_type": "stream",
     "text": [
      "WARNING:tensorflow:Skipping loading weights for layer #356 (named block7a_expand_bn) due to mismatch in shape for weight block7a_expand_bn/moving_variance:0. Weight expects shape (1152,). Received saved weight with shape (1392,)\n"
     ]
    },
    {
     "name": "stderr",
     "output_type": "stream",
     "text": [
      "WARNING:tensorflow:Skipping loading weights for layer #356 (named block7a_expand_bn) due to mismatch in shape for weight block7a_expand_bn/moving_variance:0. Weight expects shape (1152,). Received saved weight with shape (1392,)\n"
     ]
    },
    {
     "name": "stdout",
     "output_type": "stream",
     "text": [
      "WARNING:tensorflow:Skipping loading weights for layer #358 (named block7a_dwconv) due to mismatch in shape for weight block7a_dwconv/depthwise_kernel:0. Weight expects shape (3, 3, 1152, 1). Received saved weight with shape (3, 3, 1392, 1)\n"
     ]
    },
    {
     "name": "stderr",
     "output_type": "stream",
     "text": [
      "WARNING:tensorflow:Skipping loading weights for layer #358 (named block7a_dwconv) due to mismatch in shape for weight block7a_dwconv/depthwise_kernel:0. Weight expects shape (3, 3, 1152, 1). Received saved weight with shape (3, 3, 1392, 1)\n"
     ]
    },
    {
     "name": "stdout",
     "output_type": "stream",
     "text": [
      "WARNING:tensorflow:Skipping loading weights for layer #359 (named block7a_bn) due to mismatch in shape for weight block7a_bn/gamma:0. Weight expects shape (1152,). Received saved weight with shape (1392,)\n"
     ]
    },
    {
     "name": "stderr",
     "output_type": "stream",
     "text": [
      "WARNING:tensorflow:Skipping loading weights for layer #359 (named block7a_bn) due to mismatch in shape for weight block7a_bn/gamma:0. Weight expects shape (1152,). Received saved weight with shape (1392,)\n"
     ]
    },
    {
     "name": "stdout",
     "output_type": "stream",
     "text": [
      "WARNING:tensorflow:Skipping loading weights for layer #359 (named block7a_bn) due to mismatch in shape for weight block7a_bn/beta:0. Weight expects shape (1152,). Received saved weight with shape (1392,)\n"
     ]
    },
    {
     "name": "stderr",
     "output_type": "stream",
     "text": [
      "WARNING:tensorflow:Skipping loading weights for layer #359 (named block7a_bn) due to mismatch in shape for weight block7a_bn/beta:0. Weight expects shape (1152,). Received saved weight with shape (1392,)\n"
     ]
    },
    {
     "name": "stdout",
     "output_type": "stream",
     "text": [
      "WARNING:tensorflow:Skipping loading weights for layer #359 (named block7a_bn) due to mismatch in shape for weight block7a_bn/moving_mean:0. Weight expects shape (1152,). Received saved weight with shape (1392,)\n"
     ]
    },
    {
     "name": "stderr",
     "output_type": "stream",
     "text": [
      "WARNING:tensorflow:Skipping loading weights for layer #359 (named block7a_bn) due to mismatch in shape for weight block7a_bn/moving_mean:0. Weight expects shape (1152,). Received saved weight with shape (1392,)\n"
     ]
    },
    {
     "name": "stdout",
     "output_type": "stream",
     "text": [
      "WARNING:tensorflow:Skipping loading weights for layer #359 (named block7a_bn) due to mismatch in shape for weight block7a_bn/moving_variance:0. Weight expects shape (1152,). Received saved weight with shape (1392,)\n"
     ]
    },
    {
     "name": "stderr",
     "output_type": "stream",
     "text": [
      "WARNING:tensorflow:Skipping loading weights for layer #359 (named block7a_bn) due to mismatch in shape for weight block7a_bn/moving_variance:0. Weight expects shape (1152,). Received saved weight with shape (1392,)\n"
     ]
    },
    {
     "name": "stdout",
     "output_type": "stream",
     "text": [
      "WARNING:tensorflow:Skipping loading weights for layer #363 (named block7a_se_reduce) due to mismatch in shape for weight block7a_se_reduce/kernel:0. Weight expects shape (1, 1, 1152, 48). Received saved weight with shape (58, 1392, 1, 1)\n"
     ]
    },
    {
     "name": "stderr",
     "output_type": "stream",
     "text": [
      "WARNING:tensorflow:Skipping loading weights for layer #363 (named block7a_se_reduce) due to mismatch in shape for weight block7a_se_reduce/kernel:0. Weight expects shape (1, 1, 1152, 48). Received saved weight with shape (58, 1392, 1, 1)\n"
     ]
    },
    {
     "name": "stdout",
     "output_type": "stream",
     "text": [
      "WARNING:tensorflow:Skipping loading weights for layer #363 (named block7a_se_reduce) due to mismatch in shape for weight block7a_se_reduce/bias:0. Weight expects shape (48,). Received saved weight with shape (58,)\n"
     ]
    },
    {
     "name": "stderr",
     "output_type": "stream",
     "text": [
      "WARNING:tensorflow:Skipping loading weights for layer #363 (named block7a_se_reduce) due to mismatch in shape for weight block7a_se_reduce/bias:0. Weight expects shape (48,). Received saved weight with shape (58,)\n"
     ]
    },
    {
     "name": "stdout",
     "output_type": "stream",
     "text": [
      "WARNING:tensorflow:Skipping loading weights for layer #364 (named block7a_se_expand) due to mismatch in shape for weight block7a_se_expand/kernel:0. Weight expects shape (1, 1, 48, 1152). Received saved weight with shape (1392, 58, 1, 1)\n"
     ]
    },
    {
     "name": "stderr",
     "output_type": "stream",
     "text": [
      "WARNING:tensorflow:Skipping loading weights for layer #364 (named block7a_se_expand) due to mismatch in shape for weight block7a_se_expand/kernel:0. Weight expects shape (1, 1, 48, 1152). Received saved weight with shape (1392, 58, 1, 1)\n"
     ]
    },
    {
     "name": "stdout",
     "output_type": "stream",
     "text": [
      "WARNING:tensorflow:Skipping loading weights for layer #364 (named block7a_se_expand) due to mismatch in shape for weight block7a_se_expand/bias:0. Weight expects shape (1152,). Received saved weight with shape (1392,)\n"
     ]
    },
    {
     "name": "stderr",
     "output_type": "stream",
     "text": [
      "WARNING:tensorflow:Skipping loading weights for layer #364 (named block7a_se_expand) due to mismatch in shape for weight block7a_se_expand/bias:0. Weight expects shape (1152,). Received saved weight with shape (1392,)\n"
     ]
    },
    {
     "name": "stdout",
     "output_type": "stream",
     "text": [
      "WARNING:tensorflow:Skipping loading weights for layer #366 (named block7a_project_conv) due to mismatch in shape for weight block7a_project_conv/kernel:0. Weight expects shape (1, 1, 1152, 320). Received saved weight with shape (384, 1392, 1, 1)\n"
     ]
    },
    {
     "name": "stderr",
     "output_type": "stream",
     "text": [
      "WARNING:tensorflow:Skipping loading weights for layer #366 (named block7a_project_conv) due to mismatch in shape for weight block7a_project_conv/kernel:0. Weight expects shape (1, 1, 1152, 320). Received saved weight with shape (384, 1392, 1, 1)\n"
     ]
    },
    {
     "name": "stdout",
     "output_type": "stream",
     "text": [
      "WARNING:tensorflow:Skipping loading weights for layer #367 (named block7a_project_bn) due to mismatch in shape for weight block7a_project_bn/gamma:0. Weight expects shape (320,). Received saved weight with shape (384,)\n"
     ]
    },
    {
     "name": "stderr",
     "output_type": "stream",
     "text": [
      "WARNING:tensorflow:Skipping loading weights for layer #367 (named block7a_project_bn) due to mismatch in shape for weight block7a_project_bn/gamma:0. Weight expects shape (320,). Received saved weight with shape (384,)\n"
     ]
    },
    {
     "name": "stdout",
     "output_type": "stream",
     "text": [
      "WARNING:tensorflow:Skipping loading weights for layer #367 (named block7a_project_bn) due to mismatch in shape for weight block7a_project_bn/beta:0. Weight expects shape (320,). Received saved weight with shape (384,)\n"
     ]
    },
    {
     "name": "stderr",
     "output_type": "stream",
     "text": [
      "WARNING:tensorflow:Skipping loading weights for layer #367 (named block7a_project_bn) due to mismatch in shape for weight block7a_project_bn/beta:0. Weight expects shape (320,). Received saved weight with shape (384,)\n"
     ]
    },
    {
     "name": "stdout",
     "output_type": "stream",
     "text": [
      "WARNING:tensorflow:Skipping loading weights for layer #367 (named block7a_project_bn) due to mismatch in shape for weight block7a_project_bn/moving_mean:0. Weight expects shape (320,). Received saved weight with shape (384,)\n"
     ]
    },
    {
     "name": "stderr",
     "output_type": "stream",
     "text": [
      "WARNING:tensorflow:Skipping loading weights for layer #367 (named block7a_project_bn) due to mismatch in shape for weight block7a_project_bn/moving_mean:0. Weight expects shape (320,). Received saved weight with shape (384,)\n"
     ]
    },
    {
     "name": "stdout",
     "output_type": "stream",
     "text": [
      "WARNING:tensorflow:Skipping loading weights for layer #367 (named block7a_project_bn) due to mismatch in shape for weight block7a_project_bn/moving_variance:0. Weight expects shape (320,). Received saved weight with shape (384,)\n"
     ]
    },
    {
     "name": "stderr",
     "output_type": "stream",
     "text": [
      "WARNING:tensorflow:Skipping loading weights for layer #367 (named block7a_project_bn) due to mismatch in shape for weight block7a_project_bn/moving_variance:0. Weight expects shape (320,). Received saved weight with shape (384,)\n"
     ]
    },
    {
     "name": "stdout",
     "output_type": "stream",
     "text": [
      "WARNING:tensorflow:Skipping loading weights for layer #383 (named top_conv) due to mismatch in shape for weight top_conv/kernel:0. Weight expects shape (1, 1, 320, 1280). Received saved weight with shape (1536, 384, 1, 1)\n"
     ]
    },
    {
     "name": "stderr",
     "output_type": "stream",
     "text": [
      "WARNING:tensorflow:Skipping loading weights for layer #383 (named top_conv) due to mismatch in shape for weight top_conv/kernel:0. Weight expects shape (1, 1, 320, 1280). Received saved weight with shape (1536, 384, 1, 1)\n"
     ]
    },
    {
     "name": "stdout",
     "output_type": "stream",
     "text": [
      "WARNING:tensorflow:Skipping loading weights for layer #384 (named top_bn) due to mismatch in shape for weight top_bn/gamma:0. Weight expects shape (1280,). Received saved weight with shape (1536,)\n"
     ]
    },
    {
     "name": "stderr",
     "output_type": "stream",
     "text": [
      "WARNING:tensorflow:Skipping loading weights for layer #384 (named top_bn) due to mismatch in shape for weight top_bn/gamma:0. Weight expects shape (1280,). Received saved weight with shape (1536,)\n"
     ]
    },
    {
     "name": "stdout",
     "output_type": "stream",
     "text": [
      "WARNING:tensorflow:Skipping loading weights for layer #384 (named top_bn) due to mismatch in shape for weight top_bn/beta:0. Weight expects shape (1280,). Received saved weight with shape (1536,)\n"
     ]
    },
    {
     "name": "stderr",
     "output_type": "stream",
     "text": [
      "WARNING:tensorflow:Skipping loading weights for layer #384 (named top_bn) due to mismatch in shape for weight top_bn/beta:0. Weight expects shape (1280,). Received saved weight with shape (1536,)\n"
     ]
    },
    {
     "name": "stdout",
     "output_type": "stream",
     "text": [
      "WARNING:tensorflow:Skipping loading weights for layer #384 (named top_bn) due to mismatch in shape for weight top_bn/moving_mean:0. Weight expects shape (1280,). Received saved weight with shape (1536,)\n"
     ]
    },
    {
     "name": "stderr",
     "output_type": "stream",
     "text": [
      "WARNING:tensorflow:Skipping loading weights for layer #384 (named top_bn) due to mismatch in shape for weight top_bn/moving_mean:0. Weight expects shape (1280,). Received saved weight with shape (1536,)\n"
     ]
    },
    {
     "name": "stdout",
     "output_type": "stream",
     "text": [
      "WARNING:tensorflow:Skipping loading weights for layer #384 (named top_bn) due to mismatch in shape for weight top_bn/moving_variance:0. Weight expects shape (1280,). Received saved weight with shape (1536,)\n"
     ]
    },
    {
     "name": "stderr",
     "output_type": "stream",
     "text": [
      "WARNING:tensorflow:Skipping loading weights for layer #384 (named top_bn) due to mismatch in shape for weight top_bn/moving_variance:0. Weight expects shape (1280,). Received saved weight with shape (1536,)\n"
     ]
    },
    {
     "name": "stdout",
     "output_type": "stream",
     "text": [
      "WARNING:tensorflow:Compiled the loaded model, but the compiled metrics have yet to be built. `model.compile_metrics` will be empty until you train or evaluate the model.\n"
     ]
    },
    {
     "name": "stderr",
     "output_type": "stream",
     "text": [
      "WARNING:tensorflow:Compiled the loaded model, but the compiled metrics have yet to be built. `model.compile_metrics` will be empty until you train or evaluate the model.\n"
     ]
    }
   ],
   "source": [
    "from tensorflow.keras.applications import EfficientNetB0\n",
    "from tensorflow.keras.models import Model\n",
    "from tensorflow.keras.layers import GlobalAveragePooling2D, Dense\n",
    "\n",
    "num_classes = 34\n",
    "\n",
    "# Build model\n",
    "base_model = EfficientNetB0(weights=None, include_top=False, input_shape=(224, 224, 3))\n",
    "x = GlobalAveragePooling2D()(base_model.output)\n",
    "output = Dense(num_classes, activation='softmax')(x)\n",
    "model = Model(inputs=base_model.input, outputs=output)\n",
    "\n",
    "# Load weights\n",
    "model.load_weights(\"EfficientNet_weights.h5\", by_name=True, skip_mismatch=True)\n",
    "\n",
    "# Save as Keras V3 model\n",
    "model.save(\"../models/EfficientNet_full_model.keras\")\n"
   ]
  },
  {
   "cell_type": "code",
   "execution_count": null,
   "id": "e89152bb",
   "metadata": {},
   "outputs": [],
   "source": []
  }
 ],
 "metadata": {
  "kernelspec": {
   "display_name": "tf",
   "language": "python",
   "name": "python3"
  },
  "language_info": {
   "codemirror_mode": {
    "name": "ipython",
    "version": 3
   },
   "file_extension": ".py",
   "mimetype": "text/x-python",
   "name": "python",
   "nbconvert_exporter": "python",
   "pygments_lexer": "ipython3",
   "version": "3.10.18"
  }
 },
 "nbformat": 4,
 "nbformat_minor": 5
}
